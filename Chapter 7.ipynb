{
 "cells": [
  {
   "cell_type": "markdown",
   "id": "pleasant-stretch",
   "metadata": {},
   "source": [
    "# Advanced Web Scraping and Data Gathering"
   ]
  },
  {
   "cell_type": "markdown",
   "id": "supposed-hospital",
   "metadata": {},
   "source": [
    "### Using the Requests Library to Get a Response from the Wikipedia Home Page"
   ]
  },
  {
   "cell_type": "code",
   "execution_count": 1,
   "id": "stuck-entrance",
   "metadata": {},
   "outputs": [],
   "source": [
    "# import the requests library\n",
    "import requests"
   ]
  },
  {
   "cell_type": "code",
   "execution_count": 2,
   "id": "cardiovascular-reform",
   "metadata": {},
   "outputs": [],
   "source": [
    "# Assign the home page URL to a variable\n",
    "wiki_home = \"https://en.wikipedia.org/wiki/Main_Page\""
   ]
  },
  {
   "cell_type": "code",
   "execution_count": 3,
   "id": "approved-studio",
   "metadata": {},
   "outputs": [
    {
     "data": {
      "text/plain": [
       "<Response [200]>"
      ]
     },
     "execution_count": 3,
     "metadata": {},
     "output_type": "execute_result"
    }
   ],
   "source": [
    "# Get a response from this page\n",
    "response = requests.get(wiki_home)\n",
    "response"
   ]
  },
  {
   "cell_type": "markdown",
   "id": "previous-discrimination",
   "metadata": {},
   "source": [
    "### Checking the Status of the Web Request"
   ]
  },
  {
   "cell_type": "code",
   "execution_count": 4,
   "id": "insured-sodium",
   "metadata": {},
   "outputs": [],
   "source": [
    "# create a status_check function\n",
    "def status_check(r):\n",
    "    if r.status_code == 200:\n",
    "        print(\"Success\")\n",
    "        return 1\n",
    "    else:\n",
    "        print(\"Failed\")\n",
    "        return -1"
   ]
  },
  {
   "cell_type": "code",
   "execution_count": 5,
   "id": "standing-series",
   "metadata": {},
   "outputs": [
    {
     "name": "stdout",
     "output_type": "stream",
     "text": [
      "Success\n"
     ]
    },
    {
     "data": {
      "text/plain": [
       "1"
      ]
     },
     "execution_count": 5,
     "metadata": {},
     "output_type": "execute_result"
    }
   ],
   "source": [
    "# Pass the response object to the status_check function\n",
    "status_check(response)"
   ]
  },
  {
   "cell_type": "markdown",
   "id": "thick-pleasure",
   "metadata": {},
   "source": [
    "### Decoding the Contents of a Response and Checking Its Length"
   ]
  },
  {
   "cell_type": "code",
   "execution_count": 6,
   "id": "owned-postcard",
   "metadata": {},
   "outputs": [],
   "source": [
    "# Write a utility function to decode the contents of the response\n",
    "def encoding_check(r):\n",
    "    return r.encoding\n",
    "\n",
    "def decode_content(r, encoding):\n",
    "    return r.content.decode(encoding)"
   ]
  },
  {
   "cell_type": "code",
   "execution_count": 7,
   "id": "historical-separate",
   "metadata": {},
   "outputs": [],
   "source": [
    "contents = decode_content(response, encoding_check(response))"
   ]
  },
  {
   "cell_type": "code",
   "execution_count": 8,
   "id": "dynamic-welcome",
   "metadata": {},
   "outputs": [
    {
     "data": {
      "text/plain": [
       "str"
      ]
     },
     "execution_count": 8,
     "metadata": {},
     "output_type": "execute_result"
    }
   ],
   "source": [
    "# Check the type of the decoded object\n",
    "type(contents)"
   ]
  },
  {
   "cell_type": "code",
   "execution_count": 9,
   "id": "bigger-christmas",
   "metadata": {},
   "outputs": [
    {
     "data": {
      "text/plain": [
       "84245"
      ]
     },
     "execution_count": 9,
     "metadata": {},
     "output_type": "execute_result"
    }
   ],
   "source": [
    "# Check the length of the object\n",
    "len(contents)"
   ]
  },
  {
   "cell_type": "code",
   "execution_count": 10,
   "id": "confirmed-connection",
   "metadata": {},
   "outputs": [
    {
     "data": {
      "text/plain": [
       "'<!DOCTYPE html>\\n<html class=\"client-nojs\" lang=\"en\" dir=\"ltr\">\\n<head>\\n<meta charset=\"UTF-8\"/>\\n<title>Wikipedia, the free encyclopedia</title>\\n<script>document.documentElement.className=\"client-js\";RLCONF={\"wgBreakFrames\":!1,\"wgSeparatorTransformTable\":[\"\",\"\"],\"wgDigitTransformTable\":[\"\",\"\"],\"wgDefaultDateFormat\":\"dmy\",\"wgMonthNames\":[\"\",\"January\",\"February\",\"March\",\"April\",\"May\",\"June\",\"July\",\"August\",\"September\",\"October\",\"November\",\"December\"],\"wgRequestId\":\"2a0f3101-89fc-409e-88c1-18e1b21e6623\",\"wgCSPNonce\":!1,\"wgCanonicalNamespace\":\"\",\"wgCanonicalSpecialPageName\":!1,\"wgNamespaceNumber\":0,\"wgPageName\":\"Main_Page\",\"wgTitle\":\"Main Page\",\"wgCurRevisionId\":1004593520,\"wgRevisionId\":1004593520,\"wgArticleId\":15580374,\"wgIsArticle\":!0,\"wgIsRedirect\":!1,\"wgAction\":\"view\",\"wgUserName\":null,\"wgUserGroups\":[\"*\"],\"wgCategories\":[],\"wgPageContentLanguage\":\"en\",\"wgPageContentModel\":\"wikitext\",\"wgRelevantPageName\":\"Main_Page\",\"wgRelevantArticleId\":15580374,\"wgIsProbablyEditable\":!1,\"wgRelevantPageIsProbablyEditable\":!1,\"wgRestrictionEdit\":[\"sysop\"],\"wgRestrictionMove\":[\"sysop\"],\"wgIsMainPage\":!0,\"wgFlaggedRevsParams\":{\\n\"tags\":{\"status\":{\"levels\":-1}}},\"wgMediaViewerOnClick\":!0,\"wgMediaViewerEnabledByDefault\":!0,\"wgPopupsFlags\":10,\"wgVisualEditor\":{\"pageLanguageCode\":\"en\",\"pageLanguageDir\":\"ltr\",\"pageVariantFallbacks\":\"en\"},\"wgMFDisplayWikibaseDescriptions\":{\"search\":!0,\"nearby\":!0,\"watchlist\":!0,\"tagline\":!1},\"wgWMESchemaEditAttemptStepOversample\":!1,\"wgULSCurrentAutonym\":\"English\",\"wgNoticeProject\":\"wikipedia\",\"wgCentralAuthMobileDomain\":!1,\"wgEditSubmitButtonLabelPublish\":!0,\"wgULSPosition\":\"interlanguage\",\"wgULSisCompactLinksEnabled\":!0,\"wgGENewcomerTasksGuidanceEnabled\":!0,\"wgGEAskQuestionEnabled\":!1,\"wgGELinkRecommendationsFrontendEnabled\":!1,\"wgWikibaseItemId\":\"Q5296\"};RLSTATE={\"ext.globalCssJs.user.styles\":\"ready\",\"site.styles\":\"ready\",\"noscript\":\"ready\",\"user.styles\":\"ready\",\"ext.globalCssJs.user\":\"ready\",\"user\":\"ready\",\"user.options\":\"loading\",\"skins.vector.styles.legacy\":\"ready\",\"ext.visualEditor.desktopArticleTarget.noscript\":\"ready\",\"ext.uls.interlanguage\":\\n\"ready\",\"ext.wikimediaBadges\":\"ready\"};RLPAGEMODULES=[\"site\",\"mediawiki.page.ready\",\"skins.vector.legacy.js\",\"ext.gadget.ReferenceTooltips\",\"ext.gadget.charinsert\",\"ext.gadget.extra-toolbar-buttons\",\"ext.gadget.refToolbar\",\"ext.gadget.switcher\",\"ext.centralauth.centralautologin\",\"mmv.head\",\"mmv.bootstrap.autostart\",\"ext.popups\",\"ext.visualEditor.desktopArticleTarget.init\",\"ext.visualEditor.targetLoader\",\"ext.eventLogging\",\"ext.wikimediaEvents\",\"ext.navigationTiming\",\"ext.uls.interface\",\"ext.cx.eventlogging.campaigns\",\"ext.centralNotice.geoIP\",\"ext.centralNotice.startUp\",\"ext.growthExperiments.SuggestedEditSession\"];</script>\\n<script>(RLQ=window.RLQ||[]).push(function(){mw.loader.implement(\"user.options@1hzgi\",function($,jQuery,require,module){/*@nomin*/mw.user.tokens.set({\"patrolToken\":\"+\\\\\\\\\",\"watchToken\":\"+\\\\\\\\\",\"csrfToken\":\"+\\\\\\\\\"});\\n});});</script>\\n<link rel=\"stylesheet\" href=\"/w/load.php?lang=en&amp;modules=ext.uls.interlanguage%7Cext.visualEditor.desktopArticleTarget.noscript%7Cext.wikimediaBadges%7Cskins.vector.styles.legacy&amp;only=styles&amp;skin=vector\"/>\\n<script async=\"\" src=\"/w/load.php?lang=en&amp;modules=startup&amp;only=scripts&amp;raw=1&amp;skin=vector\"></script>\\n<meta name=\"ResourceLoaderDynamicStyles\" content=\"\"/>\\n<link rel=\"stylesheet\" href=\"/w/load.php?lang=en&amp;modules=site.styles&amp;only=styles&amp;skin=vector\"/>\\n<meta name=\"generator\" content=\"MediaWiki 1.37.0-wmf.12\"/>\\n<meta name=\"referrer\" content=\"origin\"/>\\n<meta name=\"referrer\" content=\"origin-when-crossorigin\"/>\\n<meta name=\"referrer\" content=\"origin-when-cross-origin\"/>\\n<meta property=\"og:image\" content=\"https://upload.wikimedia.org/wikipedia/commons/thumb/0/02/Pseudechis_porphyriacus_%2835307320466%29.jpg/1200px-Pseudechis_porphyriacus_%2835307320466%29.jpg\"/>\\n<meta property=\"og:title\" content=\"Wikipedia, the free encyclopedia\"/>\\n<meta property=\"og:type\" content=\"website\"/>\\n<link rel=\"preconnect\" href=\"//upload.wikimedia.org\"/>\\n<link rel=\"alternate\" media=\"only screen and (max-width: 720px)\" href=\"//en.m.wikipedia.org/wiki/Main_Page\"/>\\n<link rel=\"alternate\" type=\"application/atom+xml\" title=\"Wikipedia picture of the day feed\" href=\"/w/api.php?action=featuredfeed&amp;feed=potd&amp;feedformat=atom\"/>\\n<link rel=\"alternate\" type=\"application/atom+xml\" title=\"Wikipedia featured articles feed\" href=\"/w/api.php?action=featuredfeed&amp;feed=featured&amp;feedformat=atom\"/>\\n<link rel=\"alternate\" type=\"application/atom+xml\" title=\"Wikipedia &quot;On this day...&quot; feed\" href=\"/w/api.php?action=featuredfeed&amp;feed=onthisday&amp;feedformat=atom\"/>\\n<link rel=\"apple-touch-icon\" href=\"/static/apple-touch/wikipedia.png\"/>\\n<link rel=\"shortcut icon\" href=\"/static/favicon/wikipedia.ico\"/>\\n<link rel=\"search\" type=\"application/opensearchdescription+xml\" href=\"/w/opensearch_desc.php\" title=\"Wikipedia (en)\"/>\\n<link rel=\"EditURI\" type=\"application/rsd+xml\" href=\"//en.wikipedia.org/w/api.php?action=rsd\"/>\\n<link rel=\"license\" href=\"//creativecommons.org/licenses/by-sa/3.0/\"/>\\n<link rel=\"canonical\" href=\"https://en.wikipedia.org/wiki/Main_Page\"/>\\n<link rel=\"dns-prefetch\" href=\"//login.wikimedia.org\"/>\\n<link rel=\"dns-prefetch\" href=\"//meta.wikimedia.org\" />\\n</head>\\n<body class=\"mediawiki ltr sitedir-ltr mw-hide-empty-elt ns-0 ns-subject page-Main_Page rootpage-Main_Page skin-vector action-view skin-vector-legacy\"><div id=\"mw-page-base\" class=\"noprint\"></div>\\n<div id=\"mw-head-base\" class=\"noprint\"></div>\\n<div id=\"content\" class=\"mw-body\" role=\"main\">\\n\\t<a id=\"top\"></a>\\n\\t<div id=\"siteNotice\"><!-- CentralNotice --></div>\\n\\t<div class=\"mw-indicators\">\\n\\t</div>\\n\\t<h1 id=\"firstHeading\" class=\"firstHeading\" >Main Page</h1>\\n\\t<div id=\"bodyContent\" class=\"vector-body\">\\n\\t\\t<div id=\"siteSub\" class=\"noprint\">From Wikipedia, the free encyclopedia</div>\\n\\t\\t<div id=\"contentSub\"></div>\\n\\t\\t<div id=\"contentSub2\"></div>\\n\\t\\t\\n\\t\\t<div id=\"jump-to-nav\"></div>\\n\\t\\t<a class=\"mw-jump-link\" href=\"#mw-head\">Jump to navigation</a>\\n\\t\\t<a class=\"mw-jump-link\" href=\"#searchInput\">Jump to search</a>\\n\\t\\t<div id=\"mw-content-text\" class=\"mw-body-content mw-content-ltr\" lang=\"en\" dir=\"ltr\"><!-- parser cache is expired, sending anyway due to pool contention-->\\n<div class=\"mw-parser-output\"><style data-mw-deduplicate=\"TemplateStyles:r1004580458\">.mw-parser-output #mp-topbanner{position:relative;box-sizing:border-box;min-width:47em;border-color:#ddd;background-color:#f9f9f9;white-space:nowrap}.mw-parser-output .mp-bordered,.mw-parser-output .mp-h2,body.skin-timeless .mw-parser-output .mp-h2{border-width:1px;border-style:solid}.mw-parser-output #mp-topbanner,.mw-parser-output .mp-h2,.mw-parser-output #mp-left{color:#000}.mw-parser-output #mp-welcomecount{margin:0.4em;width:22em;text-align:center}.mw-parser-output #mp-welcome{font-size:162%;padding:0.1em}.mw-parser-output #mp-free{font-size:95%}.mw-parser-output #articlecount{font-size:85%}.mw-parser-output #mp-portals{position:absolute;right:-1em;top:50%;margin-top:-2.4em;width:38%;min-width:25em;font-size:95%}.mw-parser-output #mp-portals li{position:absolute;left:0;top:0}.mw-parser-output #mp-portals .portal-hmid{left:33%}.mw-parser-output #mp-portals .portal-hright{left:66%}.mw-parser-output #mp-portals .portal-vmid{top:1.6em}.mw-parser-output #mp-portals .portal-vbot{top:3.2em}.mw-parser-output #mp-portals li:last-child{font-weight:bold}.mw-parser-output #mp-banner{margin-top:4px;padding:0.5em;background-color:#fffaf5;border-color:#f2e0ce}.mw-parser-output .mp-h2,body.skin-timeless .mw-parser-output .mp-h2{margin:0.5em;padding:0.2em 0.4em;font-size:120%;font-weight:bold;font-family:inherit}.mw-parser-output h2.mp-h2::after{border:none}.mw-parser-output .mp-later{font-size:85%;font-weight:normal}.mw-parser-output #mp-upper{width:100%;margin-top:4px;margin-bottom:0;border-spacing:0;border-collapse:separate}.mw-parser-output #mp-upper .mid-table{border-color:transparent}.mw-parser-output #mp-left{width:55%;border-color:#cef2e0;background:#f5fffa}.mw-parser-output #mp-right{width:45%;border-color:#cedff2;background:#f5faff}.mw-parser-output #mp-left,.mw-parser-output #mp-right{padding:0;vertical-align:top}.mw-parser-output #mp-left .mp-h2{background:#cef2e0;border-color:#a3bfb1}.mw-parser-output #mp-right .mp-h2{background:#cedff2;border-color:#a3b0bf}.mw-parser-output #mp-tfa,.mw-parser-output #mp-dyk,.mw-parser-output #mp-itn,.mw-parser-output #mp-otd,.mw-parser-output #mp-other-lower>div{padding:0.1em 0.6em}.mw-parser-output #mp-dyk-h2,.mw-parser-output #mp-otd-h2{clear:both}.mw-parser-output #mp-middle{margin-top:4px;border-color:#f2cedd;background:#fff5fa}.mw-parser-output #mp-middle,.mw-parser-output #mp-lower,.mw-parser-output #mp-other-lower{overflow:auto}.mw-parser-output #mp-tfl-h2{background:#f2cedd;border-color:#bfa3af}.mw-parser-output #mp-tfl{padding:0.3em 0.7em}.mw-parser-output #mp-lower{margin-top:4px;border-color:#ddcef2;background:#faf5ff}.mw-parser-output #mp-tfp-h2{background:#ddcef2;border-color:#afa3bf}.mw-parser-output #mp-tfp{margin:0.1em 0.4em 0.6em}.mw-parser-output #mp-other-lower{padding:0;border-color:#e2e2e2;margin-top:4px}.mw-parser-output #mp-dyk,.mw-parser-output #mp-otd,.mw-parser-output #mp-other-lower{padding-bottom:0.5em}.mw-parser-output #mp-other-lower .mp-h2{background:#eee;border-color:#ddd;color:#222}@media(max-width:875px){body.skin--responsive .mw-parser-output #mp-welcomecount{width:auto}body.skin--responsive .mw-parser-output #mp-topbanner{min-width:0;white-space:normal}body.skin--responsive .mw-parser-output #mp-portals{position:static;width:auto;min-width:0;text-align:center;border-top:1px solid #ddd;padding:0.4em 0;margin:0 0.4em}body.skin--responsive .mw-parser-output #mp-portals li{position:static;display:inline;padding:0 5px;white-space:nowrap}body.skin--responsive .mw-parser-output table,body.skin--responsive .mw-parser-output tr,body.skin--responsive .mw-parser-output td,body.skin--responsive .mw-parser-output tbody{display:block!important;width:100%!im'"
      ]
     },
     "execution_count": 10,
     "metadata": {},
     "output_type": "execute_result"
    }
   ],
   "source": [
    "# print the first 10,000 characters of this string\n",
    "contents[:10000]"
   ]
  },
  {
   "cell_type": "markdown",
   "id": "wrong-skill",
   "metadata": {},
   "source": [
    "### Extracting Readable Text from a BeautifulSoup Object"
   ]
  },
  {
   "cell_type": "code",
   "execution_count": 11,
   "id": "professional-landing",
   "metadata": {},
   "outputs": [
    {
     "data": {
      "text/plain": [
       "<!DOCTYPE html>\n",
       "\n",
       "<html class=\"client-nojs\" dir=\"ltr\" lang=\"en\">\n",
       "<head>\n",
       "<meta charset=\"utf-8\"/>\n",
       "<title>Wikipedia, the free encyclopedia</title>\n",
       "<script>document.documentElement.className=\"client-js\";RLCONF={\"wgBreakFrames\":!1,\"wgSeparatorTransformTable\":[\"\",\"\"],\"wgDigitTransformTable\":[\"\",\"\"],\"wgDefaultDateFormat\":\"dmy\",\"wgMonthNames\":[\"\",\"January\",\"February\",\"March\",\"April\",\"May\",\"June\",\"July\",\"August\",\"September\",\"October\",\"November\",\"December\"],\"wgRequestId\":\"2a0f3101-89fc-409e-88c1-18e1b21e6623\",\"wgCSPNonce\":!1,\"wgCanonicalNamespace\":\"\",\"wgCanonicalSpecialPageName\":!1,\"wgNamespaceNumber\":0,\"wgPageName\":\"Main_Page\",\"wgTitle\":\"Main Page\",\"wgCurRevisionId\":1004593520,\"wgRevisionId\":1004593520,\"wgArticleId\":15580374,\"wgIsArticle\":!0,\"wgIsRedirect\":!1,\"wgAction\":\"view\",\"wgUserName\":null,\"wgUserGroups\":[\"*\"],\"wgCategories\":[],\"wgPageContentLanguage\":\"en\",\"wgPageContentModel\":\"wikitext\",\"wgRelevantPageName\":\"Main_Page\",\"wgRelevantArticleId\":15580374,\"wgIsProbablyEditable\":!1,\"wgRelevantPageIsProbablyEditable\":!1,\"wgRestrictionEdit\":[\"sysop\"],\"wgRestrictionMove\":[\"sysop\"],\"wgIsMainPage\":!0,\"wgFlaggedRevsParams\":{\n",
       "\"tags\":{\"status\":{\"levels\":-1}}},\"wgMediaViewerOnClick\":!0,\"wgMediaViewerEnabledByDefault\":!0,\"wgPopupsFlags\":10,\"wgVisualEditor\":{\"pageLanguageCode\":\"en\",\"pageLanguageDir\":\"ltr\",\"pageVariantFallbacks\":\"en\"},\"wgMFDisplayWikibaseDescriptions\":{\"search\":!0,\"nearby\":!0,\"watchlist\":!0,\"tagline\":!1},\"wgWMESchemaEditAttemptStepOversample\":!1,\"wgULSCurrentAutonym\":\"English\",\"wgNoticeProject\":\"wikipedia\",\"wgCentralAuthMobileDomain\":!1,\"wgEditSubmitButtonLabelPublish\":!0,\"wgULSPosition\":\"interlanguage\",\"wgULSisCompactLinksEnabled\":!0,\"wgGENewcomerTasksGuidanceEnabled\":!0,\"wgGEAskQuestionEnabled\":!1,\"wgGELinkRecommendationsFrontendEnabled\":!1,\"wgWikibaseItemId\":\"Q5296\"};RLSTATE={\"ext.globalCssJs.user.styles\":\"ready\",\"site.styles\":\"ready\",\"noscript\":\"ready\",\"user.styles\":\"ready\",\"ext.globalCssJs.user\":\"ready\",\"user\":\"ready\",\"user.options\":\"loading\",\"skins.vector.styles.legacy\":\"ready\",\"ext.visualEditor.desktopArticleTarget.noscript\":\"ready\",\"ext.uls.interlanguage\":\n",
       "\"ready\",\"ext.wikimediaBadges\":\"ready\"};RLPAGEMODULES=[\"site\",\"mediawiki.page.ready\",\"skins.vector.legacy.js\",\"ext.gadget.ReferenceTooltips\",\"ext.gadget.charinsert\",\"ext.gadget.extra-toolbar-buttons\",\"ext.gadget.refToolbar\",\"ext.gadget.switcher\",\"ext.centralauth.centralautologin\",\"mmv.head\",\"mmv.bootstrap.autostart\",\"ext.popups\",\"ext.visualEditor.desktopArticleTarget.init\",\"ext.visualEditor.targetLoader\",\"ext.eventLogging\",\"ext.wikimediaEvents\",\"ext.navigationTiming\",\"ext.uls.interface\",\"ext.cx.eventlogging.campaigns\",\"ext.centralNotice.geoIP\",\"ext.centralNotice.startUp\",\"ext.growthExperiments.SuggestedEditSession\"];</script>\n",
       "<script>(RLQ=window.RLQ||[]).push(function(){mw.loader.implement(\"user.options@1hzgi\",function($,jQuery,require,module){/*@nomin*/mw.user.tokens.set({\"patrolToken\":\"+\\\\\",\"watchToken\":\"+\\\\\",\"csrfToken\":\"+\\\\\"});\n",
       "});});</script>\n",
       "<link href=\"/w/load.php?lang=en&amp;modules=ext.uls.interlanguage%7Cext.visualEditor.desktopArticleTarget.noscript%7Cext.wikimediaBadges%7Cskins.vector.styles.legacy&amp;only=styles&amp;skin=vector\" rel=\"stylesheet\"/>\n",
       "<script async=\"\" src=\"/w/load.php?lang=en&amp;modules=startup&amp;only=scripts&amp;raw=1&amp;skin=vector\"></script>\n",
       "<meta content=\"\" name=\"ResourceLoaderDynamicStyles\"/>\n",
       "<link href=\"/w/load.php?lang=en&amp;modules=site.styles&amp;only=styles&amp;skin=vector\" rel=\"stylesheet\"/>\n",
       "<meta content=\"MediaWiki 1.37.0-wmf.12\" name=\"generator\"/>\n",
       "<meta content=\"origin\" name=\"referrer\"/>\n",
       "<meta content=\"origin-when-crossorigin\" name=\"referrer\"/>\n",
       "<meta content=\"origin-when-cross-origin\" name=\"referrer\"/>\n",
       "<meta content=\"https://upload.wikimedia.org/wikipedia/commons/thumb/0/02/Pseudechis_porphyriacus_%2835307320466%29.jpg/1200px-Pseudechis_porphyriacus_%2835307320466%29.jpg\" property=\"og:image\"/>\n",
       "<meta content=\"Wikipedia, the free encyclopedia\" property=\"og:title\"/>\n",
       "<meta content=\"website\" property=\"og:type\"/>\n",
       "<link href=\"//upload.wikimedia.org\" rel=\"preconnect\"/>\n",
       "<link href=\"//en.m.wikipedia.org/wiki/Main_Page\" media=\"only screen and (max-width: 720px)\" rel=\"alternate\"/>\n",
       "<link href=\"/w/api.php?action=featuredfeed&amp;feed=potd&amp;feedformat=atom\" rel=\"alternate\" title=\"Wikipedia picture of the day feed\" type=\"application/atom+xml\"/>\n",
       "<link href=\"/w/api.php?action=featuredfeed&amp;feed=featured&amp;feedformat=atom\" rel=\"alternate\" title=\"Wikipedia featured articles feed\" type=\"application/atom+xml\"/>\n",
       "<link href=\"/w/api.php?action=featuredfeed&amp;feed=onthisday&amp;feedformat=atom\" rel=\"alternate\" title='Wikipedia \"On this day...\" feed' type=\"application/atom+xml\"/>\n",
       "<link href=\"/static/apple-touch/wikipedia.png\" rel=\"apple-touch-icon\"/>\n",
       "<link href=\"/static/favicon/wikipedia.ico\" rel=\"shortcut icon\"/>\n",
       "<link href=\"/w/opensearch_desc.php\" rel=\"search\" title=\"Wikipedia (en)\" type=\"application/opensearchdescription+xml\"/>\n",
       "<link href=\"//en.wikipedia.org/w/api.php?action=rsd\" rel=\"EditURI\" type=\"application/rsd+xml\"/>\n",
       "<link href=\"//creativecommons.org/licenses/by-sa/3.0/\" rel=\"license\"/>\n",
       "<link href=\"https://en.wikipedia.org/wiki/Main_Page\" rel=\"canonical\"/>\n",
       "<link href=\"//login.wikimedia.org\" rel=\"dns-prefetch\"/>\n",
       "<link href=\"//meta.wikimedia.org\" rel=\"dns-prefetch\"/>\n",
       "</head>\n",
       "<body class=\"mediawiki ltr sitedir-ltr mw-hide-empty-elt ns-0 ns-subject page-Main_Page rootpage-Main_Page skin-vector action-view skin-vector-legacy\"><div class=\"noprint\" id=\"mw-page-base\"></div>\n",
       "<div class=\"noprint\" id=\"mw-head-base\"></div>\n",
       "<div class=\"mw-body\" id=\"content\" role=\"main\">\n",
       "<a id=\"top\"></a>\n",
       "<div id=\"siteNotice\"><!-- CentralNotice --></div>\n",
       "<div class=\"mw-indicators\">\n",
       "</div>\n",
       "<h1 class=\"firstHeading\" id=\"firstHeading\">Main Page</h1>\n",
       "<div class=\"vector-body\" id=\"bodyContent\">\n",
       "<div class=\"noprint\" id=\"siteSub\">From Wikipedia, the free encyclopedia</div>\n",
       "<div id=\"contentSub\"></div>\n",
       "<div id=\"contentSub2\"></div>\n",
       "<div id=\"jump-to-nav\"></div>\n",
       "<a class=\"mw-jump-link\" href=\"#mw-head\">Jump to navigation</a>\n",
       "<a class=\"mw-jump-link\" href=\"#searchInput\">Jump to search</a>\n",
       "<div class=\"mw-body-content mw-content-ltr\" dir=\"ltr\" id=\"mw-content-text\" lang=\"en\"><!-- parser cache is expired, sending anyway due to pool contention-->\n",
       "<div class=\"mw-parser-output\"><style data-mw-deduplicate=\"TemplateStyles:r1004580458\">.mw-parser-output #mp-topbanner{position:relative;box-sizing:border-box;min-width:47em;border-color:#ddd;background-color:#f9f9f9;white-space:nowrap}.mw-parser-output .mp-bordered,.mw-parser-output .mp-h2,body.skin-timeless .mw-parser-output .mp-h2{border-width:1px;border-style:solid}.mw-parser-output #mp-topbanner,.mw-parser-output .mp-h2,.mw-parser-output #mp-left{color:#000}.mw-parser-output #mp-welcomecount{margin:0.4em;width:22em;text-align:center}.mw-parser-output #mp-welcome{font-size:162%;padding:0.1em}.mw-parser-output #mp-free{font-size:95%}.mw-parser-output #articlecount{font-size:85%}.mw-parser-output #mp-portals{position:absolute;right:-1em;top:50%;margin-top:-2.4em;width:38%;min-width:25em;font-size:95%}.mw-parser-output #mp-portals li{position:absolute;left:0;top:0}.mw-parser-output #mp-portals .portal-hmid{left:33%}.mw-parser-output #mp-portals .portal-hright{left:66%}.mw-parser-output #mp-portals .portal-vmid{top:1.6em}.mw-parser-output #mp-portals .portal-vbot{top:3.2em}.mw-parser-output #mp-portals li:last-child{font-weight:bold}.mw-parser-output #mp-banner{margin-top:4px;padding:0.5em;background-color:#fffaf5;border-color:#f2e0ce}.mw-parser-output .mp-h2,body.skin-timeless .mw-parser-output .mp-h2{margin:0.5em;padding:0.2em 0.4em;font-size:120%;font-weight:bold;font-family:inherit}.mw-parser-output h2.mp-h2::after{border:none}.mw-parser-output .mp-later{font-size:85%;font-weight:normal}.mw-parser-output #mp-upper{width:100%;margin-top:4px;margin-bottom:0;border-spacing:0;border-collapse:separate}.mw-parser-output #mp-upper .mid-table{border-color:transparent}.mw-parser-output #mp-left{width:55%;border-color:#cef2e0;background:#f5fffa}.mw-parser-output #mp-right{width:45%;border-color:#cedff2;background:#f5faff}.mw-parser-output #mp-left,.mw-parser-output #mp-right{padding:0;vertical-align:top}.mw-parser-output #mp-left .mp-h2{background:#cef2e0;border-color:#a3bfb1}.mw-parser-output #mp-right .mp-h2{background:#cedff2;border-color:#a3b0bf}.mw-parser-output #mp-tfa,.mw-parser-output #mp-dyk,.mw-parser-output #mp-itn,.mw-parser-output #mp-otd,.mw-parser-output #mp-other-lower>div{padding:0.1em 0.6em}.mw-parser-output #mp-dyk-h2,.mw-parser-output #mp-otd-h2{clear:both}.mw-parser-output #mp-middle{margin-top:4px;border-color:#f2cedd;background:#fff5fa}.mw-parser-output #mp-middle,.mw-parser-output #mp-lower,.mw-parser-output #mp-other-lower{overflow:auto}.mw-parser-output #mp-tfl-h2{background:#f2cedd;border-color:#bfa3af}.mw-parser-output #mp-tfl{padding:0.3em 0.7em}.mw-parser-output #mp-lower{margin-top:4px;border-color:#ddcef2;background:#faf5ff}.mw-parser-output #mp-tfp-h2{background:#ddcef2;border-color:#afa3bf}.mw-parser-output #mp-tfp{margin:0.1em 0.4em 0.6em}.mw-parser-output #mp-other-lower{padding:0;border-color:#e2e2e2;margin-top:4px}.mw-parser-output #mp-dyk,.mw-parser-output #mp-otd,.mw-parser-output #mp-other-lower{padding-bottom:0.5em}.mw-parser-output #mp-other-lower .mp-h2{background:#eee;border-color:#ddd;color:#222}@media(max-width:875px){body.skin--responsive .mw-parser-output #mp-welcomecount{width:auto}body.skin--responsive .mw-parser-output #mp-topbanner{min-width:0;white-space:normal}body.skin--responsive .mw-parser-output #mp-portals{position:static;width:auto;min-width:0;text-align:center;border-top:1px solid #ddd;padding:0.4em 0;margin:0 0.4em}body.skin--responsive .mw-parser-output #mp-portals li{position:static;display:inline;padding:0 5px;white-space:nowrap}body.skin--responsive .mw-parser-output table,body.skin--responsive .mw-parser-output tr,body.skin--responsive .mw-parser-output td,body.skin--responsive .mw-parser-output tbody{display:block!important;width:100%!important;box-sizing:border-box}body.skin--responsive .mw-parser-output #mp-tfp tr:first-child td:first-child a{text-align:center;display:table;margin:0 auto}}</style>\n",
       "<div class=\"mp-bordered\" id=\"mp-topbanner\">\n",
       "<div id=\"mp-welcomecount\">\n",
       "<div id=\"mp-welcome\">Welcome to <a href=\"/wiki/Wikipedia\" title=\"Wikipedia\">Wikipedia</a>,</div>\n",
       "<div id=\"mp-free\">the <a href=\"/wiki/Free_content\" title=\"Free content\">free</a> <a href=\"/wiki/Encyclopedia\" title=\"Encyclopedia\">encyclopedia</a> that <a href=\"/wiki/Help:Introduction_to_Wikipedia\" title=\"Help:Introduction to Wikipedia\">anyone can edit</a>.</div>\n",
       "<div id=\"articlecount\"><a href=\"/wiki/Special:Statistics\" title=\"Special:Statistics\">6,333,223</a> articles in <a href=\"/wiki/English_language\" title=\"English language\">English</a></div>\n",
       "</div>\n",
       "<ul id=\"mp-portals\">\n",
       "<li><a href=\"/wiki/Portal:The_arts\" title=\"Portal:The arts\">The arts</a></li>\n",
       "<li class=\"portal-vmid\"><a href=\"/wiki/Portal:Biography\" title=\"Portal:Biography\">Biography</a></li>\n",
       "<li class=\"portal-vbot\"><a href=\"/wiki/Portal:Geography\" title=\"Portal:Geography\">Geography</a></li>\n",
       "<li class=\"portal-hmid\"><a href=\"/wiki/Portal:History\" title=\"Portal:History\">History</a></li>\n",
       "<li class=\"portal-hmid portal-vmid\"><a href=\"/wiki/Portal:Mathematics\" title=\"Portal:Mathematics\">Mathematics</a></li>\n",
       "<li class=\"portal-hmid portal-vbot\"><a href=\"/wiki/Portal:Science\" title=\"Portal:Science\">Science</a></li>\n",
       "<li class=\"portal-hright\"><a href=\"/wiki/Portal:Society\" title=\"Portal:Society\">Society</a></li>\n",
       "<li class=\"portal-hright portal-vmid\"><a href=\"/wiki/Portal:Technology\" title=\"Portal:Technology\">Technology</a></li>\n",
       "<li class=\"portal-hright portal-vbot\"><a href=\"/wiki/Wikipedia:Contents/Portals\" title=\"Wikipedia:Contents/Portals\">All portals</a></li>\n",
       "</ul>\n",
       "</div>\n",
       "<table id=\"mp-upper\" role=\"presentation\">\n",
       "<tbody><tr>\n",
       "<td class=\"MainPageBG mp-bordered\" id=\"mp-left\">\n",
       "<h2 class=\"mp-h2\" id=\"mp-tfa-h2\"><span id=\"From_today.27s_featured_article\"></span><span class=\"mw-headline\" id=\"From_today's_featured_article\">From today's featured article</span></h2>\n",
       "<div id=\"mp-tfa\"><div id=\"mp-tfa-img\" style=\"float: left; margin: 0.5em 0.9em 0.4em 0em;\">\n",
       "<div class=\"thumbinner mp-thumb\" style=\"background: transparent; border: none; padding: 0; max-width: 162px;\">\n",
       "<a class=\"image\" href=\"/wiki/File:Pseudechis_porphyriacus_(35307320466).jpg\" title=\"Red-bellied black snake\"><img alt=\"Red-bellied black snake\" data-file-height=\"3401\" data-file-width=\"4534\" decoding=\"async\" height=\"122\" src=\"//upload.wikimedia.org/wikipedia/commons/thumb/0/02/Pseudechis_porphyriacus_%2835307320466%29.jpg/162px-Pseudechis_porphyriacus_%2835307320466%29.jpg\" srcset=\"//upload.wikimedia.org/wikipedia/commons/thumb/0/02/Pseudechis_porphyriacus_%2835307320466%29.jpg/243px-Pseudechis_porphyriacus_%2835307320466%29.jpg 1.5x, //upload.wikimedia.org/wikipedia/commons/thumb/0/02/Pseudechis_porphyriacus_%2835307320466%29.jpg/324px-Pseudechis_porphyriacus_%2835307320466%29.jpg 2x\" width=\"162\"/></a></div>\n",
       "</div>\n",
       "<p>The <b><a href=\"/wiki/Red-bellied_black_snake\" title=\"Red-bellied black snake\">red-bellied black snake</a></b> (<i>Pseudechis porphyriacus</i>) is a species of <a href=\"/wiki/Elapidae\" title=\"Elapidae\">elapid</a> snake native to Australia. Described by <a href=\"/wiki/George_Shaw\" title=\"George Shaw\">George Shaw</a> in 1794, it is one of eastern Australia's most commonly encountered snakes. Averaging around 1.25 metres (4 ft) in length when fully grown, it has glossy black upperparts, bright red or orange flanks and a pink or dull red belly. It generally avoids people, but can attack if provoked.  Although its venom is capable of causing significant illness, containing <a href=\"/wiki/Neurotoxin\" title=\"Neurotoxin\">neurotoxins</a>, <a href=\"/wiki/Myotoxin\" title=\"Myotoxin\">myotoxins</a>, <a href=\"/wiki/Coagulation#Procoagulants\" title=\"Coagulation\">coagulants</a> and <a href=\"/wiki/Hemolysin\" title=\"Hemolysin\">haemolysins</a>, it is less venomous than that of other Australian elapid snakes, and no humans have been confirmed  to have died from its bite. The snake forages in bodies of shallow water, commonly with tangles of water plants and logs, where it hunts frogs, its main prey item, as well as fish, reptiles and small mammals. Its numbers are thought to be declining due to <a href=\"/wiki/Habitat_fragmentation\" title=\"Habitat fragmentation\">habitat fragmentation</a> and falling frog populations. (<b><a href=\"/wiki/Red-bellied_black_snake\" title=\"Red-bellied black snake\">Full article...</a></b>)\n",
       "</p>\n",
       "<div class=\"tfa-recent\" style=\"text-align: right;\">\n",
       "Recently featured: <div class=\"hlist hlist-separated inline\">\n",
       "<ul><li><a href=\"/wiki/George_W._Romney\" title=\"George W. Romney\">George W. Romney</a></li>\n",
       "<li><a href=\"/wiki/First_Punic_War\" title=\"First Punic War\">First Punic War</a></li>\n",
       "<li><a href=\"/wiki/Lion-class_battlecruiser\" title=\"Lion-class battlecruiser\"><i>Lion</i>-class battlecruiser</a></li></ul>\n",
       "</div></div>\n",
       "<div class=\"tfa-footer hlist hlist-separated noprint\" style=\"text-align: right;\">\n",
       "<ul><li><b><a href=\"/wiki/Wikipedia:Today%27s_featured_article/July_2021\" title=\"Wikipedia:Today's featured article/July 2021\">Archive</a></b></li>\n",
       "<li><b><a class=\"extiw\" href=\"https://lists.wikimedia.org/mailman/listinfo/daily-article-l\" title=\"mail:daily-article-l\">By email</a></b></li>\n",
       "<li><b><a href=\"/wiki/Wikipedia:Featured_articles\" title=\"Wikipedia:Featured articles\">More featured articles</a></b></li></ul>\n",
       "</div></div>\n",
       "<h2 class=\"mp-h2\" id=\"mp-dyk-h2\"><span class=\"mw-headline\" id=\"Did_you_know_...\">Did you know ...</span></h2>\n",
       "<div id=\"mp-dyk\">\n",
       "<div class=\"dyk-img\" style=\"float: right; margin-left: 0.5em;\">\n",
       "<div class=\"thumbinner mp-thumb\" style=\"background: transparent; border: none; padding: 0; max-width: 163px;\">\n",
       "<a class=\"image\" href=\"/wiki/File:Shrine_of_the_Miosach_(detail_of_the_frontpiece).jpg\" title=\"Shrine of Miosach, late 11th and early 16th centuries\"><img alt=\"Shrine of Miosach, late 11th and early 16th centuries\" data-file-height=\"577\" data-file-width=\"780\" decoding=\"async\" height=\"121\" src=\"//upload.wikimedia.org/wikipedia/commons/thumb/1/1d/Shrine_of_the_Miosach_%28detail_of_the_frontpiece%29.jpg/163px-Shrine_of_the_Miosach_%28detail_of_the_frontpiece%29.jpg\" srcset=\"//upload.wikimedia.org/wikipedia/commons/thumb/1/1d/Shrine_of_the_Miosach_%28detail_of_the_frontpiece%29.jpg/245px-Shrine_of_the_Miosach_%28detail_of_the_frontpiece%29.jpg 1.5x, //upload.wikimedia.org/wikipedia/commons/thumb/1/1d/Shrine_of_the_Miosach_%28detail_of_the_frontpiece%29.jpg/326px-Shrine_of_the_Miosach_%28detail_of_the_frontpiece%29.jpg 2x\" width=\"163\"/></a><div class=\"thumbcaption\" style=\"padding: 0.25em 0; word-wrap: break-word;\">Shrine of Miosach, late 11th and early 16th centuries</div></div>\n",
       "</div>\n",
       "<ul><li>... that large parts of the 11th-century Irish <b><a href=\"/wiki/Shrine_of_Miosach\" title=\"Shrine of Miosach\">Shrine of Miosach</a></b> <i>(detail pictured)</i> were added during a 16th-century refurbishment?</li>\n",
       "<li>... that <b><a href=\"/wiki/Elizabeth_Mburu\" title=\"Elizabeth Mburu\">Elizabeth Mburu</a></b><span class=\"nowrap\">'s</span> book <i>African Hermeneutics</i> seeks to bring a uniquely African approach to interpreting the Bible?</li>\n",
       "<li>... that one of the arguments made by the <b><a href=\"/wiki/Simla_Deputation\" title=\"Simla Deputation\">Simla Deputation</a></b> for increasing Muslim representation in Indian politics was that they had ruled India under the <a href=\"/wiki/Mughal_Empire\" title=\"Mughal Empire\">Mughal Empire</a>?</li>\n",
       "<li>... that when <b><a href=\"/wiki/Robert_Saunders_Jr.\" title=\"Robert Saunders Jr.\">Robert Saunders Jr.</a></b><span class=\"nowrap\">'s</span> predecessor died, Saunders took <a href=\"/wiki/List_of_presidents_of_the_College_of_William_%26_Mary\" title=\"List of presidents of the College of William &amp; Mary\">his job</a> but not <a href=\"/wiki/President%27s_House_(College_of_William_%26_Mary)\" title=\"President's House (College of William &amp; Mary)\">his home</a>?</li>\n",
       "<li>... that <a href=\"/wiki/Big_Bang_(band)\" title=\"Big Bang (band)\">Big Bang</a>'s <a href=\"/wiki/G-Dragon\" title=\"G-Dragon\">G-Dragon</a> switched <a href=\"/wiki/Kwon_Ji_Yong\" title=\"Kwon Ji Yong\">his mini-album</a>'s title track from \"<b><a href=\"/wiki/Bullshit_(G-Dragon_song)\" title=\"Bullshit (G-Dragon song)\">Bullshit</a></b>\" to \"<a href=\"/wiki/Untitled,_2014\" title=\"Untitled, 2014\">Untitled, 2014</a>\" on the day of its release?</li>\n",
       "<li>... that <a href=\"/wiki/Mormon_missionary\" title=\"Mormon missionary\">Mormon missionaries</a> in Japan converse with each other in a specialized <a href=\"/wiki/Cant_(language)\" title=\"Cant (language)\">cant</a> known as <b><a href=\"/wiki/Senkyoshigo\" title=\"Senkyoshigo\">Senkyoshigo</a></b>?</li>\n",
       "<li>... that <b><a href=\"/wiki/Hugo_Marchand\" title=\"Hugo Marchand\">Hugo Marchand</a></b> was named an <i><a href=\"/wiki/Danseur_%C3%A9toile\" title=\"Danseur étoile\">étoile</a></i> of <a href=\"/wiki/Paris_Opera_Ballet\" title=\"Paris Opera Ballet\">Paris Opera Ballet</a> at age 23, after he made an unexpected role debut when the company was touring in Japan?</li>\n",
       "<li>... that in 1991, the <a href=\"/wiki/Church_of_Christ,_Scientist\" title=\"Church of Christ, Scientist\">Church of Christ, Scientist</a> published <a href=\"/wiki/The_Destiny_of_The_Mother_Church\" title=\"The Destiny of The Mother Church\">a book</a> it had previously rejected as blasphemous to obtain a $97 million <a href=\"/wiki/Bequest\" title=\"Bequest\">bequest</a> needed to repay its financially disastrous <b><a href=\"/wiki/WBPX-TV\" title=\"WBPX-TV\">expansion into television</a></b>?</li></ul>\n",
       "<div class=\"dyk-footer hlist noprint\" style=\"margin-top: 0.5em; text-align: right;\">\n",
       "<ul><li><b><a href=\"/wiki/Wikipedia:Recent_additions\" title=\"Wikipedia:Recent additions\">Archive</a></b></li>\n",
       "<li><b><a href=\"/wiki/Help:Your_first_article\" title=\"Help:Your first article\">Start a new article</a></b></li>\n",
       "<li><b><a href=\"/wiki/Template_talk:Did_you_know\" title=\"Template talk:Did you know\">Nominate an article</a></b></li></ul>\n",
       "</div>\n",
       "</div>\n",
       "</td>\n",
       "<td class=\"mp-bordered mid-table\">\n",
       "</td>\n",
       "<td class=\"MainPageBG mp-bordered\" id=\"mp-right\">\n",
       "<h2 class=\"mp-h2\" id=\"mp-itn-h2\"><span class=\"mw-headline\" id=\"In_the_news\">In the news</span></h2>\n",
       "<div id=\"mp-itn\"><div class=\"itn-img\" role=\"figure\" style=\"float: right; margin-left: 0.5em; margin-top: 0.2em;\">\n",
       "<div class=\"thumbinner mp-thumb\" style=\"background: transparent; border: none; padding: 0; max-width: 140px;\">\n",
       "<a class=\"image\" href=\"/wiki/File:Andrei_Vasilevskiy_2018-05-21_1.jpg\" title=\"Andrei Vasilevskiy\"><img alt=\"Andrei Vasilevskiy\" data-file-height=\"3360\" data-file-width=\"3372\" decoding=\"async\" height=\"140\" src=\"//upload.wikimedia.org/wikipedia/commons/thumb/2/27/Andrei_Vasilevskiy_2018-05-21_1.jpg/140px-Andrei_Vasilevskiy_2018-05-21_1.jpg\" srcset=\"//upload.wikimedia.org/wikipedia/commons/thumb/2/27/Andrei_Vasilevskiy_2018-05-21_1.jpg/210px-Andrei_Vasilevskiy_2018-05-21_1.jpg 1.5x, //upload.wikimedia.org/wikipedia/commons/thumb/2/27/Andrei_Vasilevskiy_2018-05-21_1.jpg/280px-Andrei_Vasilevskiy_2018-05-21_1.jpg 2x\" width=\"140\"/></a><div class=\"thumbcaption\" style=\"padding: 0.25em 0; word-wrap: break-word; text-align: left;\">Andrei Vasilevskiy</div></div>\n",
       "</div>\n",
       "<ul><li>In <a href=\"/wiki/Ice_hockey\" title=\"Ice hockey\">ice hockey</a>, the <a href=\"/wiki/Tampa_Bay_Lightning\" title=\"Tampa Bay Lightning\">Tampa Bay Lightning</a> defeat the <a href=\"/wiki/Montreal_Canadiens\" title=\"Montreal Canadiens\">Montreal Canadiens</a> in the <b><a href=\"/wiki/2021_Stanley_Cup_Finals\" title=\"2021 Stanley Cup Finals\">Stanley Cup Finals</a></b> <i>(<a href=\"/wiki/Conn_Smythe_Trophy\" title=\"Conn Smythe Trophy\">Conn Smythe Trophy</a> winner <a href=\"/wiki/Andrei_Vasilevskiy\" title=\"Andrei Vasilevskiy\">Andrei Vasilevskiy</a> pictured)</i>.</li>\n",
       "<li>Indian actor <b><a href=\"/wiki/Dilip_Kumar\" title=\"Dilip Kumar\">Dilip Kumar</a></b> dies at the age of 98.</li>\n",
       "<li>President of Haiti <a href=\"/wiki/Jovenel_Mo%C3%AFse\" title=\"Jovenel Moïse\">Jovenel Moïse</a> is <b><a href=\"/wiki/Assassination_of_Jovenel_Mo%C3%AFse\" title=\"Assassination of Jovenel Moïse\">assassinated</a></b> and interim prime minister <a href=\"/wiki/Claude_Joseph\" title=\"Claude Joseph\">Claude Joseph</a> assumes leadership.</li>\n",
       "<li>Petropavlovsk-Kamchatsky Air Flight 251 <b><a href=\"/wiki/Petropavlovsk-Kamchatsky_Air_Flight_251_(2021)\" title=\"Petropavlovsk-Kamchatsky Air Flight 251 (2021)\">crashes</a></b> on approach to <a href=\"/wiki/Palana_Airport\" title=\"Palana Airport\">Palana Airport</a>, Russia, killing all 28 people on board.</li>\n",
       "<li>A <a href=\"/wiki/Philippine_Air_Force\" title=\"Philippine Air Force\">Philippine Air Force</a> <a href=\"/wiki/Lockheed_C-130_Hercules\" title=\"Lockheed C-130 Hercules\">C-130</a> transport aircraft <b><a href=\"/wiki/2021_Philippine_Air_Force_C-130_crash\" title=\"2021 Philippine Air Force C-130 crash\">crashes</a></b> in <a href=\"/wiki/Sulu\" title=\"Sulu\">Sulu</a>, killing at least 53 people.</li></ul>\n",
       "<div class=\"itn-footer\" style=\"margin-top: 0.5em;\">\n",
       "<div><b><a href=\"/wiki/Portal:Current_events\" title=\"Portal:Current events\">Ongoing</a></b>: <div class=\"hlist hlist-separated inline\">\n",
       "<ul><li><a href=\"/wiki/COVID-19_pandemic\" title=\"COVID-19 pandemic\">COVID-19 pandemic</a></li></ul></div></div>\n",
       "<div><b><a href=\"/wiki/Deaths_in_2021\" title=\"Deaths in 2021\">Recent deaths</a></b>: <div class=\"hlist hlist-separated inline\">\n",
       "<ul><li><a href=\"/wiki/Abul_Kalam_Qasmi\" title=\"Abul Kalam Qasmi\">Abul Kalam Qasmi</a></li>\n",
       "<li><a href=\"/wiki/Gillian_Sheen\" title=\"Gillian Sheen\">Gillian Sheen</a></li>\n",
       "<li><a href=\"/wiki/Raffaella_Carr%C3%A0\" title=\"Raffaella Carrà\">Raffaella Carrà</a></li>\n",
       "<li><a href=\"/wiki/James_Kallstrom\" title=\"James Kallstrom\">James Kallstrom</a></li>\n",
       "<li><a href=\"/wiki/Suzzanne_Douglas\" title=\"Suzzanne Douglas\">Suzzanne Douglas</a></li>\n",
       "<li><a href=\"/wiki/Robert_Downey_Sr.\" title=\"Robert Downey Sr.\">Robert Downey Sr.</a></li></ul></div></div></div>\n",
       "<div class=\"itn-footer hlist hlist-separated noprint\" style=\"text-align: right;\">\n",
       "<ul><li><b><a href=\"/wiki/Wikipedia:In_the_news/Candidates\" title=\"Wikipedia:In the news/Candidates\">Nominate an article</a></b></li></ul></div></div>\n",
       "<h2 class=\"mp-h2\" id=\"mp-otd-h2\"><span class=\"mw-headline\" id=\"On_this_day\">On this day</span></h2>\n",
       "<div id=\"mp-otd\">\n",
       "<p><b><a href=\"/wiki/July_9\" title=\"July 9\">July 9</a></b>: <a href=\"/wiki/List_of_national_independence_days\" title=\"List of national independence days\">Independence Day</a> in <b><a href=\"/wiki/Argentina\" title=\"Argentina\">Argentina</a></b> (<a href=\"/wiki/1816\" title=\"1816\">1816</a>) and <b><a href=\"/wiki/South_Sudan\" title=\"South Sudan\">South Sudan</a></b> (<a href=\"/wiki/2011\" title=\"2011\">2011</a>)\n",
       "</p>\n",
       "<div id=\"mp-otd-img\" style=\"float:right;margin-left:0.5em;\">\n",
       "<div class=\"thumbinner mp-thumb\" style=\"background: transparent; border: none; padding: 0; max-width: 99px;\">\n",
       "<a class=\"image\" href=\"/wiki/File:Donkey_Kong_arcade.jpg\" title=\"Donkey Kong arcade cabinet\"><img alt=\"Donkey Kong arcade cabinet\" data-file-height=\"965\" data-file-width=\"480\" decoding=\"async\" height=\"199\" src=\"//upload.wikimedia.org/wikipedia/commons/thumb/8/88/Donkey_Kong_arcade.jpg/99px-Donkey_Kong_arcade.jpg\" srcset=\"//upload.wikimedia.org/wikipedia/commons/thumb/8/88/Donkey_Kong_arcade.jpg/149px-Donkey_Kong_arcade.jpg 1.5x, //upload.wikimedia.org/wikipedia/commons/thumb/8/88/Donkey_Kong_arcade.jpg/198px-Donkey_Kong_arcade.jpg 2x\" width=\"99\"/></a><div class=\"thumbcaption\" style=\"padding: 0.25em 0; word-wrap: break-word;\"><i>Donkey Kong</i> <a href=\"/wiki/Arcade_cabinet\" title=\"Arcade cabinet\">arcade cabinet</a></div></div>\n",
       "</div>\n",
       "<ul><li><a href=\"/wiki/1640\" title=\"1640\">1640</a> – The <a href=\"/wiki/Virginia_Governor%27s_Council\" title=\"Virginia Governor's Council\">Virginia Governor's Council</a> made <b><a href=\"/wiki/John_Punch_(slave)\" title=\"John Punch (slave)\">John Punch</a></b> the first legally recognized slave in <a href=\"/wiki/Thirteen_Colonies\" title=\"Thirteen Colonies\">England's North American colonies</a>.</li>\n",
       "<li><a href=\"/wiki/1790\" title=\"1790\">1790</a> – <a href=\"/wiki/Russo-Swedish_War_(1788%E2%80%931790)\" title=\"Russo-Swedish War (1788–1790)\">Russo-Swedish War</a>: During the <b><a href=\"/wiki/Battle_of_Svensksund\" title=\"Battle of Svensksund\">Battle of Svensksund</a></b> in the <a href=\"/wiki/Baltic_Sea\" title=\"Baltic Sea\">Baltic Sea</a>, the <a href=\"/wiki/Swedish_Navy\" title=\"Swedish Navy\">Swedish Navy</a> captured a third of the <a href=\"/wiki/Russian_Navy\" title=\"Russian Navy\">Russian fleet</a>.</li>\n",
       "<li><a href=\"/wiki/1958\" title=\"1958\">1958</a> – <b><a href=\"/wiki/1958_Lituya_Bay_earthquake_and_megatsunami\" title=\"1958 Lituya Bay earthquake and megatsunami\">An earthquake</a></b> struck <a href=\"/wiki/Lituya_Bay\" title=\"Lituya Bay\">Lituya Bay</a>, Alaska; the subsequent <a href=\"/wiki/Megatsunami\" title=\"Megatsunami\">megatsunami</a>, the largest in modern times, reached an elevation of 1,720 ft (524 m).</li>\n",
       "<li><a href=\"/wiki/1981\" title=\"1981\">1981</a> – <a href=\"/wiki/Nintendo\" title=\"Nintendo\">Nintendo</a> released the arcade game <i><b><a href=\"/wiki/Donkey_Kong_(video_game)\" title=\"Donkey Kong (video game)\">Donkey Kong</a></b></i> <i>(cabinet pictured)</i>, which featured the debut of <b><a href=\"/wiki/Mario\" title=\"Mario\">Mario</a></b>, one of the most famous characters in video-game history.</li>\n",
       "<li><a href=\"/wiki/1995\" title=\"1995\">1995</a> – <a href=\"/wiki/Sri_Lankan_Civil_War\" title=\"Sri Lankan Civil War\">Sri Lankan Civil War</a>: After advising civilians to take shelter in places of worship, the <a href=\"/wiki/Sri_Lanka_Air_Force\" title=\"Sri Lanka Air Force\">Sri Lanka Air Force</a> <b><a href=\"/wiki/Navaly_church_bombing\" title=\"Navaly church bombing\">bombed a church</a></b> in <a href=\"/wiki/Navaly\" title=\"Navaly\">Navaly</a>, killing at least 147 people.</li></ul>\n",
       "<div class=\"hlist hlist-separated\" style=\"margin-top: 0.5em;\"><ul><li><b><a href=\"/wiki/Anastasius_I_Dicorus\" title=\"Anastasius I Dicorus\">Anastasius I Dicorus</a></b>  (<abbr title=\"died\">d.</abbr> 518)</li><li><b><a href=\"/wiki/Sebald_Heyden\" title=\"Sebald Heyden\">Sebald Heyden</a></b>  (<abbr title=\"died\">d.</abbr> 1561)</li><li><b><a href=\"/wiki/Mercedes_Sosa\" title=\"Mercedes Sosa\">Mercedes Sosa</a></b>  (<abbr title=\"born\">b.</abbr> 1935)</li></ul></div>\n",
       "<div style=\"margin-top: 0.5em;\">\n",
       "More anniversaries: <div class=\"hlist hlist-separated inline nowraplinks\">\n",
       "<ul><li><a href=\"/wiki/July_8\" title=\"July 8\">July 8</a></li>\n",
       "<li><b><a href=\"/wiki/July_9\" title=\"July 9\">July 9</a></b></li>\n",
       "<li><a href=\"/wiki/July_10\" title=\"July 10\">July 10</a></li></ul>\n",
       "</div></div>\n",
       "<div class=\"otd-footer hlist hlist-separated noprint\" style=\"text-align: right;\">\n",
       "<ul><li><b><a href=\"/wiki/Wikipedia:Selected_anniversaries/July\" title=\"Wikipedia:Selected anniversaries/July\">Archive</a></b></li>\n",
       "<li><b><a class=\"extiw\" href=\"https://lists.wikimedia.org/mailman/listinfo/daily-article-l\" title=\"mail:daily-article-l\">By email</a></b></li>\n",
       "<li><b><a href=\"/wiki/List_of_days_of_the_year\" title=\"List of days of the year\">List of days of the year</a></b></li></ul>\n",
       "</div></div>\n",
       "</td></tr></tbody></table>\n",
       "<div class=\"MainPageBG mp-bordered\" id=\"mp-middle\">\n",
       "<div id=\"mp-center\">\n",
       "<h2 class=\"mp-h2\" id=\"mp-tfl-h2\"><span id=\"From_today.27s_featured_list\"></span><span class=\"mw-headline\" id=\"From_today's_featured_list\">From today's featured list</span></h2>\n",
       "<div id=\"mp-tfl\"><div id=\"mp-tfl-img\" style=\"float:right;margin:0.5em 0 0.4em 0.9em;\"><div class=\"thumbinner mp-thumb\" style=\"background: transparent; border: none; padding: 0; max-width: 178px;\">\n",
       "<a class=\"image\" href=\"/wiki/File:1996_Atlantic_hurricane_season_summary_map.png\" title=\"Track map of all storms during the season\"><img alt=\"Track map of all storms during the season\" data-file-height=\"2476\" data-file-width=\"4000\" decoding=\"async\" height=\"110\" src=\"//upload.wikimedia.org/wikipedia/commons/thumb/4/46/1996_Atlantic_hurricane_season_summary_map.png/178px-1996_Atlantic_hurricane_season_summary_map.png\" srcset=\"//upload.wikimedia.org/wikipedia/commons/thumb/4/46/1996_Atlantic_hurricane_season_summary_map.png/267px-1996_Atlantic_hurricane_season_summary_map.png 1.5x, //upload.wikimedia.org/wikipedia/commons/thumb/4/46/1996_Atlantic_hurricane_season_summary_map.png/356px-1996_Atlantic_hurricane_season_summary_map.png 2x\" width=\"178\"/></a><div class=\"thumbcaption\" style=\"padding: 0.25em 0; word-wrap: break-word;\">Track map of all storms during the season</div></div>\n",
       "</div>\n",
       "<p>The <b><a href=\"/wiki/Timeline_of_the_1996_Atlantic_hurricane_season\" title=\"Timeline of the 1996 Atlantic hurricane season\">1996 Atlantic hurricane season</a></b> had thirteen <a href=\"/wiki/Tropical_cyclone#Tropical_storm\" title=\"Tropical cyclone\">named storms</a>, of which nine became <a href=\"/wiki/Tropical_cyclone#Hurricane_or_typhoon\" title=\"Tropical cyclone\">hurricanes</a> and six became major hurricanes (hurricanes that are classified as <a href=\"/wiki/Saffir%E2%80%93Simpson_scale#Category_3\" title=\"Saffir–Simpson scale\">Category 3</a> or higher). These major hurricanes were <a href=\"/wiki/Hurricane_Bertha_(1996)\" title=\"Hurricane Bertha (1996)\">Bertha</a>, <a href=\"/wiki/Hurricane_Edouard_(1996)\" title=\"Hurricane Edouard (1996)\">Edouard</a>, <a href=\"/wiki/Hurricane_Fran\" title=\"Hurricane Fran\">Fran</a>, <a href=\"/wiki/Hurricane_Hortense\" title=\"Hurricane Hortense\">Hortense</a>, <a href=\"/wiki/1996_Atlantic_hurricane_season#Hurricane_Isidore\" title=\"1996 Atlantic hurricane season\">Isidore</a>, and <a href=\"/wiki/Hurricane_Lili_(1996)\" title=\"Hurricane Lili (1996)\">Lili</a>. The season's most destructive storms were <a href=\"/wiki/Hurricane_Cesar%E2%80%93Douglas\" title=\"Hurricane Cesar–Douglas\">Hurricane Cesar</a>, Fran, and Hortense. Hurricane Cesar (later known as <a href=\"/wiki/1996_Pacific_hurricane_season#Hurricane_Douglas\" title=\"1996 Pacific hurricane season\">Hurricane Douglas</a> in the Eastern Pacific basin) was the deadliest storm of the season; it killed at least 51 people and caused severe damage in northern Colombia and southern Central America. Hurricane Fran caused $3.2 billion (1996 <a href=\"/wiki/United_States_dollar\" title=\"United States dollar\">USD</a>) worth of damage in the United States, mostly in North Carolina, and killed 26 people. Hurricane Hortense dropped torrential rainfall on southwestern Puerto Rico and the eastern Dominican Republic, killing 21 people and leaving behind $127 million (1996 USD) in damage. (<b><a href=\"/wiki/Timeline_of_the_1996_Atlantic_hurricane_season\" title=\"Timeline of the 1996 Atlantic hurricane season\">Full list...</a></b>)\n",
       "</p>\n",
       "<div class=\"tfl-recent\" style=\"text-align: right;\">\n",
       "Recently featured: <div class=\"hlist hlist-separated inline\">\n",
       "<ul><li><a href=\"/wiki/List_of_Media_Forest_most-broadcast_songs_of_the_2010s_in_Romania\" title=\"List of Media Forest most-broadcast songs of the 2010s in Romania\">Media Forest most-broadcast songs of the 2010s in Romania</a></li>\n",
       "<li><a href=\"/wiki/List_of_National_Treasures_of_Japan_(archaeological_materials)\" title=\"List of National Treasures of Japan (archaeological materials)\">National Treasures of Japan (archaeological materials)</a></li>\n",
       "<li><a href=\"/wiki/List_of_Bluey_(2018_TV_series)_episodes\" title=\"List of Bluey (2018 TV series) episodes\"><i>Bluey</i> (2018 TV series) episodes</a></li></ul>\n",
       "</div></div>\n",
       "<div class=\"tfl-footer hlist hlist-separated noprint\" style=\"text-align: right;\">\n",
       "<ul><li><b><a href=\"/wiki/Wikipedia:Today%27s_featured_list/July_2021\" title=\"Wikipedia:Today's featured list/July 2021\">Archive</a></b></li>\n",
       "<li><b><a href=\"/wiki/Wikipedia:Featured_lists\" title=\"Wikipedia:Featured lists\">More featured lists</a></b></li></ul>\n",
       "</div></div>\n",
       "</div>\n",
       "</div>\n",
       "<div class=\"MainPageBG mp-bordered\" id=\"mp-lower\">\n",
       "<div id=\"mp-bottom\">\n",
       "<h2 class=\"mp-h2\" id=\"mp-tfp-h2\"><span id=\"Today.27s_featured_picture\"></span><span class=\"mw-headline\" id=\"Today's_featured_picture\">Today's featured picture</span></h2>\n",
       "<div id=\"mp-tfp\">\n",
       "<table role=\"presentation\" style=\"margin:0 3px 3px; width:100%; box-sizing:border-box; text-align:left; background-color:transparent; border-collapse:collapse;\">\n",
       "<tbody><tr>\n",
       "<td style=\"padding:0 0.9em 0 0; width:400px;\"><a class=\"image\" href=\"/wiki/File:Roan_antelope_(Hippotragus_equinus_koba).jpg\" title=\"Roan antelope\"><img alt=\"Roan antelope\" data-file-height=\"3160\" data-file-width=\"4740\" decoding=\"async\" height=\"267\" src=\"//upload.wikimedia.org/wikipedia/commons/thumb/1/10/Roan_antelope_%28Hippotragus_equinus_koba%29.jpg/400px-Roan_antelope_%28Hippotragus_equinus_koba%29.jpg\" srcset=\"//upload.wikimedia.org/wikipedia/commons/thumb/1/10/Roan_antelope_%28Hippotragus_equinus_koba%29.jpg/600px-Roan_antelope_%28Hippotragus_equinus_koba%29.jpg 1.5x, //upload.wikimedia.org/wikipedia/commons/thumb/1/10/Roan_antelope_%28Hippotragus_equinus_koba%29.jpg/800px-Roan_antelope_%28Hippotragus_equinus_koba%29.jpg 2x\" width=\"400\"/></a>\n",
       "</td>\n",
       "<td style=\"padding:0 6px 0 0\">\n",
       "<p>The <b><a href=\"/wiki/Roan_antelope\" title=\"Roan antelope\">roan antelope</a></b> (<i>Hippotragus equinus</i>) is a species of <a href=\"/wiki/Savanna\" title=\"Savanna\">savanna</a> antelope found in western, central and southern Africa. Named for its reddish-brown coat, it has a black face with white patches around the eyes and the mouth, and a short erect mane of greyish brown hair extending from the back of the neck to the rump. This roan antelope, of the <a href=\"/wiki/Subspecies\" title=\"Subspecies\">subspecies</a> <i>H. e. koba</i>, was photographed in Senegal; the subspecies's range extends from Senegal to Benin in western Africa.\n",
       "</p>\n",
       "<p style=\"text-align:left;\"><small>Photograph credit: <a href=\"/wiki/User:Charlesjsharp\" title=\"User:Charlesjsharp\">Charles James Sharp</a></small></p>\n",
       "<div class=\"potd-recent\" style=\"text-align:right;\">\n",
       "Recently featured: <div class=\"hlist hlist-separated inline\">\n",
       "<ul><li><a href=\"/wiki/Template:POTD/2021-07-08\" title=\"Template:POTD/2021-07-08\">William Windom</a></li>\n",
       "<li><a href=\"/wiki/Template:POTD/2021-07-07\" title=\"Template:POTD/2021-07-07\">Soyuz MS</a></li>\n",
       "<li><a href=\"/wiki/Template:POTD/2021-07-06\" title=\"Template:POTD/2021-07-06\"><i>Zonocerus variegatus</i></a></li></ul>\n",
       "</div></div>\n",
       "<div class=\"potd-footer hlist hlist-separated noprint\" style=\"text-align:right;\">\n",
       "<ul><li><b><a href=\"/wiki/Wikipedia:Picture_of_the_day/Archive\" title=\"Wikipedia:Picture of the day/Archive\">Archive</a></b></li>\n",
       "<li><b><a href=\"/wiki/Wikipedia:Featured_pictures\" title=\"Wikipedia:Featured pictures\">More featured pictures</a></b></li></ul>\n",
       "</div>\n",
       "</td></tr></tbody></table></div>\n",
       "</div>\n",
       "</div>\n",
       "<div class=\"mp-bordered\" id=\"mp-other-lower\">\n",
       "<h2 class=\"mp-h2\" id=\"mp-other\"><span class=\"mw-headline\" id=\"Other_areas_of_Wikipedia\">Other areas of Wikipedia</span></h2>\n",
       "<div id=\"mp-other-content\">\n",
       "<ul><li><b><a href=\"/wiki/Wikipedia:Community_portal\" title=\"Wikipedia:Community portal\">Community portal</a></b> – Bulletin board, projects, resources and activities covering a wide range of Wikipedia areas.</li>\n",
       "<li><b><a href=\"/wiki/Wikipedia:Help_desk\" title=\"Wikipedia:Help desk\">Help desk</a></b> – Ask questions about using Wikipedia.</li>\n",
       "<li><b><a href=\"/wiki/Wikipedia:Local_Embassy\" title=\"Wikipedia:Local Embassy\">Local embassy</a></b> – For Wikipedia-related communication in languages other than English.</li>\n",
       "<li><b><a href=\"/wiki/Wikipedia:Reference_desk\" title=\"Wikipedia:Reference desk\">Reference desk</a></b> – Serving as virtual librarians, Wikipedia volunteers tackle your questions on a wide range of subjects.</li>\n",
       "<li><b><a href=\"/wiki/Wikipedia:News\" title=\"Wikipedia:News\">Site news</a></b> – Announcements, updates, articles and press releases on Wikipedia and the Wikimedia Foundation.</li>\n",
       "<li><b><a href=\"/wiki/Wikipedia:Village_pump\" title=\"Wikipedia:Village pump\">Village pump</a></b> – For discussions about Wikipedia itself, including areas for technical issues and policies.</li></ul>\n",
       "</div>\n",
       "<h2 class=\"mp-h2\" id=\"mp-sister\"><span id=\"Wikipedia.27s_sister_projects\"></span><span class=\"mw-headline\" id=\"Wikipedia's_sister_projects\">Wikipedia's sister projects</span></h2>\n",
       "<div id=\"mp-sister-content\"><style data-mw-deduplicate=\"TemplateStyles:r1007624485\">.mw-parser-output #sister-projects-list{display:flex;flex-wrap:wrap}.mw-parser-output #sister-projects-list li{display:inline-block}.mw-parser-output #sister-projects-list li span{font-weight:bold}.mw-parser-output #sister-projects-list li>div{display:inline-block;vertical-align:middle;padding:6px 4px}.mw-parser-output #sister-projects-list li>div:first-child{text-align:center}@media(min-width:360px){.mw-parser-output #sister-projects-list li{width:33%;min-width:20em;white-space:nowrap;flex:1 0 25%}.mw-parser-output #sister-projects-list li>div:first-child{min-width:50px}}</style>\n",
       "<p>Wikipedia is hosted by the <a href=\"/wiki/Wikimedia_Foundation\" title=\"Wikimedia Foundation\">Wikimedia Foundation</a>, a non-profit organization that also hosts a range of other <a class=\"extiw\" href=\"https://wikimediafoundation.org/our-work/wikimedia-projects/\" title=\"foundationsite:our-work/wikimedia-projects/\">projects</a>:\n",
       "</p>\n",
       "<div class=\"plainlist\">\n",
       "<ul id=\"sister-projects-list\">\n",
       "<li>\n",
       "<div><a href=\"https://commons.wikimedia.org/wiki/\" title=\"Commons\"><img alt=\"Commons logo\" data-file-height=\"1376\" data-file-width=\"1024\" decoding=\"async\" height=\"42\" src=\"//upload.wikimedia.org/wikipedia/en/thumb/4/4a/Commons-logo.svg/31px-Commons-logo.svg.png\" srcset=\"//upload.wikimedia.org/wikipedia/en/thumb/4/4a/Commons-logo.svg/47px-Commons-logo.svg.png 1.5x, //upload.wikimedia.org/wikipedia/en/thumb/4/4a/Commons-logo.svg/62px-Commons-logo.svg.png 2x\" width=\"31\"/></a></div>\n",
       "<div><span><a class=\"extiw\" href=\"https://commons.wikimedia.org/wiki/\" title=\"c:\">Commons</a></span><br/>Free media repository</div>\n",
       "</li>\n",
       "<li>\n",
       "<div><a href=\"https://www.mediawiki.org/wiki/\" title=\"MediaWiki\"><img alt=\"MediaWiki logo\" data-file-height=\"100\" data-file-width=\"100\" decoding=\"async\" height=\"35\" src=\"//upload.wikimedia.org/wikipedia/commons/thumb/a/a6/MediaWiki-2020-icon.svg/35px-MediaWiki-2020-icon.svg.png\" srcset=\"//upload.wikimedia.org/wikipedia/commons/thumb/a/a6/MediaWiki-2020-icon.svg/53px-MediaWiki-2020-icon.svg.png 1.5x, //upload.wikimedia.org/wikipedia/commons/thumb/a/a6/MediaWiki-2020-icon.svg/70px-MediaWiki-2020-icon.svg.png 2x\" width=\"35\"/></a></div>\n",
       "<div><span><a class=\"extiw\" href=\"https://www.mediawiki.org/wiki/\" title=\"mw:\">MediaWiki</a></span><br/>Wiki software development</div>\n",
       "</li>\n",
       "<li>\n",
       "<div><a href=\"https://meta.wikimedia.org/wiki/\" title=\"Meta-Wiki\"><img alt=\"Meta-Wiki logo\" data-file-height=\"900\" data-file-width=\"900\" decoding=\"async\" height=\"35\" src=\"//upload.wikimedia.org/wikipedia/commons/thumb/7/75/Wikimedia_Community_Logo.svg/35px-Wikimedia_Community_Logo.svg.png\" srcset=\"//upload.wikimedia.org/wikipedia/commons/thumb/7/75/Wikimedia_Community_Logo.svg/53px-Wikimedia_Community_Logo.svg.png 1.5x, //upload.wikimedia.org/wikipedia/commons/thumb/7/75/Wikimedia_Community_Logo.svg/70px-Wikimedia_Community_Logo.svg.png 2x\" width=\"35\"/></a></div>\n",
       "<div><span><a class=\"extiw\" href=\"https://meta.wikimedia.org/wiki/\" title=\"m:\">Meta-Wiki</a></span><br/>Wikimedia project coordination</div>\n",
       "</li>\n",
       "<li>\n",
       "<div><a href=\"https://en.wikibooks.org/wiki/\" title=\"Wikibooks\"><img alt=\"Wikibooks logo\" data-file-height=\"300\" data-file-width=\"300\" decoding=\"async\" height=\"35\" src=\"//upload.wikimedia.org/wikipedia/commons/thumb/f/fa/Wikibooks-logo.svg/35px-Wikibooks-logo.svg.png\" srcset=\"//upload.wikimedia.org/wikipedia/commons/thumb/f/fa/Wikibooks-logo.svg/53px-Wikibooks-logo.svg.png 1.5x, //upload.wikimedia.org/wikipedia/commons/thumb/f/fa/Wikibooks-logo.svg/70px-Wikibooks-logo.svg.png 2x\" width=\"35\"/></a></div>\n",
       "<div><span><a class=\"extiw\" href=\"https://en.wikibooks.org/wiki/\" title=\"b:\">Wikibooks</a></span><br/>Free textbooks and manuals</div>\n",
       "</li>\n",
       "<li>\n",
       "<div><a href=\"https://www.wikidata.org/wiki/\" title=\"Wikidata\"><img alt=\"Wikidata logo\" data-file-height=\"590\" data-file-width=\"1050\" decoding=\"async\" height=\"26\" src=\"//upload.wikimedia.org/wikipedia/commons/thumb/f/ff/Wikidata-logo.svg/47px-Wikidata-logo.svg.png\" srcset=\"//upload.wikimedia.org/wikipedia/commons/thumb/f/ff/Wikidata-logo.svg/71px-Wikidata-logo.svg.png 1.5x, //upload.wikimedia.org/wikipedia/commons/thumb/f/ff/Wikidata-logo.svg/94px-Wikidata-logo.svg.png 2x\" width=\"47\"/></a></div>\n",
       "<div><span><a class=\"extiw\" href=\"https://www.wikidata.org/wiki/\" title=\"d:\">Wikidata</a></span><br/>Free knowledge base</div>\n",
       "</li>\n",
       "<li>\n",
       "<div><a href=\"https://en.wikinews.org/wiki/\" title=\"Wikinews\"><img alt=\"Wikinews logo\" data-file-height=\"415\" data-file-width=\"759\" decoding=\"async\" height=\"28\" src=\"//upload.wikimedia.org/wikipedia/commons/thumb/2/24/Wikinews-logo.svg/51px-Wikinews-logo.svg.png\" srcset=\"//upload.wikimedia.org/wikipedia/commons/thumb/2/24/Wikinews-logo.svg/77px-Wikinews-logo.svg.png 1.5x, //upload.wikimedia.org/wikipedia/commons/thumb/2/24/Wikinews-logo.svg/102px-Wikinews-logo.svg.png 2x\" width=\"51\"/></a></div>\n",
       "<div><span><a class=\"extiw\" href=\"https://en.wikinews.org/wiki/\" title=\"n:\">Wikinews</a></span><br/>Free-content news</div>\n",
       "</li>\n",
       "<li>\n",
       "<div><a href=\"https://en.wikiquote.org/wiki/\" title=\"Wikiquote\"><img alt=\"Wikiquote logo\" data-file-height=\"355\" data-file-width=\"300\" decoding=\"async\" height=\"41\" src=\"//upload.wikimedia.org/wikipedia/commons/thumb/f/fa/Wikiquote-logo.svg/35px-Wikiquote-logo.svg.png\" srcset=\"//upload.wikimedia.org/wikipedia/commons/thumb/f/fa/Wikiquote-logo.svg/53px-Wikiquote-logo.svg.png 1.5x, //upload.wikimedia.org/wikipedia/commons/thumb/f/fa/Wikiquote-logo.svg/70px-Wikiquote-logo.svg.png 2x\" width=\"35\"/></a></div>\n",
       "<div><span><a class=\"extiw\" href=\"https://en.wikiquote.org/wiki/\" title=\"q:\">Wikiquote</a></span><br/>Collection of quotations</div>\n",
       "</li>\n",
       "<li>\n",
       "<div><a href=\"https://en.wikisource.org/wiki/\" title=\"Wikisource\"><img alt=\"Wikisource logo\" data-file-height=\"430\" data-file-width=\"410\" decoding=\"async\" height=\"37\" src=\"//upload.wikimedia.org/wikipedia/commons/thumb/4/4c/Wikisource-logo.svg/35px-Wikisource-logo.svg.png\" srcset=\"//upload.wikimedia.org/wikipedia/commons/thumb/4/4c/Wikisource-logo.svg/53px-Wikisource-logo.svg.png 1.5x, //upload.wikimedia.org/wikipedia/commons/thumb/4/4c/Wikisource-logo.svg/70px-Wikisource-logo.svg.png 2x\" width=\"35\"/></a></div>\n",
       "<div><span><a class=\"extiw\" href=\"https://en.wikisource.org/wiki/\" title=\"s:\">Wikisource</a></span><br/>Free-content library</div>\n",
       "</li>\n",
       "<li>\n",
       "<div><a href=\"https://species.wikimedia.org/wiki/\" title=\"Wikispecies\"><img alt=\"Wikispecies logo\" data-file-height=\"1103\" data-file-width=\"941\" decoding=\"async\" height=\"41\" src=\"//upload.wikimedia.org/wikipedia/commons/thumb/d/df/Wikispecies-logo.svg/35px-Wikispecies-logo.svg.png\" srcset=\"//upload.wikimedia.org/wikipedia/commons/thumb/d/df/Wikispecies-logo.svg/53px-Wikispecies-logo.svg.png 1.5x, //upload.wikimedia.org/wikipedia/commons/thumb/d/df/Wikispecies-logo.svg/70px-Wikispecies-logo.svg.png 2x\" width=\"35\"/></a></div>\n",
       "<div><span><a class=\"extiw\" href=\"https://species.wikimedia.org/wiki/\" title=\"species:\">Wikispecies</a></span><br/>Directory of species</div>\n",
       "</li>\n",
       "<li>\n",
       "<div><a href=\"https://en.wikiversity.org/wiki/\" title=\"Wikiversity\"><img alt=\"Wikiversity logo\" data-file-height=\"512\" data-file-width=\"626\" decoding=\"async\" height=\"34\" src=\"//upload.wikimedia.org/wikipedia/commons/thumb/0/0b/Wikiversity_logo_2017.svg/41px-Wikiversity_logo_2017.svg.png\" srcset=\"//upload.wikimedia.org/wikipedia/commons/thumb/0/0b/Wikiversity_logo_2017.svg/62px-Wikiversity_logo_2017.svg.png 1.5x, //upload.wikimedia.org/wikipedia/commons/thumb/0/0b/Wikiversity_logo_2017.svg/82px-Wikiversity_logo_2017.svg.png 2x\" width=\"41\"/></a></div>\n",
       "<div><span><a class=\"extiw\" href=\"https://en.wikiversity.org/wiki/\" title=\"v:\">Wikiversity</a></span><br/>Free learning tools</div>\n",
       "</li>\n",
       "<li>\n",
       "<div><a href=\"https://en.wikivoyage.org/wiki/\" title=\"Wikivoyage\"><img alt=\"Wikivoyage logo\" data-file-height=\"193\" data-file-width=\"193\" decoding=\"async\" height=\"35\" src=\"//upload.wikimedia.org/wikipedia/commons/thumb/d/dd/Wikivoyage-Logo-v3-icon.svg/35px-Wikivoyage-Logo-v3-icon.svg.png\" srcset=\"//upload.wikimedia.org/wikipedia/commons/thumb/d/dd/Wikivoyage-Logo-v3-icon.svg/53px-Wikivoyage-Logo-v3-icon.svg.png 1.5x, //upload.wikimedia.org/wikipedia/commons/thumb/d/dd/Wikivoyage-Logo-v3-icon.svg/70px-Wikivoyage-Logo-v3-icon.svg.png 2x\" width=\"35\"/></a></div>\n",
       "<div><span><a class=\"extiw\" href=\"https://en.wikivoyage.org/wiki/\" title=\"voy:\">Wikivoyage</a></span><br/>Free travel guide</div>\n",
       "</li>\n",
       "<li>\n",
       "<div><a href=\"https://en.wiktionary.org/wiki/\" title=\"Wiktionary\"><img alt=\"Wiktionary logo\" data-file-height=\"391\" data-file-width=\"391\" decoding=\"async\" height=\"35\" src=\"//upload.wikimedia.org/wikipedia/en/thumb/0/06/Wiktionary-logo-v2.svg/35px-Wiktionary-logo-v2.svg.png\" srcset=\"//upload.wikimedia.org/wikipedia/en/thumb/0/06/Wiktionary-logo-v2.svg/53px-Wiktionary-logo-v2.svg.png 1.5x, //upload.wikimedia.org/wikipedia/en/thumb/0/06/Wiktionary-logo-v2.svg/70px-Wiktionary-logo-v2.svg.png 2x\" width=\"35\"/></a></div>\n",
       "<div><span><a class=\"extiw\" href=\"https://en.wiktionary.org/wiki/\" title=\"wikt:\">Wiktionary</a></span><br/>Dictionary and thesaurus</div>\n",
       "</li>\n",
       "</ul>\n",
       "</div></div>\n",
       "<h2 class=\"mp-h2\" id=\"mp-lang\"><span class=\"mw-headline\" id=\"Wikipedia_languages\">Wikipedia languages</span></h2>\n",
       "<div><style data-mw-deduplicate=\"TemplateStyles:r997272951\">.mw-parser-output .wikipedia-languages-complete{font-weight:bold}.mw-parser-output .wikipedia-languages ul{margin-left:0}.mw-parser-output .wikipedia-languages ul a{white-space:nowrap}.mw-parser-output .wikipedia-languages>ul{list-style:none;text-align:center;clear:both}.mw-parser-output .wikipedia-languages-count-container{width:90%;display:flex;justify-content:center;padding-top:1em;margin:0 auto}.mw-parser-output .wikipedia-languages-prettybars{width:100%;height:1px;margin:0.5em 0;background-color:#c8ccd1;flex-shrink:1;align-self:center}.mw-parser-output .wikipedia-languages-count{padding:0 1em;white-space:nowrap}</style>\n",
       "<div class=\"wikipedia-languages nourlexpansion\">\n",
       "<p>This Wikipedia is written in <a href=\"/wiki/English_language\" title=\"English language\">English</a>. Many <a class=\"extiw\" href=\"https://meta.wikimedia.org/wiki/List_of_Wikipedias\" title=\"meta:List of Wikipedias\">other Wikipedias are available</a>; some of the largest are listed below.\n",
       "</p>\n",
       "<ul class=\"plainlinks\">\n",
       "<li>\n",
       "<div class=\"wikipedia-languages-count-container\">\n",
       "<div class=\"wikipedia-languages-prettybars\"></div>\n",
       "<div class=\"wikipedia-languages-count\" role=\"heading\">1,000,000+ articles</div>\n",
       "<div class=\"wikipedia-languages-prettybars\"></div>\n",
       "</div>\n",
       "<ul class=\"wikipedia-languages-langs hlist hlist-separated inline\">\n",
       "<li><a class=\"external text\" href=\"https://ar.wikipedia.org/wiki/\"><span class=\"autonym\" lang=\"ar\" title=\"Arabic (ar:)\">العربية</span></a></li>\n",
       "<li><a class=\"external text\" href=\"https://de.wikipedia.org/wiki/\"><span class=\"autonym\" lang=\"de\" title=\"German (de:)\">Deutsch</span></a></li>\n",
       "<li><a class=\"external text\" href=\"https://es.wikipedia.org/wiki/\"><span class=\"autonym\" lang=\"es\" title=\"Spanish (es:)\">Español</span></a></li>\n",
       "<li><a class=\"external text\" href=\"https://fr.wikipedia.org/wiki/\"><span class=\"autonym\" lang=\"fr\" title=\"French (fr:)\">Français</span></a></li>\n",
       "<li><a class=\"external text\" href=\"https://it.wikipedia.org/wiki/\"><span class=\"autonym\" lang=\"it\" title=\"Italian (it:)\">Italiano</span></a></li>\n",
       "<li><a class=\"external text\" href=\"https://nl.wikipedia.org/wiki/\"><span class=\"autonym\" lang=\"nl\" title=\"Dutch (nl:)\">Nederlands</span></a></li>\n",
       "<li><a class=\"external text\" href=\"https://ja.wikipedia.org/wiki/\"><span class=\"autonym\" lang=\"ja\" title=\"Japanese (ja:)\">日本語</span></a></li>\n",
       "<li><a class=\"external text\" href=\"https://pl.wikipedia.org/wiki/\"><span class=\"autonym\" lang=\"pl\" title=\"Polish (pl:)\">Polski</span></a></li>\n",
       "<li><a class=\"external text\" href=\"https://pt.wikipedia.org/wiki/\"><span class=\"autonym\" lang=\"pt\" title=\"Portuguese (pt:)\">Português</span></a></li>\n",
       "<li><a class=\"external text\" href=\"https://ru.wikipedia.org/wiki/\"><span class=\"autonym\" lang=\"ru\" title=\"Russian (ru:)\">Русский</span></a></li>\n",
       "<li><a class=\"external text\" href=\"https://sv.wikipedia.org/wiki/\"><span class=\"autonym\" lang=\"sv\" title=\"Swedish (sv:)\">Svenska</span></a></li>\n",
       "<li><a class=\"external text\" href=\"https://uk.wikipedia.org/wiki/\"><span class=\"autonym\" lang=\"uk\" title=\"Ukrainian (uk:)\">Українська</span></a></li>\n",
       "<li><a class=\"external text\" href=\"https://vi.wikipedia.org/wiki/\"><span class=\"autonym\" lang=\"vi\" title=\"Vietnamese (vi:)\">Tiếng Việt</span></a></li>\n",
       "<li><a class=\"external text\" href=\"https://zh.wikipedia.org/wiki/\"><span class=\"autonym\" lang=\"zh\" title=\"Chinese (zh:)\">中文</span></a></li>\n",
       "</ul>\n",
       "</li>\n",
       "<li>\n",
       "<div class=\"wikipedia-languages-count-container\">\n",
       "<div class=\"wikipedia-languages-prettybars\"></div>\n",
       "<div class=\"wikipedia-languages-count\" role=\"heading\">250,000+ articles</div>\n",
       "<div class=\"wikipedia-languages-prettybars\"></div>\n",
       "</div>\n",
       "<ul class=\"wikipedia-languages-langs hlist hlist-separated inline\">\n",
       "<li><a class=\"external text\" href=\"https://id.wikipedia.org/wiki/\"><span class=\"autonym\" lang=\"id\" title=\"Indonesian (id:)\">Bahasa Indonesia</span></a></li>\n",
       "<li><a class=\"external text\" href=\"https://ms.wikipedia.org/wiki/\"><span class=\"autonym\" lang=\"ms\" title=\"Malay (ms:)\">Bahasa Melayu</span></a></li>\n",
       "<li><a class=\"external text\" href=\"https://zh-min-nan.wikipedia.org/wiki/\"><span class=\"autonym\" lang=\"nan\" title=\"Min Nan Chinese (nan:)\">Bân-lâm-gú</span></a></li>\n",
       "<li><a class=\"external text\" href=\"https://bg.wikipedia.org/wiki/\"><span class=\"autonym\" lang=\"bg\" title=\"Bulgarian (bg:)\">Български</span></a></li>\n",
       "<li><a class=\"external text\" href=\"https://ca.wikipedia.org/wiki/\"><span class=\"autonym\" lang=\"ca\" title=\"Catalan (ca:)\">Català</span></a></li>\n",
       "<li><a class=\"external text\" href=\"https://cs.wikipedia.org/wiki/\"><span class=\"autonym\" lang=\"cs\" title=\"Czech (cs:)\">Čeština</span></a></li>\n",
       "<li><a class=\"external text\" href=\"https://da.wikipedia.org/wiki/\"><span class=\"autonym\" lang=\"da\" title=\"Danish (da:)\">Dansk</span></a></li>\n",
       "<li><a class=\"external text\" href=\"https://eo.wikipedia.org/wiki/\"><span class=\"autonym\" lang=\"eo\" title=\"Esperanto (eo:)\">Esperanto</span></a></li>\n",
       "<li><a class=\"external text\" href=\"https://eu.wikipedia.org/wiki/\"><span class=\"autonym\" lang=\"eu\" title=\"Basque (eu:)\">Euskara</span></a></li>\n",
       "<li><a class=\"external text\" href=\"https://fa.wikipedia.org/wiki/\"><span class=\"autonym\" lang=\"fa\" title=\"Persian (fa:)\">فارسی</span></a>‎</li>\n",
       "<li><a class=\"external text\" href=\"https://he.wikipedia.org/wiki/\"><span class=\"autonym\" lang=\"he\" title=\"Hebrew (he:)\">עברית</span></a></li>\n",
       "<li><a class=\"external text\" href=\"https://ko.wikipedia.org/wiki/\"><span class=\"autonym\" lang=\"ko\" title=\"Korean (ko:)\">한국어</span></a></li>\n",
       "<li><a class=\"external text\" href=\"https://hu.wikipedia.org/wiki/\"><span class=\"autonym\" lang=\"hu\" title=\"Hungarian (hu:)\">Magyar</span></a></li>\n",
       "<li><a class=\"external text\" href=\"https://no.wikipedia.org/wiki/\"><span class=\"autonym\" lang=\"no\" title=\"Norwegian (no:)\">Norsk Bokmål</span></a></li>\n",
       "<li><a class=\"external text\" href=\"https://ro.wikipedia.org/wiki/\"><span class=\"autonym\" lang=\"ro\" title=\"Romanian (ro:)\">Română</span></a></li>\n",
       "<li><a class=\"external text\" href=\"https://sr.wikipedia.org/wiki/\"><span class=\"autonym\" lang=\"sr\" title=\"Serbian (sr:)\">Srpski</span></a></li>\n",
       "<li><a class=\"external text\" href=\"https://sh.wikipedia.org/wiki/\"><span class=\"autonym\" lang=\"sh\" title=\"Serbo-Croatian (sh:)\">Srpskohrvatski</span></a></li>\n",
       "<li><a class=\"external text\" href=\"https://fi.wikipedia.org/wiki/\"><span class=\"autonym\" lang=\"fi\" title=\"Finnish (fi:)\">Suomi</span></a></li>\n",
       "<li><a class=\"external text\" href=\"https://tr.wikipedia.org/wiki/\"><span class=\"autonym\" lang=\"tr\" title=\"Turkish (tr:)\">Türkçe</span></a></li>\n",
       "</ul>\n",
       "</li>\n",
       "<li>\n",
       "<div class=\"wikipedia-languages-count-container\">\n",
       "<div class=\"wikipedia-languages-prettybars\"></div>\n",
       "<div class=\"wikipedia-languages-count\" role=\"heading\">50,000+ articles</div>\n",
       "<div class=\"wikipedia-languages-prettybars\"></div>\n",
       "</div>\n",
       "<ul class=\"wikipedia-languages-langs hlist hlist-separated inline\">\n",
       "<li><a class=\"external text\" href=\"https://ast.wikipedia.org/wiki/\"><span class=\"autonym\" lang=\"ast\" title=\"Asturian (ast:)\">Asturianu</span></a></li>\n",
       "<li><a class=\"external text\" href=\"https://bs.wikipedia.org/wiki/\"><span class=\"autonym\" lang=\"bs\" title=\"Bosnian (bs:)\">Bosanski</span></a></li>\n",
       "<li><a class=\"external text\" href=\"https://et.wikipedia.org/wiki/\"><span class=\"autonym\" lang=\"et\" title=\"Estonian (et:)\">Eesti</span></a></li>\n",
       "<li><a class=\"external text\" href=\"https://el.wikipedia.org/wiki/\"><span class=\"autonym\" lang=\"el\" title=\"Greek (el:)\">Ελληνικά</span></a></li>\n",
       "<li><a class=\"external text\" href=\"https://simple.wikipedia.org/wiki/\"><span class=\"autonym\" lang=\"simple\" title=\"Simple English (simple:)\">Simple English</span></a></li>\n",
       "<li><a class=\"external text\" href=\"https://gl.wikipedia.org/wiki/\"><span class=\"autonym\" lang=\"gl\" title=\"Galician (gl:)\">Galego</span></a></li>\n",
       "<li><a class=\"external text\" href=\"https://hr.wikipedia.org/wiki/\"><span class=\"autonym\" lang=\"hr\" title=\"Croatian (hr:)\">Hrvatski</span></a></li>\n",
       "<li><a class=\"external text\" href=\"https://lv.wikipedia.org/wiki/\"><span class=\"autonym\" lang=\"lv\" title=\"Latvian (lv:)\">Latviešu</span></a></li>\n",
       "<li><a class=\"external text\" href=\"https://lt.wikipedia.org/wiki/\"><span class=\"autonym\" lang=\"lt\" title=\"Lithuanian (lt:)\">Lietuvių</span></a></li>\n",
       "<li><a class=\"external text\" href=\"https://ml.wikipedia.org/wiki/\"><span class=\"autonym\" lang=\"ml\" title=\"Malayalam (ml:)\">മലയാളം</span></a></li>\n",
       "<li><a class=\"external text\" href=\"https://mk.wikipedia.org/wiki/\"><span class=\"autonym\" lang=\"mk\" title=\"Macedonian (mk:)\">Македонски</span></a></li>\n",
       "<li><a class=\"external text\" href=\"https://nn.wikipedia.org/wiki/\"><span class=\"autonym\" lang=\"nn\" title=\"Norwegian Nynorsk (nn:)\">Norsk nynorsk</span></a></li>\n",
       "<li><a class=\"external text\" href=\"https://sk.wikipedia.org/wiki/\"><span class=\"autonym\" lang=\"sk\" title=\"Slovak (sk:)\">Slovenčina</span></a></li>\n",
       "<li><a class=\"external text\" href=\"https://sl.wikipedia.org/wiki/\"><span class=\"autonym\" lang=\"sl\" title=\"Slovenian (sl:)\">Slovenščina</span></a></li>\n",
       "<li><a class=\"external text\" href=\"https://th.wikipedia.org/wiki/\"><span class=\"autonym\" lang=\"th\" title=\"Thai (th:)\">ไทย</span></a></li>\n",
       "</ul>\n",
       "</li>\n",
       "</ul>\n",
       "</div></div>\n",
       "</div>\n",
       "<!-- \n",
       "NewPP limit report\n",
       "Parsed by mw2314\n",
       "Cached time: 20210709014306\n",
       "Cache expiry: 3600\n",
       "Reduced expiry: true\n",
       "Complications: []\n",
       "CPU time usage: 0.366 seconds\n",
       "Real time usage: 0.490 seconds\n",
       "Preprocessor visited node count: 4054/1000000\n",
       "Post‐expand include size: 124015/2097152 bytes\n",
       "Template argument size: 8896/2097152 bytes\n",
       "Highest expansion depth: 21/40\n",
       "Expensive parser function count: 15/500\n",
       "Unstrip recursion depth: 0/20\n",
       "Unstrip post‐expand size: 5370/5000000 bytes\n",
       "Lua time usage: 0.081/10.000 seconds\n",
       "Lua memory usage: 2229539/52428800 bytes\n",
       "Number of Wikibase entities loaded: 0/400\n",
       "-->\n",
       "<!--\n",
       "Transclusion expansion time report (%,ms,calls,template)\n",
       "100.00%  355.253      1 -total\n",
       " 39.42%  140.044      9 Template:Main_page_image\n",
       " 35.28%  125.316      1 Wikipedia:Main_Page/Tomorrow\n",
       " 23.32%   82.858      9 Template:Str_number/trim\n",
       " 21.43%   76.113     27 Template:If_empty\n",
       " 17.99%   63.917      2 Template:Main_page_image/TFA\n",
       " 15.94%   56.617      1 Wikipedia:Today's_featured_article/July_9,_2021\n",
       " 11.91%   42.314      2 Template:Wikipedia_languages\n",
       " 11.87%   42.168      1 Wikipedia:Selected_anniversaries/July_9\n",
       " 10.40%   36.934      1 Wikipedia:Today's_featured_article/July_10,_2021\n",
       "-->\n",
       "<!-- Saved in parser cache with key enwiki:pcache:idhash:15580374-0!canonical and timestamp 20210709014306 and revision id 1004593520. Serialized with JSON.\n",
       " -->\n",
       "</div><noscript><img alt=\"\" height=\"1\" src=\"//en.wikipedia.org/wiki/Special:CentralAutoLogin/start?type=1x1\" style=\"border: none; position: absolute;\" title=\"\" width=\"1\"/></noscript>\n",
       "<div class=\"printfooter\">Retrieved from \"<a dir=\"ltr\" href=\"https://en.wikipedia.org/w/index.php?title=Main_Page&amp;oldid=1004593520\">https://en.wikipedia.org/w/index.php?title=Main_Page&amp;oldid=1004593520</a>\"</div></div>\n",
       "<div class=\"catlinks catlinks-allhidden\" data-mw=\"interface\" id=\"catlinks\"></div>\n",
       "</div>\n",
       "</div>\n",
       "<div id=\"mw-data-after-content\">\n",
       "<div class=\"read-more-container\"></div>\n",
       "</div>\n",
       "<div id=\"mw-navigation\">\n",
       "<h2>Navigation menu</h2>\n",
       "<div id=\"mw-head\">\n",
       "<nav aria-labelledby=\"p-personal-label\" class=\"mw-portlet mw-portlet-personal vector-user-menu-legacy vector-menu\" id=\"p-personal\" role=\"navigation\">\n",
       "<h3 class=\"vector-menu-heading\" id=\"p-personal-label\">\n",
       "<span>Personal tools</span>\n",
       "</h3>\n",
       "<div class=\"vector-menu-content\">\n",
       "<ul class=\"vector-menu-content-list\"><li id=\"pt-anonuserpage\">Not logged in</li><li id=\"pt-anontalk\"><a accesskey=\"n\" href=\"/wiki/Special:MyTalk\" title=\"Discussion about edits from this IP address [n]\">Talk</a></li><li id=\"pt-anoncontribs\"><a accesskey=\"y\" href=\"/wiki/Special:MyContributions\" title=\"A list of edits made from this IP address [y]\">Contributions</a></li><li id=\"pt-createaccount\"><a href=\"/w/index.php?title=Special:CreateAccount&amp;returnto=Main+Page\" title=\"You are encouraged to create an account and log in; however, it is not mandatory\">Create account</a></li><li id=\"pt-login\"><a accesskey=\"o\" href=\"/w/index.php?title=Special:UserLogin&amp;returnto=Main+Page\" title=\"You're encouraged to log in; however, it's not mandatory. [o]\">Log in</a></li></ul>\n",
       "</div>\n",
       "</nav>\n",
       "<div id=\"left-navigation\">\n",
       "<nav aria-labelledby=\"p-namespaces-label\" class=\"mw-portlet mw-portlet-namespaces vector-menu vector-menu-tabs\" id=\"p-namespaces\" role=\"navigation\">\n",
       "<h3 class=\"vector-menu-heading\" id=\"p-namespaces-label\">\n",
       "<span>Namespaces</span>\n",
       "</h3>\n",
       "<div class=\"vector-menu-content\">\n",
       "<ul class=\"vector-menu-content-list\"><li class=\"selected\" id=\"ca-nstab-main\"><a accesskey=\"c\" href=\"/wiki/Main_Page\" title=\"View the content page [c]\">Main Page</a></li><li id=\"ca-talk\"><a accesskey=\"t\" href=\"/wiki/Talk:Main_Page\" rel=\"discussion\" title=\"Discuss improvements to the content page [t]\">Talk</a></li></ul>\n",
       "</div>\n",
       "</nav>\n",
       "<nav aria-labelledby=\"p-variants-label\" class=\"mw-portlet mw-portlet-variants emptyPortlet vector-menu vector-menu-dropdown\" id=\"p-variants\" role=\"navigation\">\n",
       "<input aria-labelledby=\"p-variants-label\" class=\"vector-menu-checkbox\" data-event-name=\"ui.dropdown-p-variants\" type=\"checkbox\"/>\n",
       "<h3 class=\"vector-menu-heading\" id=\"p-variants-label\">\n",
       "<span>Variants</span>\n",
       "</h3>\n",
       "<div class=\"vector-menu-content\">\n",
       "<ul class=\"vector-menu-content-list\"></ul>\n",
       "</div>\n",
       "</nav>\n",
       "</div>\n",
       "<div id=\"right-navigation\">\n",
       "<nav aria-labelledby=\"p-views-label\" class=\"mw-portlet mw-portlet-views vector-menu vector-menu-tabs\" id=\"p-views\" role=\"navigation\">\n",
       "<h3 class=\"vector-menu-heading\" id=\"p-views-label\">\n",
       "<span>Views</span>\n",
       "</h3>\n",
       "<div class=\"vector-menu-content\">\n",
       "<ul class=\"vector-menu-content-list\"><li class=\"selected\" id=\"ca-view\"><a href=\"/wiki/Main_Page\">Read</a></li><li id=\"ca-viewsource\"><a accesskey=\"e\" href=\"/w/index.php?title=Main_Page&amp;action=edit\" title=\"This page is protected.\n",
       "You can view its source [e]\">View source</a></li><li id=\"ca-history\"><a accesskey=\"h\" href=\"/w/index.php?title=Main_Page&amp;action=history\" title=\"Past revisions of this page [h]\">View history</a></li></ul>\n",
       "</div>\n",
       "</nav>\n",
       "<nav aria-labelledby=\"p-cactions-label\" class=\"mw-portlet mw-portlet-cactions emptyPortlet vector-menu vector-menu-dropdown\" id=\"p-cactions\" role=\"navigation\">\n",
       "<input aria-labelledby=\"p-cactions-label\" class=\"vector-menu-checkbox\" data-event-name=\"ui.dropdown-p-cactions\" type=\"checkbox\"/>\n",
       "<h3 class=\"vector-menu-heading\" id=\"p-cactions-label\">\n",
       "<span>More</span>\n",
       "</h3>\n",
       "<div class=\"vector-menu-content\">\n",
       "<ul class=\"vector-menu-content-list\"></ul>\n",
       "</div>\n",
       "</nav>\n",
       "<div id=\"p-search\" role=\"search\">\n",
       "<h3>\n",
       "<label for=\"searchInput\">Search</label>\n",
       "</h3>\n",
       "<form action=\"/w/index.php\" id=\"searchform\">\n",
       "<div data-search-loc=\"header-navigation\" id=\"simpleSearch\">\n",
       "<input accesskey=\"f\" autocapitalize=\"sentences\" id=\"searchInput\" name=\"search\" placeholder=\"Search Wikipedia\" title=\"Search Wikipedia [f]\" type=\"search\"/>\n",
       "<input name=\"title\" type=\"hidden\" value=\"Special:Search\"/>\n",
       "<input class=\"searchButton mw-fallbackSearchButton\" id=\"mw-searchButton\" name=\"fulltext\" title=\"Search Wikipedia for this text\" type=\"submit\" value=\"Search\"/>\n",
       "<input class=\"searchButton\" id=\"searchButton\" name=\"go\" title=\"Go to a page with this exact name if it exists\" type=\"submit\" value=\"Go\"/>\n",
       "</div>\n",
       "</form>\n",
       "</div>\n",
       "</div>\n",
       "</div>\n",
       "<div id=\"mw-panel\">\n",
       "<div id=\"p-logo\" role=\"banner\">\n",
       "<a class=\"mw-wiki-logo\" href=\"/wiki/Main_Page\" title=\"Visit the main page\"></a>\n",
       "</div>\n",
       "<nav aria-labelledby=\"p-navigation-label\" class=\"mw-portlet mw-portlet-navigation vector-menu vector-menu-portal portal\" id=\"p-navigation\" role=\"navigation\">\n",
       "<h3 class=\"vector-menu-heading\" id=\"p-navigation-label\">\n",
       "<span>Navigation</span>\n",
       "</h3>\n",
       "<div class=\"vector-menu-content\">\n",
       "<ul class=\"vector-menu-content-list\"><li id=\"n-mainpage-description\"><a accesskey=\"z\" href=\"/wiki/Main_Page\" title=\"Visit the main page [z]\">Main page</a></li><li id=\"n-contents\"><a href=\"/wiki/Wikipedia:Contents\" title=\"Guides to browsing Wikipedia\">Contents</a></li><li id=\"n-currentevents\"><a href=\"/wiki/Portal:Current_events\" title=\"Articles related to current events\">Current events</a></li><li id=\"n-randompage\"><a accesskey=\"x\" href=\"/wiki/Special:Random\" title=\"Visit a randomly selected article [x]\">Random article</a></li><li id=\"n-aboutsite\"><a href=\"/wiki/Wikipedia:About\" title=\"Learn about Wikipedia and how it works\">About Wikipedia</a></li><li id=\"n-contactpage\"><a href=\"//en.wikipedia.org/wiki/Wikipedia:Contact_us\" title=\"How to contact Wikipedia\">Contact us</a></li><li id=\"n-sitesupport\"><a href=\"https://donate.wikimedia.org/wiki/Special:FundraiserRedirector?utm_source=donate&amp;utm_medium=sidebar&amp;utm_campaign=C13_en.wikipedia.org&amp;uselang=en\" title=\"Support us by donating to the Wikimedia Foundation\">Donate</a></li></ul>\n",
       "</div>\n",
       "</nav>\n",
       "<nav aria-labelledby=\"p-interaction-label\" class=\"mw-portlet mw-portlet-interaction vector-menu vector-menu-portal portal\" id=\"p-interaction\" role=\"navigation\">\n",
       "<h3 class=\"vector-menu-heading\" id=\"p-interaction-label\">\n",
       "<span>Contribute</span>\n",
       "</h3>\n",
       "<div class=\"vector-menu-content\">\n",
       "<ul class=\"vector-menu-content-list\"><li id=\"n-help\"><a href=\"/wiki/Help:Contents\" title=\"Guidance on how to use and edit Wikipedia\">Help</a></li><li id=\"n-introduction\"><a href=\"/wiki/Help:Introduction\" title=\"Learn how to edit Wikipedia\">Learn to edit</a></li><li id=\"n-portal\"><a href=\"/wiki/Wikipedia:Community_portal\" title=\"The hub for editors\">Community portal</a></li><li id=\"n-recentchanges\"><a accesskey=\"r\" href=\"/wiki/Special:RecentChanges\" title=\"A list of recent changes to Wikipedia [r]\">Recent changes</a></li><li id=\"n-upload\"><a href=\"/wiki/Wikipedia:File_Upload_Wizard\" title=\"Add images or other media for use on Wikipedia\">Upload file</a></li></ul>\n",
       "</div>\n",
       "</nav>\n",
       "<nav aria-labelledby=\"p-tb-label\" class=\"mw-portlet mw-portlet-tb vector-menu vector-menu-portal portal\" id=\"p-tb\" role=\"navigation\">\n",
       "<h3 class=\"vector-menu-heading\" id=\"p-tb-label\">\n",
       "<span>Tools</span>\n",
       "</h3>\n",
       "<div class=\"vector-menu-content\">\n",
       "<ul class=\"vector-menu-content-list\"><li id=\"t-whatlinkshere\"><a accesskey=\"j\" href=\"/wiki/Special:WhatLinksHere/Main_Page\" title=\"List of all English Wikipedia pages containing links to this page [j]\">What links here</a></li><li id=\"t-recentchangeslinked\"><a accesskey=\"k\" href=\"/wiki/Special:RecentChangesLinked/Main_Page\" rel=\"nofollow\" title=\"Recent changes in pages linked from this page [k]\">Related changes</a></li><li id=\"t-upload\"><a accesskey=\"u\" href=\"/wiki/Wikipedia:File_Upload_Wizard\" title=\"Upload files [u]\">Upload file</a></li><li id=\"t-specialpages\"><a accesskey=\"q\" href=\"/wiki/Special:SpecialPages\" title=\"A list of all special pages [q]\">Special pages</a></li><li id=\"t-permalink\"><a href=\"/w/index.php?title=Main_Page&amp;oldid=1004593520\" title=\"Permanent link to this revision of this page\">Permanent link</a></li><li id=\"t-info\"><a href=\"/w/index.php?title=Main_Page&amp;action=info\" title=\"More information about this page\">Page information</a></li><li id=\"t-cite\"><a href=\"/w/index.php?title=Special:CiteThisPage&amp;page=Main_Page&amp;id=1004593520&amp;wpFormIdentifier=titleform\" title=\"Information on how to cite this page\">Cite this page</a></li><li id=\"t-wikibase\"><a accesskey=\"g\" href=\"https://www.wikidata.org/wiki/Special:EntityPage/Q5296\" title=\"Structured data on this page hosted by Wikidata [g]\">Wikidata item</a></li></ul>\n",
       "</div>\n",
       "</nav>\n",
       "<nav aria-labelledby=\"p-coll-print_export-label\" class=\"mw-portlet mw-portlet-coll-print_export vector-menu vector-menu-portal portal\" id=\"p-coll-print_export\" role=\"navigation\">\n",
       "<h3 class=\"vector-menu-heading\" id=\"p-coll-print_export-label\">\n",
       "<span>Print/export</span>\n",
       "</h3>\n",
       "<div class=\"vector-menu-content\">\n",
       "<ul class=\"vector-menu-content-list\"><li id=\"coll-download-as-rl\"><a href=\"/w/index.php?title=Special:DownloadAsPdf&amp;page=Main_Page&amp;action=show-download-screen\" title=\"Download this page as a PDF file\">Download as PDF</a></li><li id=\"t-print\"><a accesskey=\"p\" href=\"/w/index.php?title=Main_Page&amp;printable=yes\" title=\"Printable version of this page [p]\">Printable version</a></li></ul>\n",
       "</div>\n",
       "</nav>\n",
       "<nav aria-labelledby=\"p-wikibase-otherprojects-label\" class=\"mw-portlet mw-portlet-wikibase-otherprojects vector-menu vector-menu-portal portal\" id=\"p-wikibase-otherprojects\" role=\"navigation\">\n",
       "<h3 class=\"vector-menu-heading\" id=\"p-wikibase-otherprojects-label\">\n",
       "<span>In other projects</span>\n",
       "</h3>\n",
       "<div class=\"vector-menu-content\">\n",
       "<ul class=\"vector-menu-content-list\"><li class=\"wb-otherproject-link wb-otherproject-commons\"><a href=\"https://commons.wikimedia.org/wiki/Main_Page\" hreflang=\"en\">Wikimedia Commons</a></li><li class=\"wb-otherproject-link wb-otherproject-mediawiki\"><a href=\"https://www.mediawiki.org/wiki/MediaWiki\" hreflang=\"en\">MediaWiki</a></li><li class=\"wb-otherproject-link wb-otherproject-meta\"><a href=\"https://meta.wikimedia.org/wiki/Main_Page\" hreflang=\"en\">Meta-Wiki</a></li><li class=\"wb-otherproject-link wb-otherproject-sources\"><a href=\"https://wikisource.org/wiki/Main_Page\" hreflang=\"en\">Multilingual Wikisource</a></li><li class=\"wb-otherproject-link wb-otherproject-species\"><a href=\"https://species.wikimedia.org/wiki/Main_Page\" hreflang=\"en\">Wikispecies</a></li><li class=\"wb-otherproject-link wb-otherproject-wikibooks\"><a href=\"https://en.wikibooks.org/wiki/Main_Page\" hreflang=\"en\">Wikibooks</a></li><li class=\"wb-otherproject-link wb-otherproject-wikidata\"><a href=\"https://www.wikidata.org/wiki/Wikidata:Main_Page\" hreflang=\"en\">Wikidata</a></li><li class=\"wb-otherproject-link wb-otherproject-wikimania\"><a href=\"https://wikimania.wikimedia.org/wiki/Wikimania\" hreflang=\"en\">Wikimania</a></li><li class=\"wb-otherproject-link wb-otherproject-wikinews\"><a href=\"https://en.wikinews.org/wiki/Main_Page\" hreflang=\"en\">Wikinews</a></li><li class=\"wb-otherproject-link wb-otherproject-wikiquote\"><a href=\"https://en.wikiquote.org/wiki/Main_Page\" hreflang=\"en\">Wikiquote</a></li><li class=\"wb-otherproject-link wb-otherproject-wikisource\"><a href=\"https://en.wikisource.org/wiki/Main_Page\" hreflang=\"en\">Wikisource</a></li><li class=\"wb-otherproject-link wb-otherproject-wikiversity\"><a href=\"https://en.wikiversity.org/wiki/Wikiversity:Main_Page\" hreflang=\"en\">Wikiversity</a></li><li class=\"wb-otherproject-link wb-otherproject-wikivoyage\"><a href=\"https://en.wikivoyage.org/wiki/Main_Page\" hreflang=\"en\">Wikivoyage</a></li><li class=\"wb-otherproject-link wb-otherproject-wiktionary\"><a href=\"https://en.wiktionary.org/wiki/Wiktionary:Main_Page\" hreflang=\"en\">Wiktionary</a></li></ul>\n",
       "</div>\n",
       "</nav>\n",
       "<nav aria-labelledby=\"p-lang-label\" class=\"mw-portlet mw-portlet-lang vector-menu vector-menu-portal portal\" id=\"p-lang\" role=\"navigation\">\n",
       "<h3 class=\"vector-menu-heading\" id=\"p-lang-label\">\n",
       "<span>Languages</span>\n",
       "</h3>\n",
       "<div class=\"vector-menu-content\">\n",
       "<ul class=\"vector-menu-content-list\"><li class=\"interlanguage-link interwiki-ar\"><a class=\"interlanguage-link-target\" href=\"https://ar.wikipedia.org/wiki/\" hreflang=\"ar\" lang=\"ar\" title=\"Arabic\">العربية</a></li><li class=\"interlanguage-link interwiki-bn\"><a class=\"interlanguage-link-target\" href=\"https://bn.wikipedia.org/wiki/\" hreflang=\"bn\" lang=\"bn\" title=\"Bangla\">বাংলা</a></li><li class=\"interlanguage-link interwiki-bg\"><a class=\"interlanguage-link-target\" href=\"https://bg.wikipedia.org/wiki/\" hreflang=\"bg\" lang=\"bg\" title=\"Bulgarian\">Български</a></li><li class=\"interlanguage-link interwiki-bs\"><a class=\"interlanguage-link-target\" href=\"https://bs.wikipedia.org/wiki/\" hreflang=\"bs\" lang=\"bs\" title=\"Bosnian\">Bosanski</a></li><li class=\"interlanguage-link interwiki-ca\"><a class=\"interlanguage-link-target\" href=\"https://ca.wikipedia.org/wiki/\" hreflang=\"ca\" lang=\"ca\" title=\"Catalan\">Català</a></li><li class=\"interlanguage-link interwiki-cs\"><a class=\"interlanguage-link-target\" href=\"https://cs.wikipedia.org/wiki/\" hreflang=\"cs\" lang=\"cs\" title=\"Czech\">Čeština</a></li><li class=\"interlanguage-link interwiki-da\"><a class=\"interlanguage-link-target\" href=\"https://da.wikipedia.org/wiki/\" hreflang=\"da\" lang=\"da\" title=\"Danish\">Dansk</a></li><li class=\"interlanguage-link interwiki-de\"><a class=\"interlanguage-link-target\" href=\"https://de.wikipedia.org/wiki/\" hreflang=\"de\" lang=\"de\" title=\"German\">Deutsch</a></li><li class=\"interlanguage-link interwiki-et\"><a class=\"interlanguage-link-target\" href=\"https://et.wikipedia.org/wiki/\" hreflang=\"et\" lang=\"et\" title=\"Estonian\">Eesti</a></li><li class=\"interlanguage-link interwiki-el\"><a class=\"interlanguage-link-target\" href=\"https://el.wikipedia.org/wiki/\" hreflang=\"el\" lang=\"el\" title=\"Greek\">Ελληνικά</a></li><li class=\"interlanguage-link interwiki-es\"><a class=\"interlanguage-link-target\" href=\"https://es.wikipedia.org/wiki/\" hreflang=\"es\" lang=\"es\" title=\"Spanish\">Español</a></li><li class=\"interlanguage-link interwiki-eo\"><a class=\"interlanguage-link-target\" href=\"https://eo.wikipedia.org/wiki/\" hreflang=\"eo\" lang=\"eo\" title=\"Esperanto\">Esperanto</a></li><li class=\"interlanguage-link interwiki-eu\"><a class=\"interlanguage-link-target\" href=\"https://eu.wikipedia.org/wiki/\" hreflang=\"eu\" lang=\"eu\" title=\"Basque\">Euskara</a></li><li class=\"interlanguage-link interwiki-fa\"><a class=\"interlanguage-link-target\" href=\"https://fa.wikipedia.org/wiki/\" hreflang=\"fa\" lang=\"fa\" title=\"Persian\">فارسی</a></li><li class=\"interlanguage-link interwiki-fr\"><a class=\"interlanguage-link-target\" href=\"https://fr.wikipedia.org/wiki/\" hreflang=\"fr\" lang=\"fr\" title=\"French\">Français</a></li><li class=\"interlanguage-link interwiki-gl\"><a class=\"interlanguage-link-target\" href=\"https://gl.wikipedia.org/wiki/\" hreflang=\"gl\" lang=\"gl\" title=\"Galician\">Galego</a></li><li class=\"interlanguage-link interwiki-ko\"><a class=\"interlanguage-link-target\" href=\"https://ko.wikipedia.org/wiki/\" hreflang=\"ko\" lang=\"ko\" title=\"Korean\">한국어</a></li><li class=\"interlanguage-link interwiki-hr\"><a class=\"interlanguage-link-target\" href=\"https://hr.wikipedia.org/wiki/\" hreflang=\"hr\" lang=\"hr\" title=\"Croatian\">Hrvatski</a></li><li class=\"interlanguage-link interwiki-id\"><a class=\"interlanguage-link-target\" href=\"https://id.wikipedia.org/wiki/\" hreflang=\"id\" lang=\"id\" title=\"Indonesian\">Bahasa Indonesia</a></li><li class=\"interlanguage-link interwiki-it\"><a class=\"interlanguage-link-target\" href=\"https://it.wikipedia.org/wiki/\" hreflang=\"it\" lang=\"it\" title=\"Italian\">Italiano</a></li><li class=\"interlanguage-link interwiki-he\"><a class=\"interlanguage-link-target\" href=\"https://he.wikipedia.org/wiki/\" hreflang=\"he\" lang=\"he\" title=\"Hebrew\">עברית</a></li><li class=\"interlanguage-link interwiki-ka\"><a class=\"interlanguage-link-target\" href=\"https://ka.wikipedia.org/wiki/\" hreflang=\"ka\" lang=\"ka\" title=\"Georgian\">ქართული</a></li><li class=\"interlanguage-link interwiki-lv\"><a class=\"interlanguage-link-target\" href=\"https://lv.wikipedia.org/wiki/\" hreflang=\"lv\" lang=\"lv\" title=\"Latvian\">Latviešu</a></li><li class=\"interlanguage-link interwiki-lt\"><a class=\"interlanguage-link-target\" href=\"https://lt.wikipedia.org/wiki/\" hreflang=\"lt\" lang=\"lt\" title=\"Lithuanian\">Lietuvių</a></li><li class=\"interlanguage-link interwiki-hu\"><a class=\"interlanguage-link-target\" href=\"https://hu.wikipedia.org/wiki/\" hreflang=\"hu\" lang=\"hu\" title=\"Hungarian\">Magyar</a></li><li class=\"interlanguage-link interwiki-mk\"><a class=\"interlanguage-link-target\" href=\"https://mk.wikipedia.org/wiki/\" hreflang=\"mk\" lang=\"mk\" title=\"Macedonian\">Македонски</a></li><li class=\"interlanguage-link interwiki-ms\"><a class=\"interlanguage-link-target\" href=\"https://ms.wikipedia.org/wiki/\" hreflang=\"ms\" lang=\"ms\" title=\"Malay\">Bahasa Melayu</a></li><li class=\"interlanguage-link interwiki-nl\"><a class=\"interlanguage-link-target\" href=\"https://nl.wikipedia.org/wiki/\" hreflang=\"nl\" lang=\"nl\" title=\"Dutch\">Nederlands</a></li><li class=\"interlanguage-link interwiki-ja\"><a class=\"interlanguage-link-target\" href=\"https://ja.wikipedia.org/wiki/\" hreflang=\"ja\" lang=\"ja\" title=\"Japanese\">日本語</a></li><li class=\"interlanguage-link interwiki-no\"><a class=\"interlanguage-link-target\" href=\"https://no.wikipedia.org/wiki/\" hreflang=\"nb\" lang=\"nb\" title=\"Norwegian Bokmål\">Norsk bokmål</a></li><li class=\"interlanguage-link interwiki-nn\"><a class=\"interlanguage-link-target\" href=\"https://nn.wikipedia.org/wiki/\" hreflang=\"nn\" lang=\"nn\" title=\"Norwegian Nynorsk\">Norsk nynorsk</a></li><li class=\"interlanguage-link interwiki-pl\"><a class=\"interlanguage-link-target\" href=\"https://pl.wikipedia.org/wiki/\" hreflang=\"pl\" lang=\"pl\" title=\"Polish\">Polski</a></li><li class=\"interlanguage-link interwiki-pt\"><a class=\"interlanguage-link-target\" href=\"https://pt.wikipedia.org/wiki/\" hreflang=\"pt\" lang=\"pt\" title=\"Portuguese\">Português</a></li><li class=\"interlanguage-link interwiki-ro\"><a class=\"interlanguage-link-target\" href=\"https://ro.wikipedia.org/wiki/\" hreflang=\"ro\" lang=\"ro\" title=\"Romanian\">Română</a></li><li class=\"interlanguage-link interwiki-ru\"><a class=\"interlanguage-link-target\" href=\"https://ru.wikipedia.org/wiki/\" hreflang=\"ru\" lang=\"ru\" title=\"Russian\">Русский</a></li><li class=\"interlanguage-link interwiki-simple\"><a class=\"interlanguage-link-target\" href=\"https://simple.wikipedia.org/wiki/\" hreflang=\"en-simple\" lang=\"en-simple\" title=\"Simple English\">Simple English</a></li><li class=\"interlanguage-link interwiki-sk\"><a class=\"interlanguage-link-target\" href=\"https://sk.wikipedia.org/wiki/\" hreflang=\"sk\" lang=\"sk\" title=\"Slovak\">Slovenčina</a></li><li class=\"interlanguage-link interwiki-sl\"><a class=\"interlanguage-link-target\" href=\"https://sl.wikipedia.org/wiki/\" hreflang=\"sl\" lang=\"sl\" title=\"Slovenian\">Slovenščina</a></li><li class=\"interlanguage-link interwiki-sr\"><a class=\"interlanguage-link-target\" href=\"https://sr.wikipedia.org/wiki/\" hreflang=\"sr\" lang=\"sr\" title=\"Serbian\">Српски / srpski</a></li><li class=\"interlanguage-link interwiki-sh\"><a class=\"interlanguage-link-target\" href=\"https://sh.wikipedia.org/wiki/\" hreflang=\"sh\" lang=\"sh\" title=\"Serbo-Croatian\">Srpskohrvatski / српскохрватски</a></li><li class=\"interlanguage-link interwiki-fi\"><a class=\"interlanguage-link-target\" href=\"https://fi.wikipedia.org/wiki/\" hreflang=\"fi\" lang=\"fi\" title=\"Finnish\">Suomi</a></li><li class=\"interlanguage-link interwiki-sv\"><a class=\"interlanguage-link-target\" href=\"https://sv.wikipedia.org/wiki/\" hreflang=\"sv\" lang=\"sv\" title=\"Swedish\">Svenska</a></li><li class=\"interlanguage-link interwiki-th\"><a class=\"interlanguage-link-target\" href=\"https://th.wikipedia.org/wiki/\" hreflang=\"th\" lang=\"th\" title=\"Thai\">ไทย</a></li><li class=\"interlanguage-link interwiki-tr\"><a class=\"interlanguage-link-target\" href=\"https://tr.wikipedia.org/wiki/\" hreflang=\"tr\" lang=\"tr\" title=\"Turkish\">Türkçe</a></li><li class=\"interlanguage-link interwiki-uk\"><a class=\"interlanguage-link-target\" href=\"https://uk.wikipedia.org/wiki/\" hreflang=\"uk\" lang=\"uk\" title=\"Ukrainian\">Українська</a></li><li class=\"interlanguage-link interwiki-vi\"><a class=\"interlanguage-link-target\" href=\"https://vi.wikipedia.org/wiki/\" hreflang=\"vi\" lang=\"vi\" title=\"Vietnamese\">Tiếng Việt</a></li><li class=\"interlanguage-link interwiki-zh\"><a class=\"interlanguage-link-target\" href=\"https://zh.wikipedia.org/wiki/\" hreflang=\"zh\" lang=\"zh\" title=\"Chinese\">中文</a></li></ul>\n",
       "</div>\n",
       "</nav>\n",
       "</div>\n",
       "</div>\n",
       "<footer class=\"mw-footer\" id=\"footer\" role=\"contentinfo\">\n",
       "<ul id=\"footer-info\">\n",
       "<li id=\"footer-info-lastmod\"> This page was last edited on 3 February 2021, at 11:11<span class=\"anonymous-show\"> (UTC)</span>.</li>\n",
       "<li id=\"footer-info-copyright\">Text is available under the <a href=\"//en.wikipedia.org/wiki/Wikipedia:Text_of_Creative_Commons_Attribution-ShareAlike_3.0_Unported_License\" rel=\"license\">Creative Commons Attribution-ShareAlike License</a><a href=\"//creativecommons.org/licenses/by-sa/3.0/\" rel=\"license\" style=\"display:none;\"></a>;\n",
       "additional terms may apply.  By using this site, you agree to the <a href=\"//foundation.wikimedia.org/wiki/Terms_of_Use\">Terms of Use</a> and <a href=\"//foundation.wikimedia.org/wiki/Privacy_policy\">Privacy Policy</a>. Wikipedia® is a registered trademark of the <a href=\"//www.wikimediafoundation.org/\">Wikimedia Foundation, Inc.</a>, a non-profit organization.</li>\n",
       "</ul>\n",
       "<ul id=\"footer-places\">\n",
       "<li id=\"footer-places-privacy\"><a class=\"extiw\" href=\"https://foundation.wikimedia.org/wiki/Privacy_policy\" title=\"wmf:Privacy policy\">Privacy policy</a></li>\n",
       "<li id=\"footer-places-about\"><a href=\"/wiki/Wikipedia:About\" title=\"Wikipedia:About\">About Wikipedia</a></li>\n",
       "<li id=\"footer-places-disclaimer\"><a href=\"/wiki/Wikipedia:General_disclaimer\" title=\"Wikipedia:General disclaimer\">Disclaimers</a></li>\n",
       "<li id=\"footer-places-contact\"><a href=\"//en.wikipedia.org/wiki/Wikipedia:Contact_us\">Contact Wikipedia</a></li>\n",
       "<li id=\"footer-places-mobileview\"><a class=\"noprint stopMobileRedirectToggle\" href=\"//en.m.wikipedia.org/w/index.php?title=Main_Page&amp;mobileaction=toggle_view_mobile\">Mobile view</a></li>\n",
       "<li id=\"footer-places-developers\"><a href=\"https://www.mediawiki.org/wiki/Special:MyLanguage/How_to_contribute\">Developers</a></li>\n",
       "<li id=\"footer-places-statslink\"><a href=\"https://stats.wikimedia.org/#/en.wikipedia.org\">Statistics</a></li>\n",
       "<li id=\"footer-places-cookiestatement\"><a href=\"https://foundation.wikimedia.org/wiki/Cookie_statement\">Cookie statement</a></li>\n",
       "</ul>\n",
       "<ul class=\"noprint\" id=\"footer-icons\">\n",
       "<li id=\"footer-copyrightico\"><a href=\"https://wikimediafoundation.org/\"><img alt=\"Wikimedia Foundation\" height=\"31\" loading=\"lazy\" src=\"/static/images/footer/wikimedia-button.png\" srcset=\"/static/images/footer/wikimedia-button-1.5x.png 1.5x, /static/images/footer/wikimedia-button-2x.png 2x\" width=\"88\"/></a></li>\n",
       "<li id=\"footer-poweredbyico\"><a href=\"https://www.mediawiki.org/\"><img alt=\"Powered by MediaWiki\" height=\"31\" loading=\"lazy\" src=\"/static/images/footer/poweredby_mediawiki_88x31.png\" srcset=\"/static/images/footer/poweredby_mediawiki_132x47.png 1.5x, /static/images/footer/poweredby_mediawiki_176x62.png 2x\" width=\"88\"/></a></li>\n",
       "</ul>\n",
       "</footer>\n",
       "<script>(RLQ=window.RLQ||[]).push(function(){mw.config.set({\"wgPageParseReport\":{\"limitreport\":{\"cputime\":\"0.366\",\"walltime\":\"0.490\",\"ppvisitednodes\":{\"value\":4054,\"limit\":1000000},\"postexpandincludesize\":{\"value\":124015,\"limit\":2097152},\"templateargumentsize\":{\"value\":8896,\"limit\":2097152},\"expansiondepth\":{\"value\":21,\"limit\":40},\"expensivefunctioncount\":{\"value\":15,\"limit\":500},\"unstrip-depth\":{\"value\":0,\"limit\":20},\"unstrip-size\":{\"value\":5370,\"limit\":5000000},\"entityaccesscount\":{\"value\":0,\"limit\":400},\"timingprofile\":[\"100.00%  355.253      1 -total\",\" 39.42%  140.044      9 Template:Main_page_image\",\" 35.28%  125.316      1 Wikipedia:Main_Page/Tomorrow\",\" 23.32%   82.858      9 Template:Str_number/trim\",\" 21.43%   76.113     27 Template:If_empty\",\" 17.99%   63.917      2 Template:Main_page_image/TFA\",\" 15.94%   56.617      1 Wikipedia:Today's_featured_article/July_9,_2021\",\" 11.91%   42.314      2 Template:Wikipedia_languages\",\" 11.87%   42.168      1 Wikipedia:Selected_anniversaries/July_9\",\" 10.40%   36.934      1 Wikipedia:Today's_featured_article/July_10,_2021\"]},\"scribunto\":{\"limitreport-timeusage\":{\"value\":\"0.081\",\"limit\":\"10.000\"},\"limitreport-memusage\":{\"value\":2229539,\"limit\":52428800}},\"cachereport\":{\"origin\":\"mw2314\",\"timestamp\":\"20210709014306\",\"ttl\":3600,\"transientcontent\":true}}});});</script>\n",
       "<script type=\"application/ld+json\">{\"@context\":\"https:\\/\\/schema.org\",\"@type\":\"Article\",\"name\":\"Main Page\",\"url\":\"https:\\/\\/en.wikipedia.org\\/wiki\\/Main_Page\",\"sameAs\":\"http:\\/\\/www.wikidata.org\\/entity\\/Q5296\",\"mainEntity\":\"http:\\/\\/www.wikidata.org\\/entity\\/Q5296\",\"author\":{\"@type\":\"Organization\",\"name\":\"Contributors to Wikimedia projects\"},\"publisher\":{\"@type\":\"Organization\",\"name\":\"Wikimedia Foundation, Inc.\",\"logo\":{\"@type\":\"ImageObject\",\"url\":\"https:\\/\\/www.wikimedia.org\\/static\\/images\\/wmf-hor-googpub.png\"}},\"datePublished\":\"2002-01-26T15:28:12Z\",\"dateModified\":\"2021-02-03T11:11:30Z\",\"image\":\"https:\\/\\/upload.wikimedia.org\\/wikipedia\\/commons\\/0\\/02\\/Pseudechis_porphyriacus_%2835307320466%29.jpg\",\"headline\":\"Wikimedia project page\"}</script>\n",
       "<script>(RLQ=window.RLQ||[]).push(function(){mw.config.set({\"wgBackendResponseTime\":176,\"wgHostname\":\"mw2327\"});});</script>\n",
       "</body></html>"
      ]
     },
     "execution_count": 11,
     "metadata": {},
     "output_type": "execute_result"
    }
   ],
   "source": [
    "# Import the package and then pass on the whole string (HTML content)\n",
    "from bs4 import BeautifulSoup\n",
    "\n",
    "soup = BeautifulSoup(contents, 'html.parser')\n",
    "soup"
   ]
  },
  {
   "cell_type": "code",
   "execution_count": 12,
   "id": "important-cooling",
   "metadata": {},
   "outputs": [
    {
     "data": {
      "text/plain": [
       "'\\n\\n\\n\\nWikipedia, the free encyclopedia\\n\\n\\n\\n\\n\\n\\n\\n\\n\\n\\n\\n\\n\\n\\n\\n\\n\\n\\n\\n\\n\\n\\n\\n\\n\\n\\n\\n\\n\\n\\n\\n\\n\\n\\nMain Page\\n\\nFrom Wikipedia, the free encyclopedia\\n\\n\\n\\nJump to navigation\\nJump to search\\n\\n\\n\\n\\nWelcome to Wikipedia,\\nthe free encyclopedia that anyone can edit.\\n6,333,223 articles in English\\n\\n\\nThe arts\\nBiography\\nGeography\\nHistory\\nMathematics\\nScience\\nSociety\\nTechnology\\nAll portals\\n\\n\\n\\n\\n\\nFrom today\\'s featured article\\n\\n\\n\\n\\nThe red-bellied black snake (Pseudechis porphyriacus) is a species of elapid snake native to Australia. Described by George Shaw in 1794, it is one of eastern Australia\\'s most commonly encountered snakes. Averaging around 1.25 metres (4\\xa0ft) in length when fully grown, it has glossy black upperparts, bright red or orange flanks and a pink or dull red belly. It generally avoids people, but can attack if provoked.  Although its venom is capable of causing significant illness, containing neurotoxins, myotoxins, coagulants and haemolysins, it is less venomous than that of other Australian elapid snakes, and no humans have been confirmed  to have died from its bite. The snake forages in bodies of shallow water, commonly with tangles of water plants and logs, where it hunts frogs, its main prey item, as well as fish, reptiles and small mammals. Its numbers are thought to be declining due to habitat fragmentation and falling frog populations. (Full\\xa0article...)\\n\\n\\nRecently featured: \\nGeorge W. Romney\\nFirst Punic War\\nLion-class battlecruiser\\n\\n\\nArchive\\nBy email\\nMore featured articles\\n\\nDid you know\\xa0...\\n\\n\\n\\nShrine of Miosach, late 11th and early 16th centuries\\n\\n... that large parts of the 11th-century Irish Shrine of Miosach (detail pictured) were added during a 16th-century refurbishment?\\n... that Elizabeth Mburu\\'s book African Hermeneutics seeks to bring a uniquely African approach to interpreting the Bible?\\n... that one of the arguments made by the Simla Deputation for increasing Muslim representation in Indian politics was that they had ruled India under the Mughal Empire?\\n... that when Robert Saunders\\xa0Jr.\\'s predecessor died, Saunders took his job but not his home?\\n... that Big Bang\\'s G-Dragon switched his mini-album\\'s title track from \"Bullshit\" to \"Untitled, 2014\" on the day of its release?\\n... that Mormon missionaries in Japan converse with each other in a specialized cant known as Senkyoshigo?\\n... that Hugo Marchand was named an étoile of Paris Opera Ballet at age\\xa023, after he made an unexpected role debut when the company was touring in Japan?\\n... that in 1991, the Church of Christ, Scientist published a book it had previously rejected as blasphemous to obtain a $97\\xa0million bequest needed to repay its financially disastrous expansion into television?\\n\\nArchive\\nStart a new article\\nNominate an article\\n\\n\\n\\n\\n\\n\\nIn the news\\n\\n\\nAndrei Vasilevskiy\\n\\nIn ice hockey, the Tampa Bay Lightning defeat the Montreal Canadiens in the Stanley Cup Finals (Conn Smythe Trophy winner Andrei Vasilevskiy pictured).\\nIndian actor Dilip Kumar dies at the age of 98.\\nPresident of Haiti Jovenel Moïse is assassinated and interim prime minister Claude Joseph assumes leadership.\\nPetropavlovsk-Kamchatsky Air Flight 251 crashes on approach to Palana Airport, Russia, killing all 28 people on board.\\nA Philippine Air Force C-130 transport aircraft crashes in Sulu, killing at least 53 people.\\n\\nOngoing: \\nCOVID-19 pandemic\\nRecent deaths: \\nAbul Kalam Qasmi\\nGillian Sheen\\nRaffaella Carrà\\nJames Kallstrom\\nSuzzanne Douglas\\nRobert Downey Sr.\\n\\nNominate an article\\nOn this day\\n\\nJuly 9: Independence Day in Argentina (1816) and South Sudan (2011)\\n\\n\\n\\nDonkey Kong arcade cabinet\\n\\n1640 – The Virginia Governor\\'s Council made John Punch the first legally recognized slave in England\\'s North American colonies.\\n1790 – Russo-Swedish War: During the Battle of Svensksund in the Baltic Sea, the Swedish Navy captured a third of the Russian fleet.\\n1958 – An earthquake struck Lituya Bay, Alaska; the subsequent megatsunami, the largest in modern times, reached an elevation of 1,720\\xa0ft (524\\xa0m).\\n1981 – Nintendo released the arcade game Donkey Kong (cabinet pictured), which featured the debut of Mario, one of the most famous characters in video-game history.\\n1995 – Sri Lankan Civil War: After advising civilians to take shelter in places of worship, the Sri Lanka Air Force bombed a church in Navaly, killing at least 147 people.\\nAnastasius\\xa0I Dicorus  (d.\\xa0518)Sebald Heyden  (d.\\xa01561)Mercedes Sosa  (b.\\xa01935)\\n\\nMore anniversaries: \\nJuly 8\\nJuly 9\\nJuly 10\\n\\n\\nArchive\\nBy email\\nList of days of the year\\n\\n\\n\\n\\nFrom today\\'s featured list\\n\\nTrack map of all storms during the season\\n\\nThe 1996 Atlantic hurricane season had thirteen named storms, of which nine became hurricanes and six became major hurricanes (hurricanes that are classified as Category\\xa03 or higher). These major hurricanes were Bertha, Edouard, Fran, Hortense, Isidore, and Lili. The season\\'s most destructive storms were Hurricane Cesar, Fran, and Hortense. Hurricane Cesar (later known as Hurricane Douglas in the Eastern Pacific basin) was the deadliest storm of the season; it killed at least 51 people and caused severe damage in northern Colombia and southern Central America. Hurricane Fran caused $3.2\\xa0billion (1996\\xa0USD) worth of damage in the United States, mostly in North Carolina, and killed 26 people. Hurricane Hortense dropped torrential rainfall on southwestern Puerto Rico and the eastern Dominican Republic, killing 21 people and leaving behind $127\\xa0million (1996\\xa0USD) in damage. (Full\\xa0list...)\\n\\n\\nRecently featured: \\nMedia Forest most-broadcast songs of the 2010s in Romania\\nNational Treasures of Japan (archaeological materials)\\nBluey (2018 TV series) episodes\\n\\n\\nArchive\\nMore featured lists\\n\\n\\n\\n\\n\\nToday\\'s featured picture\\n\\n\\n\\n\\n\\n\\nThe roan antelope (Hippotragus equinus) is a species of savanna antelope found in western, central and southern Africa. Named for its reddish-brown coat, it has a black face with white patches around the eyes and the mouth, and a short erect mane of greyish brown hair extending from the back of the neck to the rump. This roan antelope, of the subspecies H.\\xa0e.\\xa0koba, was photographed in Senegal; the subspecies\\'s range extends from Senegal to Benin in western Africa.\\n\\nPhotograph credit: Charles James Sharp\\n\\nRecently featured: \\nWilliam Windom\\nSoyuz\\xa0MS\\nZonocerus variegatus\\n\\n\\nArchive\\nMore featured pictures\\n\\n\\n\\n\\n\\nOther areas of Wikipedia\\n\\nCommunity portal – Bulletin board, projects, resources and activities covering a wide range of Wikipedia areas.\\nHelp desk – Ask questions about using Wikipedia.\\nLocal embassy – For Wikipedia-related communication in languages other than English.\\nReference desk – Serving as virtual librarians, Wikipedia volunteers tackle your questions on a wide range of subjects.\\nSite news – Announcements, updates, articles and press releases on Wikipedia and the Wikimedia Foundation.\\nVillage pump – For discussions about Wikipedia itself, including areas for technical issues and policies.\\n\\nWikipedia\\'s sister projects\\n\\nWikipedia is hosted by the Wikimedia Foundation, a non-profit organization that also hosts a range of other projects:\\n\\n\\n\\n\\n\\nCommonsFree media repository\\n\\n\\n\\nMediaWikiWiki software development\\n\\n\\n\\nMeta-WikiWikimedia project coordination\\n\\n\\n\\nWikibooksFree textbooks and manuals\\n\\n\\n\\nWikidataFree knowledge base\\n\\n\\n\\nWikinewsFree-content news\\n\\n\\n\\nWikiquoteCollection of quotations\\n\\n\\n\\nWikisourceFree-content library\\n\\n\\n\\nWikispeciesDirectory of species\\n\\n\\n\\nWikiversityFree learning tools\\n\\n\\n\\nWikivoyageFree travel guide\\n\\n\\n\\nWiktionaryDictionary and thesaurus\\n\\n\\n\\nWikipedia languages\\n\\n\\nThis Wikipedia is written in English. Many other Wikipedias are available; some of the largest are listed below.\\n\\n\\n\\n\\n\\n1,000,000+ articles\\n\\n\\n\\nالعربية\\nDeutsch\\nEspañol\\nFrançais\\nItaliano\\nNederlands\\n日本語\\nPolski\\nPortuguês\\nРусский\\nSvenska\\nУкраїнська\\nTiếng Việt\\n中文\\n\\n\\n\\n\\n\\n250,000+ articles\\n\\n\\n\\nBahasa Indonesia\\nBahasa Melayu\\nBân-lâm-gú\\nБългарски\\nCatalà\\nČeština\\nDansk\\nEsperanto\\nEuskara\\nفارسی\\u200e\\nעברית\\n한국어\\nMagyar\\nNorsk Bokmål\\nRomână\\nSrpski\\nSrpskohrvatski\\nSuomi\\nTürkçe\\n\\n\\n\\n\\n\\n50,000+ articles\\n\\n\\n\\nAsturianu\\nBosanski\\nEesti\\nΕλληνικά\\nSimple English\\nGalego\\nHrvatski\\nLatviešu\\nLietuvių\\nമലയാളം\\nМакедонски\\nNorsk nynorsk\\nSlovenčina\\nSlovenščina\\nไทย\\n\\n\\n\\n\\n\\n\\n\\n\\n\\nRetrieved from \"https://en.wikipedia.org/w/index.php?title=Main_Page&oldid=1004593520\"\\n\\n\\n\\n\\n\\n\\n\\nNavigation menu\\n\\n\\n\\nPersonal tools\\n\\n\\nNot logged inTalkContributionsCreate accountLog in\\n\\n\\n\\n\\n\\nNamespaces\\n\\n\\nMain PageTalk\\n\\n\\n\\n\\n\\nVariants\\n\\n\\n\\n\\n\\n\\n\\n\\n\\nViews\\n\\n\\nReadView sourceView history\\n\\n\\n\\n\\n\\nMore\\n\\n\\n\\n\\n\\n\\n\\nSearch\\n\\n\\n\\n\\n\\n\\n\\n\\n\\n\\n\\n\\n\\n\\n\\n\\n\\n\\nNavigation\\n\\n\\nMain pageContentsCurrent eventsRandom articleAbout WikipediaContact usDonate\\n\\n\\n\\n\\nContribute\\n\\n\\nHelpLearn to editCommunity portalRecent changesUpload file\\n\\n\\n\\n\\nTools\\n\\n\\nWhat links hereRelated changesUpload fileSpecial pagesPermanent linkPage informationCite this pageWikidata item\\n\\n\\n\\n\\nPrint/export\\n\\n\\nDownload as PDFPrintable version\\n\\n\\n\\n\\nIn other projects\\n\\n\\nWikimedia CommonsMediaWikiMeta-WikiMultilingual WikisourceWikispeciesWikibooksWikidataWikimaniaWikinewsWikiquoteWikisourceWikiversityWikivoyageWiktionary\\n\\n\\n\\n\\nLanguages\\n\\n\\nالعربيةবাংলাБългарскиBosanskiCatalàČeštinaDanskDeutschEestiΕλληνικάEspañolEsperantoEuskaraفارسیFrançaisGalego한국어HrvatskiBahasa IndonesiaItalianoעבריתქართულიLatviešuLietuviųMagyarМакедонскиBahasa MelayuNederlands日本語Norsk bokmålNorsk nynorskPolskiPortuguêsRomânăРусскийSimple EnglishSlovenčinaSlovenščinaСрпски / srpskiSrpskohrvatski / српскохрватскиSuomiSvenskaไทยTürkçeУкраїнськаTiếng Việt中文\\n\\n\\n\\n\\n\\n\\n This page was last edited on 3 February 2021, at 11:11\\xa0(UTC).\\nText is available under the Creative Commons Attribution-ShareAlike License;\\nadditional terms may apply.  By using this site, you agree to the Terms of Use and Privacy Policy. Wikipedia® is a registered trademark of the Wikimedia Foundation, Inc., a non-profit organization.\\n\\n\\nPrivacy policy\\nAbout Wikipedia\\nDisclaimers\\nContact Wikipedia\\nMobile view\\nDevelopers\\nStatistics\\nCookie statement\\n\\n\\n\\n\\n\\n\\n\\n\\n\\n'"
      ]
     },
     "execution_count": 12,
     "metadata": {},
     "output_type": "execute_result"
    }
   ],
   "source": [
    "txt_dump = soup.text\n",
    "txt_dump"
   ]
  },
  {
   "cell_type": "code",
   "execution_count": 13,
   "id": "great-gather",
   "metadata": {},
   "outputs": [
    {
     "data": {
      "text/plain": [
       "9826"
      ]
     },
     "execution_count": 13,
     "metadata": {},
     "output_type": "execute_result"
    }
   ],
   "source": [
    "# Find the length of the txt_dmp\n",
    "len(txt_dump)"
   ]
  },
  {
   "cell_type": "markdown",
   "id": "catholic-questionnaire",
   "metadata": {},
   "source": [
    "### Using Advanced BS4 Techniques to Extract Relevant Text"
   ]
  },
  {
   "cell_type": "code",
   "execution_count": 14,
   "id": "considerable-royal",
   "metadata": {},
   "outputs": [],
   "source": [
    "# Scan all the tags of the HTML page to find and extract the text associated with a particular <div> element\n",
    "text_list = []\n",
    "\n",
    "for d in soup.find_all('div'):\n",
    "    if d.get('id') == 'mp-otd':\n",
    "        for i in d.find_all('ul'):\n",
    "            text_list.append(i.text)"
   ]
  },
  {
   "cell_type": "code",
   "execution_count": 15,
   "id": "initial-start",
   "metadata": {},
   "outputs": [
    {
     "name": "stdout",
     "output_type": "stream",
     "text": [
      "1640 – The Virginia Governor's Council made John Punch the first legally recognized slave in England's North American colonies.\n",
      "1790 – Russo-Swedish War: During the Battle of Svensksund in the Baltic Sea, the Swedish Navy captured a third of the Russian fleet.\n",
      "1958 – An earthquake struck Lituya Bay, Alaska; the subsequent megatsunami, the largest in modern times, reached an elevation of 1,720 ft (524 m).\n",
      "1981 – Nintendo released the arcade game Donkey Kong (cabinet pictured), which featured the debut of Mario, one of the most famous characters in video-game history.\n",
      "1995 – Sri Lankan Civil War: After advising civilians to take shelter in places of worship, the Sri Lanka Air Force bombed a church in Navaly, killing at least 147 people.\n",
      "----------------------------------------------------------------------------------------------------\n",
      "Anastasius I Dicorus  (d. 518)Sebald Heyden  (d. 1561)Mercedes Sosa  (b. 1935)\n",
      "----------------------------------------------------------------------------------------------------\n",
      "July 8\n",
      "July 9\n",
      "July 10\n",
      "----------------------------------------------------------------------------------------------------\n",
      "Archive\n",
      "By email\n",
      "List of days of the year\n",
      "----------------------------------------------------------------------------------------------------\n"
     ]
    }
   ],
   "source": [
    "# Print the elements separated by a marker\n",
    "for i in text_list:\n",
    "    print(i)\n",
    "    print('-'*100)"
   ]
  },
  {
   "cell_type": "markdown",
   "id": "fitted-account",
   "metadata": {},
   "source": [
    "### Creating a Compact Function to Extract the On this day Text from the Wikipedia Home Page"
   ]
  },
  {
   "cell_type": "code",
   "execution_count": 16,
   "id": "serious-dictionary",
   "metadata": {},
   "outputs": [],
   "source": [
    "# Create a function that extract the text from the On this day section of the Wikipedia home page\n",
    "def wiki_on_this_day(url='https://en.wikipedia.org/wiki/Main_Page'):\n",
    "    import requests\n",
    "    from bs4 import BeautifulSoup\n",
    "    wiki_home = str(url)\n",
    "    response = requests.get(wiki_home)\n",
    "    \n",
    "    def status_check(r):\n",
    "        if r.status_code==200:\n",
    "            return 1\n",
    "        else:\n",
    "            return -1\n",
    "        \n",
    "    def encoding_check(r): \n",
    "        return (r.encoding)\n",
    "    \n",
    "    def decode_content(r, encoding): \n",
    "        return (r.content.decode(encoding))\n",
    "    \n",
    "    status = status_check(response)\n",
    "    if status == 1:\n",
    "        contents = decode_content(response, encoding_check(response))\n",
    "    else:\n",
    "        print(\"Sorry could not reach the web page!\")\n",
    "        return -1\n",
    "    \n",
    "    # Create a BeautifulSoup object and read the contents of the web page\n",
    "    soup = BeautifulSoup(contents, 'html.parser')\n",
    "    text_list = []\n",
    "    for d in soup.find_all('div'):\n",
    "        if d.get('id') == 'mp-otd':\n",
    "            for i in d.find_all('ul'):\n",
    "                text_list.append(i.text)\n",
    "    return text_list[0]"
   ]
  },
  {
   "cell_type": "code",
   "execution_count": 17,
   "id": "demonstrated-stock",
   "metadata": {},
   "outputs": [
    {
     "name": "stdout",
     "output_type": "stream",
     "text": [
      "1640 – The Virginia Governor's Council made John Punch the first legally recognized slave in England's North American colonies.\n",
      "1790 – Russo-Swedish War: During the Battle of Svensksund in the Baltic Sea, the Swedish Navy captured a third of the Russian fleet.\n",
      "1958 – An earthquake struck Lituya Bay, Alaska; the subsequent megatsunami, the largest in modern times, reached an elevation of 1,720 ft (524 m).\n",
      "1981 – Nintendo released the arcade game Donkey Kong (cabinet pictured), which featured the debut of Mario, one of the most famous characters in video-game history.\n",
      "1995 – Sri Lankan Civil War: After advising civilians to take shelter in places of worship, the Sri Lanka Air Force bombed a church in Navaly, killing at least 147 people.\n"
     ]
    }
   ],
   "source": [
    "# use the function\n",
    "print(wiki_on_this_day())"
   ]
  },
  {
   "cell_type": "markdown",
   "id": "cleared-annual",
   "metadata": {},
   "source": [
    "### Creating an XML File and Reading XML Element Objects"
   ]
  },
  {
   "cell_type": "code",
   "execution_count": 18,
   "id": "paperback-cleaning",
   "metadata": {},
   "outputs": [],
   "source": [
    "# Create an XML file\n",
    "data = '''\n",
    "<person>\n",
    "  <name>Dave</name>\n",
    "  <surname>Piccardo</surname>\n",
    "  <phone type=\"intl\">\n",
    "    +1 742 101 4456\n",
    "  </phone>\n",
    "  <email hide=\"yes\">\n",
    "    dave.p@gmail.com</email>\n",
    "</person>'''"
   ]
  },
  {
   "cell_type": "code",
   "execution_count": 19,
   "id": "worldwide-award",
   "metadata": {},
   "outputs": [
    {
     "data": {
      "text/plain": [
       "xml.etree.ElementTree.Element"
      ]
     },
     "execution_count": 19,
     "metadata": {},
     "output_type": "execute_result"
    }
   ],
   "source": [
    "# read it as an Element object using the Python XML parser engine\n",
    "import xml.etree.ElementTree as ET\n",
    "tree = ET.fromstring(data)\n",
    "type(tree)"
   ]
  },
  {
   "cell_type": "markdown",
   "id": "controlled-marina",
   "metadata": {},
   "source": [
    "### Finding Various Elements of Data within a Tree (Element)"
   ]
  },
  {
   "cell_type": "code",
   "execution_count": 20,
   "id": "certain-serve",
   "metadata": {},
   "outputs": [
    {
     "name": "stdout",
     "output_type": "stream",
     "text": [
      "Name: Dave\n"
     ]
    }
   ],
   "source": [
    "# Use the find method to find Name\n",
    "print('Name:', tree.find('name').text)"
   ]
  },
  {
   "cell_type": "code",
   "execution_count": 21,
   "id": "assumed-delhi",
   "metadata": {},
   "outputs": [
    {
     "name": "stdout",
     "output_type": "stream",
     "text": [
      "Surname: Piccardo\n"
     ]
    }
   ],
   "source": [
    "# Use the find method to find Surname\n",
    "print('Surname:', tree.find('surname').text)"
   ]
  },
  {
   "cell_type": "code",
   "execution_count": 22,
   "id": "homeless-refund",
   "metadata": {},
   "outputs": [
    {
     "name": "stdout",
     "output_type": "stream",
     "text": [
      "Phone: +1 742 101 4456\n"
     ]
    }
   ],
   "source": [
    "# Use the find method to find Phone\n",
    "print('Phone:', tree.find('phone').text.strip())"
   ]
  },
  {
   "cell_type": "code",
   "execution_count": 23,
   "id": "front-casino",
   "metadata": {},
   "outputs": [
    {
     "name": "stdout",
     "output_type": "stream",
     "text": [
      "Emaill hidden: yes\n",
      "Email: dave.p@gmail.com\n"
     ]
    }
   ],
   "source": [
    "# Use the find method to find email status and actual email\n",
    "print('Emaill hidden:', tree.find('email').get('hide'))\n",
    "print('Email:', tree.find('email').text.strip())"
   ]
  },
  {
   "cell_type": "markdown",
   "id": "brilliant-cookbook",
   "metadata": {},
   "source": [
    "### Traversing the Tree, Finding the Root, and Exploring All the Child Nodes and Their Tags and Attributes"
   ]
  },
  {
   "cell_type": "code",
   "execution_count": 24,
   "id": "varied-turtle",
   "metadata": {},
   "outputs": [
    {
     "data": {
      "text/plain": [
       "xml.etree.ElementTree.ElementTree"
      ]
     },
     "execution_count": 24,
     "metadata": {},
     "output_type": "execute_result"
    }
   ],
   "source": [
    "# define the tree\n",
    "tree2 = ET.parse('datasets/xml1.xml')\n",
    "type(tree2)"
   ]
  },
  {
   "cell_type": "code",
   "execution_count": 25,
   "id": "filled-dylan",
   "metadata": {},
   "outputs": [
    {
     "name": "stdout",
     "output_type": "stream",
     "text": [
      "Child: country | Child attribute: {'name': 'Liechtenstein'}\n",
      "Child: country | Child attribute: {'name': 'Singapore'}\n",
      "Child: country | Child attribute: {'name': 'Panama'}\n"
     ]
    }
   ],
   "source": [
    "# Explore these tags and attributes\n",
    "root = tree2.getroot()\n",
    "for child in root:\n",
    "    print('Child:', child.tag, '| Child attribute:', child.attrib)"
   ]
  },
  {
   "cell_type": "markdown",
   "id": "related-firewall",
   "metadata": {},
   "source": [
    "### Using the text Method to Extract Meaningful Data"
   ]
  },
  {
   "cell_type": "code",
   "execution_count": 26,
   "id": "iraqi-springfield",
   "metadata": {},
   "outputs": [
    {
     "data": {
      "text/plain": [
       "<Element 'gdppc' at 0x00000293AC73FF48>"
      ]
     },
     "execution_count": 26,
     "metadata": {},
     "output_type": "execute_result"
    }
   ],
   "source": [
    "# Access the root[0][2] element\n",
    "root[0][2]"
   ]
  },
  {
   "cell_type": "code",
   "execution_count": 27,
   "id": "major-force",
   "metadata": {},
   "outputs": [
    {
     "data": {
      "text/plain": [
       "'141100'"
      ]
     },
     "execution_count": 27,
     "metadata": {},
     "output_type": "execute_result"
    }
   ],
   "source": [
    "# Use the text method to access the data\n",
    "root[0][2].text"
   ]
  },
  {
   "cell_type": "code",
   "execution_count": 28,
   "id": "perfect-elizabeth",
   "metadata": {},
   "outputs": [
    {
     "data": {
      "text/plain": [
       "'gdppc'"
      ]
     },
     "execution_count": 28,
     "metadata": {},
     "output_type": "execute_result"
    }
   ],
   "source": [
    "# Use the tag method to access gdppc\n",
    "root[0][2].tag"
   ]
  },
  {
   "cell_type": "code",
   "execution_count": 29,
   "id": "embedded-hazard",
   "metadata": {},
   "outputs": [
    {
     "data": {
      "text/plain": [
       "<Element 'country' at 0x00000293AB19B8B8>"
      ]
     },
     "execution_count": 29,
     "metadata": {},
     "output_type": "execute_result"
    }
   ],
   "source": [
    "# Check root[0]\n",
    "root[0]"
   ]
  },
  {
   "cell_type": "code",
   "execution_count": 30,
   "id": "elect-rebate",
   "metadata": {},
   "outputs": [
    {
     "data": {
      "text/plain": [
       "'country'"
      ]
     },
     "execution_count": 30,
     "metadata": {},
     "output_type": "execute_result"
    }
   ],
   "source": [
    "# check the tag\n",
    "root[0].tag"
   ]
  },
  {
   "cell_type": "code",
   "execution_count": 31,
   "id": "funky-turtle",
   "metadata": {},
   "outputs": [
    {
     "data": {
      "text/plain": [
       "{'name': 'Liechtenstein'}"
      ]
     },
     "execution_count": 31,
     "metadata": {},
     "output_type": "execute_result"
    }
   ],
   "source": [
    "# We can use the attrib method to access it\n",
    "root[0].attrib"
   ]
  },
  {
   "cell_type": "markdown",
   "id": "enormous-seeking",
   "metadata": {},
   "source": [
    "### A Simple Demo of Using XML Data Obtained by Web Scraping"
   ]
  },
  {
   "cell_type": "code",
   "execution_count": 32,
   "id": "atomic-causing",
   "metadata": {},
   "outputs": [],
   "source": [
    "import urllib.parse"
   ]
  },
  {
   "cell_type": "code",
   "execution_count": 33,
   "id": "answering-campbell",
   "metadata": {},
   "outputs": [
    {
     "name": "stdout",
     "output_type": "stream",
     "text": [
      "Enter the name of a food item (enter 'quit' to quit): rice\n",
      "Retrieved 4374 characters\n"
     ]
    }
   ],
   "source": [
    "# Read from the Recipe Puppy website\n",
    "serviceurl = 'http://www.recipepuppy.com/api/?'\n",
    "item = str(input('Enter the name of a food item (enter \\'quit\\' to quit): '))\n",
    "url = serviceurl + urllib.parse.urlencode({'q':item})+'&p=1&format=xml'\n",
    "uh = requests.get(url)\n",
    "data = uh.text\n",
    "print('Retrieved', len(data), 'characters')"
   ]
  },
  {
   "cell_type": "markdown",
   "id": "indonesian-paragraph",
   "metadata": {},
   "source": [
    "### Defining and Testing a Function to Pull Country Data from an API"
   ]
  },
  {
   "cell_type": "code",
   "execution_count": 34,
   "id": "nearby-investing",
   "metadata": {},
   "outputs": [],
   "source": [
    "# import libraries\n",
    "import urllib.request, urllib.parse\n",
    "from urllib.error import HTTPError, URLError\n",
    "import json\n",
    "import pandas as pd"
   ]
  },
  {
   "cell_type": "code",
   "execution_count": 35,
   "id": "unlike-brazil",
   "metadata": {},
   "outputs": [],
   "source": [
    "# Define the service_url variable\n",
    "serviceurl = 'https://restcountries.eu/rest/v2/name/'"
   ]
  },
  {
   "cell_type": "code",
   "execution_count": 36,
   "id": "bacterial-maker",
   "metadata": {},
   "outputs": [],
   "source": [
    "# Define a function to pull out data when we pass the name of a country as an argument\n",
    "country_name = 'Switzerland'\n",
    "url = serviceurl + country_name\n",
    "uh = urllib.request.urlopen(url)"
   ]
  },
  {
   "cell_type": "code",
   "execution_count": 37,
   "id": "regular-framing",
   "metadata": {},
   "outputs": [],
   "source": [
    "# Define the get_country_data function\n",
    "def get_country_data(country):\n",
    "    \"\"\"\n",
    "    Function to get data about country from \"https://restcountries.eu\" API\n",
    "    \"\"\"\n",
    "    country_name = str(country)\n",
    "    url = serviceurl + country_name\n",
    "    try:\n",
    "        uh = urllib.request.urlopen(url)\n",
    "    except HTTPError as e:\n",
    "        print(f\"Sorry! Could not retrieve anything on {country_name}\")\n",
    "        return None\n",
    "    except URLError as e:\n",
    "        print('Failed to reach a server.')\n",
    "        print('Reason: ', e.reason)\n",
    "        return None\n",
    "    else:\n",
    "        data = uh.read().decode()\n",
    "        print(f\"Retrieved data on {country_name}. Total {len(data)} characters read.\")\n",
    "        return data"
   ]
  },
  {
   "cell_type": "code",
   "execution_count": 38,
   "id": "continent-eight",
   "metadata": {},
   "outputs": [
    {
     "name": "stdout",
     "output_type": "stream",
     "text": [
      "Retrieved data on Switzerland. Total 1090 characters read.\n"
     ]
    }
   ],
   "source": [
    "data = get_country_data(country_name)"
   ]
  },
  {
   "cell_type": "code",
   "execution_count": 39,
   "id": "sunset-queen",
   "metadata": {},
   "outputs": [
    {
     "name": "stdout",
     "output_type": "stream",
     "text": [
      "Sorry! Could not retrieve anything on Swiitzerland\n"
     ]
    }
   ],
   "source": [
    "# Feed erroneous data in country_name1\n",
    "get_country_data('Swiitzerland')"
   ]
  },
  {
   "cell_type": "markdown",
   "id": "undefined-preparation",
   "metadata": {},
   "source": [
    "### Testing the Function by Building a Small Database of Country Information"
   ]
  },
  {
   "cell_type": "code",
   "execution_count": 40,
   "id": "dominant-satisfaction",
   "metadata": {},
   "outputs": [],
   "source": [
    "# Load from string data \n",
    "x = json.loads(data)"
   ]
  },
  {
   "cell_type": "code",
   "execution_count": 41,
   "id": "radical-district",
   "metadata": {},
   "outputs": [],
   "source": [
    "# Load the only element\n",
    "y = x[0]"
   ]
  },
  {
   "cell_type": "code",
   "execution_count": 42,
   "id": "latin-journalism",
   "metadata": {},
   "outputs": [
    {
     "data": {
      "text/plain": [
       "dict"
      ]
     },
     "execution_count": 42,
     "metadata": {},
     "output_type": "execute_result"
    }
   ],
   "source": [
    "# check the type of y\n",
    "type(y)"
   ]
  },
  {
   "cell_type": "code",
   "execution_count": 43,
   "id": "sonic-dance",
   "metadata": {},
   "outputs": [
    {
     "data": {
      "text/plain": [
       "dict_keys(['name', 'topLevelDomain', 'alpha2Code', 'alpha3Code', 'callingCodes', 'capital', 'altSpellings', 'region', 'subregion', 'population', 'latlng', 'demonym', 'area', 'gini', 'timezones', 'borders', 'nativeName', 'numericCode', 'currencies', 'languages', 'translations', 'flag', 'regionalBlocs', 'cioc'])"
      ]
     },
     "execution_count": 43,
     "metadata": {},
     "output_type": "execute_result"
    }
   ],
   "source": [
    "# print the keys of y\n",
    "y.keys()"
   ]
  },
  {
   "cell_type": "code",
   "execution_count": 44,
   "id": "fabulous-landing",
   "metadata": {},
   "outputs": [
    {
     "name": "stdout",
     "output_type": "stream",
     "text": [
      "name : Switzerland\n",
      "topLevelDomain : ['.ch']\n",
      "alpha2Code : CH\n",
      "alpha3Code : CHE\n",
      "callingCodes : ['41']\n",
      "capital : Bern\n",
      "altSpellings : ['CH', 'Swiss Confederation', 'Schweiz', 'Suisse', 'Svizzera', 'Svizra']\n",
      "region : Europe\n",
      "subregion : Western Europe\n",
      "population : 8341600\n",
      "latlng : [47.0, 8.0]\n",
      "demonym : Swiss\n",
      "area : 41284.0\n",
      "gini : 33.7\n",
      "timezones : ['UTC+01:00']\n",
      "borders : ['AUT', 'FRA', 'ITA', 'LIE', 'DEU']\n",
      "nativeName : Schweiz\n",
      "numericCode : 756\n",
      "currencies : [{'code': 'CHF', 'name': 'Swiss franc', 'symbol': 'Fr'}]\n",
      "languages : [{'iso639_1': 'de', 'iso639_2': 'deu', 'name': 'German', 'nativeName': 'Deutsch'}, {'iso639_1': 'fr', 'iso639_2': 'fra', 'name': 'French', 'nativeName': 'français'}, {'iso639_1': 'it', 'iso639_2': 'ita', 'name': 'Italian', 'nativeName': 'Italiano'}]\n",
      "translations : {'de': 'Schweiz', 'es': 'Suiza', 'fr': 'Suisse', 'ja': 'スイス', 'it': 'Svizzera', 'br': 'Suíça', 'pt': 'Suíça', 'nl': 'Zwitserland', 'hr': 'Švicarska', 'fa': 'سوئیس'}\n",
      "flag : https://restcountries.eu/data/che.svg\n",
      "regionalBlocs : [{'acronym': 'EFTA', 'name': 'European Free Trade Association', 'otherAcronyms': [], 'otherNames': []}]\n",
      "cioc : SUI\n"
     ]
    }
   ],
   "source": [
    "# terate over the dictionary and print the key/item pairs\n",
    "for k, v in y.items():\n",
    "    print(k, \":\", v)"
   ]
  },
  {
   "cell_type": "code",
   "execution_count": 45,
   "id": "level-timothy",
   "metadata": {},
   "outputs": [
    {
     "name": "stdout",
     "output_type": "stream",
     "text": [
      "German\n",
      "French\n",
      "Italian\n"
     ]
    }
   ],
   "source": [
    "# Create a loop to extract the languages spoken in Switzerland\n",
    "for lang in y['languages']:\n",
    "    print(lang['name'])"
   ]
  },
  {
   "cell_type": "code",
   "execution_count": 46,
   "id": "advisory-harrison",
   "metadata": {},
   "outputs": [],
   "source": [
    "# Define the build_country_database function\n",
    "def build_country_database(list_country):\n",
    "    \"\"\"\n",
    "    Takes a list of country names.\n",
    "    Output a DataFrame with key information about those countries.\n",
    "    \"\"\"\n",
    "    # Define an empty dictionary with keys\n",
    "    country_dict={'Country':[],'Capital':[],'Region':[],'Sub-region':[],'Population':[],\n",
    "                  'Latitude':[],'Longitude':[],'Area':[],'Gini':[],'Timezones':[],\n",
    "                  'Currencies':[],'Languages':[]}\n",
    "    \n",
    "    for c in list_country:\n",
    "        data = get_country_data(c)\n",
    "        if data != None:\n",
    "            x = json.loads(data)\n",
    "            y = x[0]\n",
    "            country_dict['Country'].append(y['name'])\n",
    "            country_dict['Capital'].append(y['capital'])\n",
    "            country_dict['Region'].append(y['region'])\n",
    "            country_dict['Sub-region'].append(y['subregion'])\n",
    "            country_dict['Population'].append(y['population'])\n",
    "            country_dict['Latitude'].append(y['latlng'][0])\n",
    "            country_dict['Longitude'].append(y['latlng'][1])\n",
    "            country_dict['Area'].append(y['area'])\n",
    "            country_dict['Gini'].append(y['gini'])\n",
    "            # Note the code to handle possibility of multiple timezones as a list\n",
    "            if len(y['timezones']) > 1:\n",
    "                country_dict['Timezones'].append(','.join(y['timezones']))\n",
    "            else:\n",
    "                country_dict['Timezones'].append(y['timezones'][0])\n",
    "            # Note the code to handle possibility of multiple currencies as dictionaries\n",
    "            if len(y['currencies']) > 1:\n",
    "                lst_currencies = []\n",
    "                for i in y['currencies']:\n",
    "                    lst_currencies.append(i['name'])\n",
    "                country_dict['Currencies'].append(','.join(lst_currencies))\n",
    "            else:\n",
    "                country_dict['Currencies'].append(y['currencies'][0]['name'])\n",
    "            # Note the code to handle possibility of multiple languages as dictionaries\n",
    "            if len(y['languages']) > 1:\n",
    "                lst_languages = []\n",
    "                for i in y['languages']:\n",
    "                    lst_languages.append(i['name'])\n",
    "                country_dict['Languages'].append(','.join(lst_languages))\n",
    "            else:\n",
    "                country_dict['Languages'].append(y['languages'][0]['name'])\n",
    "    \n",
    "    # Return as a Pandas DataFrame\n",
    "    return pd.DataFrame(country_dict)"
   ]
  },
  {
   "cell_type": "code",
   "execution_count": 47,
   "id": "weighted-parker",
   "metadata": {},
   "outputs": [
    {
     "name": "stdout",
     "output_type": "stream",
     "text": [
      "Retrieved data on Nigeria. Total 1004 characters read.\n",
      "Retrieved data on Switzerland. Total 1090 characters read.\n",
      "Retrieved data on France. Total 1047 characters read.\n",
      "Sorry! Could not retrieve anything on Turmeric\n",
      "Retrieved data on Russia. Total 1120 characters read.\n",
      "Retrieved data on Kenya. Total 1052 characters read.\n",
      "Retrieved data on Singapore. Total 1223 characters read.\n"
     ]
    }
   ],
   "source": [
    "# test its robustness\n",
    "df1 = build_country_database(['Nigeria','Switzerland','France','Turmeric','Russia','Kenya', 'Singapore'])"
   ]
  },
  {
   "cell_type": "code",
   "execution_count": 48,
   "id": "western-literature",
   "metadata": {},
   "outputs": [
    {
     "data": {
      "text/html": [
       "<div>\n",
       "<style scoped>\n",
       "    .dataframe tbody tr th:only-of-type {\n",
       "        vertical-align: middle;\n",
       "    }\n",
       "\n",
       "    .dataframe tbody tr th {\n",
       "        vertical-align: top;\n",
       "    }\n",
       "\n",
       "    .dataframe thead th {\n",
       "        text-align: right;\n",
       "    }\n",
       "</style>\n",
       "<table border=\"1\" class=\"dataframe\">\n",
       "  <thead>\n",
       "    <tr style=\"text-align: right;\">\n",
       "      <th></th>\n",
       "      <th>Country</th>\n",
       "      <th>Capital</th>\n",
       "      <th>Region</th>\n",
       "      <th>Sub-region</th>\n",
       "      <th>Population</th>\n",
       "      <th>Latitude</th>\n",
       "      <th>Longitude</th>\n",
       "      <th>Area</th>\n",
       "      <th>Gini</th>\n",
       "      <th>Timezones</th>\n",
       "      <th>Currencies</th>\n",
       "      <th>Languages</th>\n",
       "    </tr>\n",
       "  </thead>\n",
       "  <tbody>\n",
       "    <tr>\n",
       "      <th>0</th>\n",
       "      <td>Nigeria</td>\n",
       "      <td>Abuja</td>\n",
       "      <td>Africa</td>\n",
       "      <td>Western Africa</td>\n",
       "      <td>186988000</td>\n",
       "      <td>10.000000</td>\n",
       "      <td>8.0</td>\n",
       "      <td>923768.0</td>\n",
       "      <td>48.8</td>\n",
       "      <td>UTC+01:00</td>\n",
       "      <td>Nigerian naira</td>\n",
       "      <td>English</td>\n",
       "    </tr>\n",
       "    <tr>\n",
       "      <th>1</th>\n",
       "      <td>Switzerland</td>\n",
       "      <td>Bern</td>\n",
       "      <td>Europe</td>\n",
       "      <td>Western Europe</td>\n",
       "      <td>8341600</td>\n",
       "      <td>47.000000</td>\n",
       "      <td>8.0</td>\n",
       "      <td>41284.0</td>\n",
       "      <td>33.7</td>\n",
       "      <td>UTC+01:00</td>\n",
       "      <td>Swiss franc</td>\n",
       "      <td>German,French,Italian</td>\n",
       "    </tr>\n",
       "    <tr>\n",
       "      <th>2</th>\n",
       "      <td>France</td>\n",
       "      <td>Paris</td>\n",
       "      <td>Europe</td>\n",
       "      <td>Western Europe</td>\n",
       "      <td>66710000</td>\n",
       "      <td>46.000000</td>\n",
       "      <td>2.0</td>\n",
       "      <td>640679.0</td>\n",
       "      <td>32.7</td>\n",
       "      <td>UTC-10:00,UTC-09:30,UTC-09:00,UTC-08:00,UTC-04...</td>\n",
       "      <td>Euro</td>\n",
       "      <td>French</td>\n",
       "    </tr>\n",
       "    <tr>\n",
       "      <th>3</th>\n",
       "      <td>Russian Federation</td>\n",
       "      <td>Moscow</td>\n",
       "      <td>Europe</td>\n",
       "      <td>Eastern Europe</td>\n",
       "      <td>146599183</td>\n",
       "      <td>60.000000</td>\n",
       "      <td>100.0</td>\n",
       "      <td>17124442.0</td>\n",
       "      <td>40.1</td>\n",
       "      <td>UTC+03:00,UTC+04:00,UTC+06:00,UTC+07:00,UTC+08...</td>\n",
       "      <td>Russian ruble</td>\n",
       "      <td>Russian</td>\n",
       "    </tr>\n",
       "    <tr>\n",
       "      <th>4</th>\n",
       "      <td>Kenya</td>\n",
       "      <td>Nairobi</td>\n",
       "      <td>Africa</td>\n",
       "      <td>Eastern Africa</td>\n",
       "      <td>47251000</td>\n",
       "      <td>1.000000</td>\n",
       "      <td>38.0</td>\n",
       "      <td>580367.0</td>\n",
       "      <td>47.7</td>\n",
       "      <td>UTC+03:00</td>\n",
       "      <td>Kenyan shilling</td>\n",
       "      <td>English,Swahili</td>\n",
       "    </tr>\n",
       "    <tr>\n",
       "      <th>5</th>\n",
       "      <td>Singapore</td>\n",
       "      <td>Singapore</td>\n",
       "      <td>Asia</td>\n",
       "      <td>South-Eastern Asia</td>\n",
       "      <td>5535000</td>\n",
       "      <td>1.366667</td>\n",
       "      <td>103.8</td>\n",
       "      <td>710.0</td>\n",
       "      <td>48.1</td>\n",
       "      <td>UTC+08:00</td>\n",
       "      <td>Brunei dollar,Singapore dollar</td>\n",
       "      <td>English,Malay,Tamil,Chinese</td>\n",
       "    </tr>\n",
       "  </tbody>\n",
       "</table>\n",
       "</div>"
      ],
      "text/plain": [
       "              Country    Capital  Region          Sub-region  Population  \\\n",
       "0             Nigeria      Abuja  Africa      Western Africa   186988000   \n",
       "1         Switzerland       Bern  Europe      Western Europe     8341600   \n",
       "2              France      Paris  Europe      Western Europe    66710000   \n",
       "3  Russian Federation     Moscow  Europe      Eastern Europe   146599183   \n",
       "4               Kenya    Nairobi  Africa      Eastern Africa    47251000   \n",
       "5           Singapore  Singapore    Asia  South-Eastern Asia     5535000   \n",
       "\n",
       "    Latitude  Longitude        Area  Gini  \\\n",
       "0  10.000000        8.0    923768.0  48.8   \n",
       "1  47.000000        8.0     41284.0  33.7   \n",
       "2  46.000000        2.0    640679.0  32.7   \n",
       "3  60.000000      100.0  17124442.0  40.1   \n",
       "4   1.000000       38.0    580367.0  47.7   \n",
       "5   1.366667      103.8       710.0  48.1   \n",
       "\n",
       "                                           Timezones  \\\n",
       "0                                          UTC+01:00   \n",
       "1                                          UTC+01:00   \n",
       "2  UTC-10:00,UTC-09:30,UTC-09:00,UTC-08:00,UTC-04...   \n",
       "3  UTC+03:00,UTC+04:00,UTC+06:00,UTC+07:00,UTC+08...   \n",
       "4                                          UTC+03:00   \n",
       "5                                          UTC+08:00   \n",
       "\n",
       "                       Currencies                    Languages  \n",
       "0                  Nigerian naira                      English  \n",
       "1                     Swiss franc        German,French,Italian  \n",
       "2                            Euro                       French  \n",
       "3                   Russian ruble                      Russian  \n",
       "4                 Kenyan shilling              English,Swahili  \n",
       "5  Brunei dollar,Singapore dollar  English,Malay,Tamil,Chinese  "
      ]
     },
     "execution_count": 48,
     "metadata": {},
     "output_type": "execute_result"
    }
   ],
   "source": [
    "# print the dataframe\n",
    "df1"
   ]
  },
  {
   "cell_type": "markdown",
   "id": "coastal-firmware",
   "metadata": {},
   "source": [
    "### Using the match Method to Check Whether a Pattern Matches a String/Sequence"
   ]
  },
  {
   "cell_type": "code",
   "execution_count": 49,
   "id": "frequent-princeton",
   "metadata": {},
   "outputs": [],
   "source": [
    "# import regex module\n",
    "import re"
   ]
  },
  {
   "cell_type": "code",
   "execution_count": 50,
   "id": "statewide-default",
   "metadata": {},
   "outputs": [],
   "source": [
    "# Define a string and a pattern\n",
    "string1 = 'Python'\n",
    "pattern = r\"Python\""
   ]
  },
  {
   "cell_type": "code",
   "execution_count": 51,
   "id": "obvious-cassette",
   "metadata": {},
   "outputs": [
    {
     "name": "stdout",
     "output_type": "stream",
     "text": [
      "matches!\n"
     ]
    }
   ],
   "source": [
    "# Write a conditional expression to check for a match\n",
    "if re.match(pattern, string1):\n",
    "    print(\"matches!\")\n",
    "else:\n",
    "    print(\"Doesn't match!\")"
   ]
  },
  {
   "cell_type": "code",
   "execution_count": 52,
   "id": "veterinary-affiliation",
   "metadata": {},
   "outputs": [
    {
     "name": "stdout",
     "output_type": "stream",
     "text": [
      "Doesn't match\n"
     ]
    }
   ],
   "source": [
    "# Test this with a string that only differs in the first letter\n",
    "string2 = 'python'\n",
    "\n",
    "if re.match(pattern, string2):\n",
    "    print(\"matches\")\n",
    "else:\n",
    "    print(\"Doesn't match\")"
   ]
  },
  {
   "cell_type": "markdown",
   "id": "identical-render",
   "metadata": {},
   "source": [
    "### Compiling Programs to Match Objects"
   ]
  },
  {
   "cell_type": "code",
   "execution_count": 53,
   "id": "honey-basics",
   "metadata": {},
   "outputs": [],
   "source": [
    "# Use the compile function from the regex module\n",
    "def print_match(s):\n",
    "    if prog.search(s) == None:\n",
    "        print(\"No match\")\n",
    "    else:\n",
    "        print(prog.search(s).group())\n",
    "\n",
    "prog = re.compile(pattern)"
   ]
  },
  {
   "cell_type": "code",
   "execution_count": 54,
   "id": "single-backing",
   "metadata": {},
   "outputs": [
    {
     "name": "stdout",
     "output_type": "stream",
     "text": [
      "Matches!\n"
     ]
    }
   ],
   "source": [
    "# Match it with the first string\n",
    "if prog.match(string1)!= None:\n",
    "    print(\"Matches!\")\n",
    "else:\n",
    "    print(\"Doesn't match.\")"
   ]
  },
  {
   "cell_type": "code",
   "execution_count": 55,
   "id": "previous-hurricane",
   "metadata": {},
   "outputs": [
    {
     "name": "stdout",
     "output_type": "stream",
     "text": [
      "Doesn't match.\n"
     ]
    }
   ],
   "source": [
    "# Match it with the second string\n",
    "if prog.match(string2)!= None:\n",
    "    print(\"Matches!\")\n",
    "else:\n",
    "    print(\"Doesn't match.\")"
   ]
  },
  {
   "cell_type": "markdown",
   "id": "radical-article",
   "metadata": {},
   "source": [
    "### Using Additional Parameters in the match Method to Check for Positional Matching"
   ]
  },
  {
   "cell_type": "code",
   "execution_count": 56,
   "id": "respected-minneapolis",
   "metadata": {},
   "outputs": [
    {
     "data": {
      "text/plain": [
       "<re.Match object; span=(1, 2), match='y'>"
      ]
     },
     "execution_count": 56,
     "metadata": {},
     "output_type": "execute_result"
    }
   ],
   "source": [
    "# Match y in the second position\n",
    "prog = re.compile(r'y')\n",
    "prog.match('Python', pos=1)"
   ]
  },
  {
   "cell_type": "code",
   "execution_count": 57,
   "id": "built-heaven",
   "metadata": {},
   "outputs": [
    {
     "data": {
      "text/plain": [
       "<re.Match object; span=(2, 6), match='thon'>"
      ]
     },
     "execution_count": 57,
     "metadata": {},
     "output_type": "execute_result"
    }
   ],
   "source": [
    "# Check for a pattern called thon starting from pos=2\n",
    "prog = re.compile(r'thon')\n",
    "prog.match('Python', pos=2)"
   ]
  },
  {
   "cell_type": "markdown",
   "id": "rotary-certification",
   "metadata": {},
   "source": [
    "### The search Method in RegEx"
   ]
  },
  {
   "cell_type": "code",
   "execution_count": 58,
   "id": "collective-madagascar",
   "metadata": {},
   "outputs": [
    {
     "name": "stdout",
     "output_type": "stream",
     "text": [
      "None\n"
     ]
    }
   ],
   "source": [
    "# Use the compile method to find matching strings\n",
    "prog = re.compile(r'ing')\n",
    "if prog.match('Spring') == None:\n",
    "    print('None')"
   ]
  },
  {
   "cell_type": "code",
   "execution_count": 59,
   "id": "christian-globe",
   "metadata": {},
   "outputs": [
    {
     "data": {
      "text/plain": [
       "<re.Match object; span=(3, 6), match='ing'>"
      ]
     },
     "execution_count": 59,
     "metadata": {},
     "output_type": "execute_result"
    }
   ],
   "source": [
    "# use search method\n",
    "prog.search('Spring')"
   ]
  },
  {
   "cell_type": "code",
   "execution_count": 60,
   "id": "theoretical-oklahoma",
   "metadata": {},
   "outputs": [
    {
     "data": {
      "text/plain": [
       "<re.Match object; span=(1, 4), match='ing'>"
      ]
     },
     "execution_count": 60,
     "metadata": {},
     "output_type": "execute_result"
    }
   ],
   "source": [
    "# Let's use Ringtone as the search parameter\n",
    "prog.search('Ringtone')"
   ]
  },
  {
   "cell_type": "markdown",
   "id": "hearing-hepatitis",
   "metadata": {},
   "source": [
    "### Using the span Method of the Match Object to Locate the Position of the Matched Pattern"
   ]
  },
  {
   "cell_type": "code",
   "execution_count": 61,
   "id": "defensive-worship",
   "metadata": {},
   "outputs": [],
   "source": [
    "prog = re.compile(r'ing')\n",
    "words = ['Spring', 'Cycling', 'Ringtone']"
   ]
  },
  {
   "cell_type": "code",
   "execution_count": 62,
   "id": "valid-emphasis",
   "metadata": {},
   "outputs": [],
   "source": [
    "# Create a function to return a tuple of the start and end positions of the match\n",
    "def verifying_pattern(s):\n",
    "    for word in words:\n",
    "        mt = prog.search(word)\n",
    "        start_pos = mt.span()[0]\n",
    "        end_pos = mt.span()[1]\n",
    "        print(f'The word \"{word}\" contains \"ing\" in the position {start_pos}-{end_pos}')"
   ]
  },
  {
   "cell_type": "code",
   "execution_count": 63,
   "id": "corrected-touch",
   "metadata": {},
   "outputs": [
    {
     "name": "stdout",
     "output_type": "stream",
     "text": [
      "The word \"Spring\" contains \"ing\" in the position 3-6\n",
      "The word \"Cycling\" contains \"ing\" in the position 4-7\n",
      "The word \"Ringtone\" contains \"ing\" in the position 1-4\n"
     ]
    }
   ],
   "source": [
    "verifying_pattern(words)"
   ]
  },
  {
   "cell_type": "markdown",
   "id": "early-mystery",
   "metadata": {},
   "source": [
    "### Examples of Single-Character Pattern Matching with search"
   ]
  },
  {
   "cell_type": "code",
   "execution_count": 64,
   "id": "suitable-major",
   "metadata": {},
   "outputs": [
    {
     "name": "stdout",
     "output_type": "stream",
     "text": [
      "pyg\n",
      "pyt\n"
     ]
    }
   ],
   "source": [
    "# Pass a regex expression with a dot inside the compile method.\n",
    "# It matches any single character except a newline character\n",
    "prog = re.compile(r'py.')\n",
    "print(prog.search('pygmy').group())\n",
    "print(prog.search('Jupyter').group())"
   ]
  },
  {
   "cell_type": "code",
   "execution_count": 65,
   "id": "twenty-telescope",
   "metadata": {},
   "outputs": [
    {
     "name": "stdout",
     "output_type": "stream",
     "text": [
      "com\n",
      "cam\n",
      "c_m\n",
      "c2m\n"
     ]
    }
   ],
   "source": [
    "# Pass a regex expression with \\w (lowercase w) inside the compile method.\n",
    "# It matches any single letter, digit, or underscore\n",
    "prog = re.compile(r'c\\wm')\n",
    "print(prog.search('comedy').group())\n",
    "print(prog.search('camera').group())\n",
    "print(prog.search('pac_man').group())\n",
    "print(prog.search('pac2man').group())"
   ]
  },
  {
   "cell_type": "code",
   "execution_count": 66,
   "id": "extreme-screening",
   "metadata": {},
   "outputs": [
    {
     "name": "stdout",
     "output_type": "stream",
     "text": [
      "4/1\n",
      "4-1\n",
      "4.1\n",
      "4/1\n"
     ]
    }
   ],
   "source": [
    "# Pass a regex expression with \\W (uppercase W) inside the compile method.\n",
    "# It matches anything not covered by \\w:\n",
    "prog = re.compile(r'4\\W1')\n",
    "print(prog.search('4/1 was a wonderful day!').group())\n",
    "print(prog.search('4-1 was a wonderful day!').group())\n",
    "print(prog.search('4.1 was a wonderful day!').group())\n",
    "print(prog.search('Remember the wonderful day 04/1?').group())"
   ]
  },
  {
   "cell_type": "code",
   "execution_count": 67,
   "id": "western-morgan",
   "metadata": {},
   "outputs": [
    {
     "name": "stdout",
     "output_type": "stream",
     "text": [
      "Data wrangling\n",
      "--------------------------------------------------------------------------------\n",
      "Data\twrangling is the full string\n",
      "Data\twrangling\n",
      "--------------------------------------------------------------------------------\n",
      "Data\n",
      "wrangling is the full string\n",
      "Data\n",
      "wrangling\n"
     ]
    }
   ],
   "source": [
    "# Pass a regex expression with \\s (lowercase s) inside the compile method.\n",
    "# It matches a single whitespace character, such as a space, newline, tab, or return\n",
    "prog = re.compile(r'Data\\swrangling')\n",
    "print(prog.search(\"Data wrangling is cool\").group())\n",
    "print(\"-\"*80)\n",
    "print(\"Data\\twrangling is the full string\")\n",
    "print(prog.search(\"Data\\twrangling is the full string\").group())\n",
    "print(\"-\"*80)\n",
    "print(\"Data\\nwrangling is the full string\")\n",
    "print(prog.search(\"Data\\nwrangling\").group())"
   ]
  },
  {
   "cell_type": "code",
   "execution_count": 68,
   "id": "viral-burning",
   "metadata": {},
   "outputs": [
    {
     "name": "stdout",
     "output_type": "stream",
     "text": [
      "score was 67\n",
      "score was 73\n"
     ]
    }
   ],
   "source": [
    "# Pass a regex expression with \\d inside the compile method. It matches numerical digits 0-9\n",
    "prog = re.compile(r'score was \\d\\d')\n",
    "print(prog.search('My score was 67').group())\n",
    "print(prog.search('Your score was 73').group())"
   ]
  },
  {
   "cell_type": "markdown",
   "id": "roman-stephen",
   "metadata": {},
   "source": [
    "### Handling Pattern Matching at the Start or End of a String"
   ]
  },
  {
   "cell_type": "code",
   "execution_count": 69,
   "id": "sharing-diana",
   "metadata": {},
   "outputs": [
    {
     "name": "stdout",
     "output_type": "stream",
     "text": [
      "No match\n",
      "India\n",
      "No match\n"
     ]
    }
   ],
   "source": [
    "# Use ^ (caret) to match a pattern at the start of the string\n",
    "prog = re.compile(r'^India')\n",
    "print_match(\"Russia implemented this law\")\n",
    "print_match(\"India implemented this law\")\n",
    "print_match(\"This law was implemented by India\")"
   ]
  },
  {
   "cell_type": "code",
   "execution_count": 70,
   "id": "powerful-thesis",
   "metadata": {},
   "outputs": [
    {
     "name": "stdout",
     "output_type": "stream",
     "text": [
      "Apple\n",
      "No match\n",
      "Apple\n"
     ]
    }
   ],
   "source": [
    "# Use $ (dollar sign) to match a pattern at the end of the string\n",
    "prog = re.compile(r'Apple$')\n",
    "print_match(\"Patent no 123456 belongs to Apple\")\n",
    "print_match(\"Patent no 345672 belongs to Samsung\")\n",
    "print_match(\"Patent no 987654 belongs to Apple\")"
   ]
  },
  {
   "cell_type": "markdown",
   "id": "instructional-replication",
   "metadata": {},
   "source": [
    "### Pattern Matching with Multiple Characters"
   ]
  },
  {
   "cell_type": "code",
   "execution_count": 71,
   "id": "together-commodity",
   "metadata": {},
   "outputs": [
    {
     "name": "stdout",
     "output_type": "stream",
     "text": [
      "a\n",
      "ab\n",
      "abbb\n",
      "No match\n",
      "ab\n",
      "abb\n"
     ]
    }
   ],
   "source": [
    "# Use * to match 0 or more repetitions of the preceding regular expression\n",
    "prog = re.compile(r'ab*')\n",
    "print_match(\"a\")\n",
    "print_match(\"ab\")\n",
    "print_match(\"abbb\")\n",
    "print_match(\"b\")\n",
    "print_match(\"bbab\")\n",
    "print_match(\"something_abb_something\")"
   ]
  },
  {
   "cell_type": "code",
   "execution_count": 72,
   "id": "natural-testing",
   "metadata": {},
   "outputs": [
    {
     "name": "stdout",
     "output_type": "stream",
     "text": [
      "No match\n",
      "ab\n",
      "abbb\n",
      "No match\n",
      "ab\n",
      "abb\n"
     ]
    }
   ],
   "source": [
    "# Using + causes the resulting RE to match 1 or more repetitions of the preceding regular expression\n",
    "prog = re.compile(r'ab+')\n",
    "print_match(\"a\")\n",
    "print_match(\"ab\")\n",
    "print_match(\"abbb\")\n",
    "print_match(\"b\")\n",
    "print_match(\"bbab\")\n",
    "print_match(\"something_abb_something\")"
   ]
  },
  {
   "cell_type": "code",
   "execution_count": 73,
   "id": "charged-cathedral",
   "metadata": {},
   "outputs": [
    {
     "name": "stdout",
     "output_type": "stream",
     "text": [
      "a\n",
      "ab\n",
      "ab\n",
      "No match\n",
      "ab\n",
      "ab\n"
     ]
    }
   ],
   "source": [
    "# ? causes the resulting re string to match precisely 0 or 1 repetitions of the preceding regular expression\n",
    "prog = re.compile(r'ab?')\n",
    "print_match(\"a\")\n",
    "print_match(\"ab\")\n",
    "print_match(\"abbb\")\n",
    "print_match(\"b\")\n",
    "print_match(\"bbab\")\n",
    "print_match(\"something_abb_something\")"
   ]
  },
  {
   "cell_type": "markdown",
   "id": "collect-vietnamese",
   "metadata": {},
   "source": [
    "### Greedy versus Non-Greedy Matching"
   ]
  },
  {
   "cell_type": "code",
   "execution_count": 74,
   "id": "square-parent",
   "metadata": {},
   "outputs": [
    {
     "name": "stdout",
     "output_type": "stream",
     "text": [
      "<a> b <c>\n"
     ]
    }
   ],
   "source": [
    "# Write the code to check the greedy way of matching a string\n",
    "prog = re.compile(r'<.*>')\n",
    "print_match('<a> b <c>')"
   ]
  },
  {
   "cell_type": "code",
   "execution_count": 75,
   "id": "parallel-wonder",
   "metadata": {},
   "outputs": [
    {
     "name": "stdout",
     "output_type": "stream",
     "text": [
      "<a>\n"
     ]
    }
   ],
   "source": [
    "# Use ? by inserting it after any regex expression to make it non-greedy\n",
    "prog = re.compile(r'<.*?>')\n",
    "print_match('<a> b <c>')"
   ]
  },
  {
   "cell_type": "markdown",
   "id": "intermediate-ghana",
   "metadata": {},
   "source": [
    "### Controlling Repetitions to Match in a Text"
   ]
  },
  {
   "cell_type": "code",
   "execution_count": 76,
   "id": "painful-helping",
   "metadata": {},
   "outputs": [
    {
     "name": "stdout",
     "output_type": "stream",
     "text": [
      "AAA\n",
      "AAA\n",
      "No match\n"
     ]
    }
   ],
   "source": [
    "# {m} specifies exactly m copies of RE to match.\n",
    "# Fewer matches cause a non-match and return None\n",
    "prog = re.compile(r'A{3}')\n",
    "print_match(\"ccAAAdd\")\n",
    "print_match(\"ccAAAAdd\")\n",
    "print_match(\"ccAAdd\")"
   ]
  },
  {
   "cell_type": "code",
   "execution_count": 77,
   "id": "dental-buffalo",
   "metadata": {},
   "outputs": [
    {
     "name": "stdout",
     "output_type": "stream",
     "text": [
      "AAAB\n",
      "No match\n",
      "AAB\n",
      "AAAAB\n"
     ]
    }
   ],
   "source": [
    "# {m,n} specifies exactly m to n copies of RE to match\n",
    "prog = re.compile(r'A{2,4}B')\n",
    "print_match(\"ccAAABdd\")\n",
    "print_match(\"ccABdd\")\n",
    "print_match(\"ccAABBBdd\")\n",
    "print_match(\"ccAAAAAAABdd\")"
   ]
  },
  {
   "cell_type": "code",
   "execution_count": 78,
   "id": "ordered-painting",
   "metadata": {},
   "outputs": [
    {
     "name": "stdout",
     "output_type": "stream",
     "text": [
      "AAAB\n",
      "AB\n",
      "AAB\n",
      "AAAB\n"
     ]
    }
   ],
   "source": [
    "# Omitting m specifies a lower bound of zero\n",
    "prog = re.compile(r'A{,3}B')\n",
    "print_match(\"ccAAABdd\")\n",
    "print_match(\"ccABdd\")\n",
    "print_match(\"ccAABBBdd\")\n",
    "print_match(\"ccAAAAAAABdd\")"
   ]
  },
  {
   "cell_type": "code",
   "execution_count": 79,
   "id": "human-mother",
   "metadata": {},
   "outputs": [
    {
     "name": "stdout",
     "output_type": "stream",
     "text": [
      "AAAB\n",
      "No match\n",
      "No match\n",
      "AAAAAAAB\n"
     ]
    }
   ],
   "source": [
    "# Omitting n specifies an infinite upper bound\n",
    "prog = re.compile(r'A{3,}B')\n",
    "print_match(\"ccAAABdd\")\n",
    "print_match(\"ccABdd\")\n",
    "print_match(\"ccAABBBdd\")\n",
    "print_match(\"ccAAAAAAABdd\")"
   ]
  },
  {
   "cell_type": "code",
   "execution_count": 80,
   "id": "magnetic-station",
   "metadata": {},
   "outputs": [
    {
     "name": "stdout",
     "output_type": "stream",
     "text": [
      "AAAA\n",
      "AA\n"
     ]
    }
   ],
   "source": [
    "# {m,n}? specifies m to n copies of RE to match in a non-greedy fashion\n",
    "prog = re.compile(r'A{2,4}')\n",
    "print_match(\"AAAAAAA\")\n",
    "prog = re.compile(r'A{2,4}?')\n",
    "print_match(\"AAAAAAA\")"
   ]
  },
  {
   "cell_type": "markdown",
   "id": "considered-commons",
   "metadata": {},
   "source": [
    "### Sets of Matching Characters"
   ]
  },
  {
   "cell_type": "code",
   "execution_count": 81,
   "id": "hundred-toronto",
   "metadata": {},
   "outputs": [
    {
     "name": "stdout",
     "output_type": "stream",
     "text": [
      "coolguy@xyz.com\n",
      "No match\n"
     ]
    }
   ],
   "source": [
    "prog = re.compile(r'[a-zA-Z]+@+[a-zA-Z]+\\.com')\n",
    "print_match(\"My email is coolguy@xyz.com\")\n",
    "print_match(\"My email is coolguy12@xyz.com\")"
   ]
  },
  {
   "cell_type": "code",
   "execution_count": 82,
   "id": "rubber-murder",
   "metadata": {},
   "outputs": [
    {
     "name": "stdout",
     "output_type": "stream",
     "text": [
      "coolguy12@xyz.com\n",
      "No match\n"
     ]
    }
   ],
   "source": [
    "# Let's add the digits as well\n",
    "prog = re.compile(r'[a-zA-Z0-9]+@+[a-zA-Z]+\\.com')\n",
    "print_match(\"My email is coolguy12@xyz.com\")\n",
    "print_match(\"My email is coolguy12@xyz.org\")"
   ]
  },
  {
   "cell_type": "code",
   "execution_count": 83,
   "id": "stunning-mortality",
   "metadata": {},
   "outputs": [
    {
     "name": "stdout",
     "output_type": "stream",
     "text": [
      "coolguy12@xyz.org\n",
      "No match\n"
     ]
    }
   ],
   "source": [
    "# try to address this last email\n",
    "prog = re.compile(r'[a-zA-Z0-9]+@+[a-zA-Z]+\\.+[a-zA-Z]{2,3}')\n",
    "print_match(\"My email is coolguy12@xyz.org\")\n",
    "print_match(\"My email is coolguy12[AT]xyz[DOT]org\")"
   ]
  },
  {
   "cell_type": "markdown",
   "id": "delayed-oklahoma",
   "metadata": {},
   "source": [
    "### The Use of OR in RegEx Using the OR Operator"
   ]
  },
  {
   "cell_type": "code",
   "execution_count": 84,
   "id": "pediatric-world",
   "metadata": {},
   "outputs": [
    {
     "name": "stdout",
     "output_type": "stream",
     "text": [
      "3124567897\n",
      "No match\n"
     ]
    }
   ],
   "source": [
    "# Let's start with the OR operator\n",
    "prog = re.compile(r'[0-9]{10}')\n",
    "print_match(\"3124567897\")\n",
    "print_match(\"312-456-7897\")"
   ]
  },
  {
   "cell_type": "code",
   "execution_count": 85,
   "id": "passive-nickname",
   "metadata": {},
   "outputs": [
    {
     "name": "stdout",
     "output_type": "stream",
     "text": [
      "3124567897\n",
      "312-456-7897\n"
     ]
    }
   ],
   "source": [
    "# Use multiple smaller regexes and logically combine them\n",
    "prog = re.compile(r'[0-9]{10}|[0-9]{3}-[0-9]{3}-[0-9]{4}')\n",
    "print_match(\"3124567897\")\n",
    "print_match(\"312-456-7897\")"
   ]
  },
  {
   "cell_type": "code",
   "execution_count": 86,
   "id": "favorite-integer",
   "metadata": {},
   "outputs": [
    {
     "name": "stdout",
     "output_type": "stream",
     "text": [
      "3124567897\n",
      "312-456-7897\n",
      "(312)456-7897\n",
      "312.456.7897\n"
     ]
    }
   ],
   "source": [
    "# Create four strings and execute print_match on them\n",
    "p1= r'[0-9]{10}'\n",
    "p2=r'[0-9]{3}-[0-9]{3}-[0-9]{4}'\n",
    "p3 = r'\\([0-9]{3}\\)[0-9]{3}-[0-9]{4}'\n",
    "p4 = r'[0-9]{3}\\.[0-9]{3}\\.[0-9]{4}'\n",
    "pattern= p1+'|'+p2+'|'+p3+'|'+p4\n",
    "prog = re.compile(pattern)\n",
    "print_match(\"3124567897\")\n",
    "print_match(\"312-456-7897\")\n",
    "print_match(\"(312)456-7897\")\n",
    "print_match(\"312.456.7897\")"
   ]
  },
  {
   "cell_type": "code",
   "execution_count": null,
   "id": "abandoned-apparel",
   "metadata": {},
   "outputs": [],
   "source": []
  }
 ],
 "metadata": {
  "kernelspec": {
   "display_name": "Python 3",
   "language": "python",
   "name": "python3"
  },
  "language_info": {
   "codemirror_mode": {
    "name": "ipython",
    "version": 3
   },
   "file_extension": ".py",
   "mimetype": "text/x-python",
   "name": "python",
   "nbconvert_exporter": "python",
   "pygments_lexer": "ipython3",
   "version": "3.7.7"
  }
 },
 "nbformat": 4,
 "nbformat_minor": 5
}
