{
 "cells": [
  {
   "cell_type": "markdown",
   "id": "accompanied-richards",
   "metadata": {},
   "source": [
    "# Introduction to Data Wrangling with Python"
   ]
  },
  {
   "cell_type": "code",
   "execution_count": 1,
   "id": "extraordinary-commodity",
   "metadata": {},
   "outputs": [],
   "source": [
    "# import libraries\n",
    "import pandas as pd"
   ]
  },
  {
   "cell_type": "code",
   "execution_count": 2,
   "id": "meaning-egyptian",
   "metadata": {},
   "outputs": [
    {
     "data": {
      "text/plain": [
       "['218-68-9955',\n",
       " '165-73-3124',\n",
       " '432-47-4043',\n",
       " '563-93-1393',\n",
       " '153-93-3401',\n",
       " '670-09-7369',\n",
       " '123-05-9652',\n",
       " '812-13-2476',\n",
       " '726-13-1007',\n",
       " '825-05-4836']"
      ]
     },
     "execution_count": 2,
     "metadata": {},
     "output_type": "execute_result"
    }
   ],
   "source": [
    "# create a list\n",
    "ssn = list(pd.read_csv('datasets/ssn.csv'))\n",
    "ssn"
   ]
  },
  {
   "cell_type": "code",
   "execution_count": 3,
   "id": "packed-cooking",
   "metadata": {},
   "outputs": [
    {
     "data": {
      "text/plain": [
       "'218-68-9955'"
      ]
     },
     "execution_count": 3,
     "metadata": {},
     "output_type": "execute_result"
    }
   ],
   "source": [
    "# accessing the first element\n",
    "ssn[0]"
   ]
  },
  {
   "cell_type": "code",
   "execution_count": 4,
   "id": "fallen-arrest",
   "metadata": {},
   "outputs": [
    {
     "data": {
      "text/plain": [
       "'825-05-4836'"
      ]
     },
     "execution_count": 4,
     "metadata": {},
     "output_type": "execute_result"
    }
   ],
   "source": [
    "# accessing the last element\n",
    "ssn[-1]"
   ]
  },
  {
   "cell_type": "code",
   "execution_count": 5,
   "id": "institutional-novel",
   "metadata": {},
   "outputs": [
    {
     "data": {
      "text/plain": [
       "['218-68-9955', '165-73-3124', '432-47-4043']"
      ]
     },
     "execution_count": 5,
     "metadata": {},
     "output_type": "execute_result"
    }
   ],
   "source": [
    "# Access the first three elements of ssn\n",
    "ssn[0:3]"
   ]
  },
  {
   "cell_type": "code",
   "execution_count": 6,
   "id": "republican-denver",
   "metadata": {},
   "outputs": [
    {
     "data": {
      "text/plain": [
       "['726-13-1007', '825-05-4836']"
      ]
     },
     "execution_count": 6,
     "metadata": {},
     "output_type": "execute_result"
    }
   ],
   "source": [
    "# Access the last two elements of ssn\n",
    "ssn[-2:]"
   ]
  },
  {
   "cell_type": "code",
   "execution_count": 7,
   "id": "lyric-myanmar",
   "metadata": {},
   "outputs": [
    {
     "data": {
      "text/plain": [
       "['825-05-4836',\n",
       " '726-13-1007',\n",
       " '812-13-2476',\n",
       " '123-05-9652',\n",
       " '670-09-7369',\n",
       " '153-93-3401',\n",
       " '563-93-1393',\n",
       " '432-47-4043',\n",
       " '165-73-3124',\n",
       " '218-68-9955']"
      ]
     },
     "execution_count": 7,
     "metadata": {},
     "output_type": "execute_result"
    }
   ],
   "source": [
    "# Reverse the elements in the list\n",
    "ssn[-1::-1]"
   ]
  },
  {
   "cell_type": "code",
   "execution_count": 8,
   "id": "advance-dependence",
   "metadata": {},
   "outputs": [
    {
     "data": {
      "text/plain": [
       "['218-68-9955',\n",
       " '165-73-3124',\n",
       " '432-47-4043',\n",
       " '563-93-1393',\n",
       " '153-93-3401',\n",
       " '670-09-7369',\n",
       " '123-05-9652',\n",
       " '812-13-2476',\n",
       " '726-13-1007',\n",
       " '825-05-4836']"
      ]
     },
     "execution_count": 8,
     "metadata": {},
     "output_type": "execute_result"
    }
   ],
   "source": [
    "# Create a list using the append method\n",
    "ssn_2 = []\n",
    "for element in ssn:\n",
    "    ssn_2.append(element)\n",
    "\n",
    "ssn_2"
   ]
  },
  {
   "cell_type": "code",
   "execution_count": 9,
   "id": "right-interview",
   "metadata": {},
   "outputs": [
    {
     "data": {
      "text/plain": [
       "['soc: 218-68-9955',\n",
       " 'soc: 165-73-3124',\n",
       " 'soc: 432-47-4043',\n",
       " 'soc: 563-93-1393',\n",
       " 'soc: 153-93-3401',\n",
       " 'soc: 670-09-7369',\n",
       " 'soc: 123-05-9652',\n",
       " 'soc: 812-13-2476',\n",
       " 'soc: 726-13-1007',\n",
       " 'soc: 825-05-4836']"
      ]
     },
     "execution_count": 9,
     "metadata": {},
     "output_type": "execute_result"
    }
   ],
   "source": [
    "# Generating a new list by list comprehension\n",
    "ssn_3 = [\"soc: \" + x for x in ssn_2]\n",
    "ssn_3"
   ]
  },
  {
   "cell_type": "code",
   "execution_count": 10,
   "id": "laden-chassis",
   "metadata": {},
   "outputs": [
    {
     "data": {
      "text/plain": [
       "['soc: 218-68-9955',\n",
       " 'soc: 165-73-3124',\n",
       " 'soc: 563-93-1393',\n",
       " 'soc: 153-93-3401',\n",
       " 'soc: 123-05-9652',\n",
       " 'soc: 825-05-4836']"
      ]
     },
     "execution_count": 10,
     "metadata": {},
     "output_type": "execute_result"
    }
   ],
   "source": [
    "# Search all the social security numbers with the number 5 in them\n",
    "numbers = [x for x in ssn_3 if \"5\" in x]\n",
    "numbers"
   ]
  },
  {
   "cell_type": "code",
   "execution_count": 11,
   "id": "increasing-pierre",
   "metadata": {},
   "outputs": [
    {
     "data": {
      "text/plain": [
       "['102-90-0314',\n",
       " '247-17-2338',\n",
       " '318-22-2760',\n",
       " '218-68-9955',\n",
       " '165-73-3124',\n",
       " '432-47-4043',\n",
       " '563-93-1393',\n",
       " '153-93-3401',\n",
       " '670-09-7369',\n",
       " '123-05-9652',\n",
       " '812-13-2476',\n",
       " '726-13-1007',\n",
       " '825-05-4836']"
      ]
     },
     "execution_count": 11,
     "metadata": {},
     "output_type": "execute_result"
    }
   ],
   "source": [
    "# Generate a list by adding the two lists\n",
    "ssn_4 = [\"102-90-0314\" , \"247-17-2338\" , \"318-22-2760\"]\n",
    "ssn_5 = ssn_4 + ssn\n",
    "ssn_5"
   ]
  },
  {
   "cell_type": "code",
   "execution_count": 12,
   "id": "social-vancouver",
   "metadata": {},
   "outputs": [
    {
     "data": {
      "text/plain": [
       "['218-68-9955',\n",
       " '165-73-3124',\n",
       " '432-47-4043',\n",
       " '563-93-1393',\n",
       " '153-93-3401',\n",
       " '670-09-7369',\n",
       " '123-05-9652',\n",
       " '812-13-2476',\n",
       " '726-13-1007',\n",
       " '825-05-4836',\n",
       " '102-90-0314',\n",
       " '247-17-2338',\n",
       " '318-22-2760']"
      ]
     },
     "execution_count": 12,
     "metadata": {},
     "output_type": "execute_result"
    }
   ],
   "source": [
    "# Extend a string using the extend keyword\n",
    "ssn_2.extend(ssn_4)\n",
    "ssn_2"
   ]
  },
  {
   "cell_type": "code",
   "execution_count": 13,
   "id": "invisible-transportation",
   "metadata": {},
   "outputs": [
    {
     "name": "stdout",
     "output_type": "stream",
     "text": [
      "218-68-9955 , 102-90-0314\n",
      "218-68-9955 , 247-17-2338\n",
      "218-68-9955 , 318-22-2760\n",
      "218-68-9955 , 218-68-9955\n",
      "218-68-9955 , 165-73-3124\n",
      "218-68-9955 , 432-47-4043\n",
      "218-68-9955 , 563-93-1393\n",
      "218-68-9955 , 153-93-3401\n",
      "218-68-9955 , 670-09-7369\n",
      "218-68-9955 , 123-05-9652\n",
      "218-68-9955 , 812-13-2476\n",
      "218-68-9955 , 726-13-1007\n",
      "218-68-9955 , 825-05-4836\n",
      "165-73-3124 , 102-90-0314\n",
      "165-73-3124 , 247-17-2338\n",
      "165-73-3124 , 318-22-2760\n",
      "165-73-3124 , 218-68-9955\n",
      "165-73-3124 , 165-73-3124\n",
      "165-73-3124 , 432-47-4043\n",
      "165-73-3124 , 563-93-1393\n",
      "165-73-3124 , 153-93-3401\n",
      "165-73-3124 , 670-09-7369\n",
      "165-73-3124 , 123-05-9652\n",
      "165-73-3124 , 812-13-2476\n",
      "165-73-3124 , 726-13-1007\n",
      "165-73-3124 , 825-05-4836\n",
      "432-47-4043 , 102-90-0314\n",
      "432-47-4043 , 247-17-2338\n",
      "432-47-4043 , 318-22-2760\n",
      "432-47-4043 , 218-68-9955\n",
      "432-47-4043 , 165-73-3124\n",
      "432-47-4043 , 432-47-4043\n",
      "432-47-4043 , 563-93-1393\n",
      "432-47-4043 , 153-93-3401\n",
      "432-47-4043 , 670-09-7369\n",
      "432-47-4043 , 123-05-9652\n",
      "432-47-4043 , 812-13-2476\n",
      "432-47-4043 , 726-13-1007\n",
      "432-47-4043 , 825-05-4836\n",
      "563-93-1393 , 102-90-0314\n",
      "563-93-1393 , 247-17-2338\n",
      "563-93-1393 , 318-22-2760\n",
      "563-93-1393 , 218-68-9955\n",
      "563-93-1393 , 165-73-3124\n",
      "563-93-1393 , 432-47-4043\n",
      "563-93-1393 , 563-93-1393\n",
      "563-93-1393 , 153-93-3401\n",
      "563-93-1393 , 670-09-7369\n",
      "563-93-1393 , 123-05-9652\n",
      "563-93-1393 , 812-13-2476\n",
      "563-93-1393 , 726-13-1007\n",
      "563-93-1393 , 825-05-4836\n",
      "153-93-3401 , 102-90-0314\n",
      "153-93-3401 , 247-17-2338\n",
      "153-93-3401 , 318-22-2760\n",
      "153-93-3401 , 218-68-9955\n",
      "153-93-3401 , 165-73-3124\n",
      "153-93-3401 , 432-47-4043\n",
      "153-93-3401 , 563-93-1393\n",
      "153-93-3401 , 153-93-3401\n",
      "153-93-3401 , 670-09-7369\n",
      "153-93-3401 , 123-05-9652\n",
      "153-93-3401 , 812-13-2476\n",
      "153-93-3401 , 726-13-1007\n",
      "153-93-3401 , 825-05-4836\n",
      "670-09-7369 , 102-90-0314\n",
      "670-09-7369 , 247-17-2338\n",
      "670-09-7369 , 318-22-2760\n",
      "670-09-7369 , 218-68-9955\n",
      "670-09-7369 , 165-73-3124\n",
      "670-09-7369 , 432-47-4043\n",
      "670-09-7369 , 563-93-1393\n",
      "670-09-7369 , 153-93-3401\n",
      "670-09-7369 , 670-09-7369\n",
      "670-09-7369 , 123-05-9652\n",
      "670-09-7369 , 812-13-2476\n",
      "670-09-7369 , 726-13-1007\n",
      "670-09-7369 , 825-05-4836\n",
      "123-05-9652 , 102-90-0314\n",
      "123-05-9652 , 247-17-2338\n",
      "123-05-9652 , 318-22-2760\n",
      "123-05-9652 , 218-68-9955\n",
      "123-05-9652 , 165-73-3124\n",
      "123-05-9652 , 432-47-4043\n",
      "123-05-9652 , 563-93-1393\n",
      "123-05-9652 , 153-93-3401\n",
      "123-05-9652 , 670-09-7369\n",
      "123-05-9652 , 123-05-9652\n",
      "123-05-9652 , 812-13-2476\n",
      "123-05-9652 , 726-13-1007\n",
      "123-05-9652 , 825-05-4836\n",
      "812-13-2476 , 102-90-0314\n",
      "812-13-2476 , 247-17-2338\n",
      "812-13-2476 , 318-22-2760\n",
      "812-13-2476 , 218-68-9955\n",
      "812-13-2476 , 165-73-3124\n",
      "812-13-2476 , 432-47-4043\n",
      "812-13-2476 , 563-93-1393\n",
      "812-13-2476 , 153-93-3401\n",
      "812-13-2476 , 670-09-7369\n",
      "812-13-2476 , 123-05-9652\n",
      "812-13-2476 , 812-13-2476\n",
      "812-13-2476 , 726-13-1007\n",
      "812-13-2476 , 825-05-4836\n",
      "726-13-1007 , 102-90-0314\n",
      "726-13-1007 , 247-17-2338\n",
      "726-13-1007 , 318-22-2760\n",
      "726-13-1007 , 218-68-9955\n",
      "726-13-1007 , 165-73-3124\n",
      "726-13-1007 , 432-47-4043\n",
      "726-13-1007 , 563-93-1393\n",
      "726-13-1007 , 153-93-3401\n",
      "726-13-1007 , 670-09-7369\n",
      "726-13-1007 , 123-05-9652\n",
      "726-13-1007 , 812-13-2476\n",
      "726-13-1007 , 726-13-1007\n",
      "726-13-1007 , 825-05-4836\n",
      "825-05-4836 , 102-90-0314\n",
      "825-05-4836 , 247-17-2338\n",
      "825-05-4836 , 318-22-2760\n",
      "825-05-4836 , 218-68-9955\n",
      "825-05-4836 , 165-73-3124\n",
      "825-05-4836 , 432-47-4043\n",
      "825-05-4836 , 563-93-1393\n",
      "825-05-4836 , 153-93-3401\n",
      "825-05-4836 , 670-09-7369\n",
      "825-05-4836 , 123-05-9652\n",
      "825-05-4836 , 812-13-2476\n",
      "825-05-4836 , 726-13-1007\n",
      "825-05-4836 , 825-05-4836\n",
      "102-90-0314 , 102-90-0314\n",
      "102-90-0314 , 247-17-2338\n",
      "102-90-0314 , 318-22-2760\n",
      "102-90-0314 , 218-68-9955\n",
      "102-90-0314 , 165-73-3124\n",
      "102-90-0314 , 432-47-4043\n",
      "102-90-0314 , 563-93-1393\n",
      "102-90-0314 , 153-93-3401\n",
      "102-90-0314 , 670-09-7369\n",
      "102-90-0314 , 123-05-9652\n",
      "102-90-0314 , 812-13-2476\n",
      "102-90-0314 , 726-13-1007\n",
      "102-90-0314 , 825-05-4836\n",
      "247-17-2338 , 102-90-0314\n",
      "247-17-2338 , 247-17-2338\n",
      "247-17-2338 , 318-22-2760\n",
      "247-17-2338 , 218-68-9955\n",
      "247-17-2338 , 165-73-3124\n",
      "247-17-2338 , 432-47-4043\n",
      "247-17-2338 , 563-93-1393\n",
      "247-17-2338 , 153-93-3401\n",
      "247-17-2338 , 670-09-7369\n",
      "247-17-2338 , 123-05-9652\n",
      "247-17-2338 , 812-13-2476\n",
      "247-17-2338 , 726-13-1007\n",
      "247-17-2338 , 825-05-4836\n",
      "318-22-2760 , 102-90-0314\n",
      "318-22-2760 , 247-17-2338\n",
      "318-22-2760 , 318-22-2760\n",
      "318-22-2760 , 218-68-9955\n",
      "318-22-2760 , 165-73-3124\n",
      "318-22-2760 , 432-47-4043\n",
      "318-22-2760 , 563-93-1393\n",
      "318-22-2760 , 153-93-3401\n",
      "318-22-2760 , 670-09-7369\n",
      "318-22-2760 , 123-05-9652\n",
      "318-22-2760 , 812-13-2476\n",
      "318-22-2760 , 726-13-1007\n",
      "318-22-2760 , 825-05-4836\n"
     ]
    }
   ],
   "source": [
    "# Loop over the first list and create a nested list inside that loop that goes over the second list\n",
    "for x in ssn_2:\n",
    "    for y in ssn_5:\n",
    "        print(str(x) + ' , ' + str(y))"
   ]
  },
  {
   "cell_type": "code",
   "execution_count": 14,
   "id": "detected-jefferson",
   "metadata": {},
   "outputs": [
    {
     "data": {
      "text/plain": [
       "['Escalade ',\n",
       " ' X5 M',\n",
       " 'D150',\n",
       " 'Camaro',\n",
       " 'F350',\n",
       " 'Aurora',\n",
       " 'S8',\n",
       " 'E350',\n",
       " 'Tiburon',\n",
       " 'F-Series Super Duty ']"
      ]
     },
     "execution_count": 14,
     "metadata": {},
     "output_type": "execute_result"
    }
   ],
   "source": [
    "# import data\n",
    "car_models = list(pd.read_csv('datasets/car_models.csv'))\n",
    "car_models"
   ]
  },
  {
   "cell_type": "code",
   "execution_count": 15,
   "id": "interested-armstrong",
   "metadata": {},
   "outputs": [
    {
     "name": "stdout",
     "output_type": "stream",
     "text": [
      "Escalade \n",
      " X5 M\n",
      "D150\n",
      "Camaro\n",
      "F350\n",
      "Aurora\n",
      "S8\n",
      "E350\n",
      "Tiburon\n",
      "F-Series Super Duty \n"
     ]
    }
   ],
   "source": [
    "# Iterate over a list\n",
    "list_1 = [x for x in car_models]\n",
    "for i in list_1:\n",
    "    print(i)"
   ]
  },
  {
   "cell_type": "code",
   "execution_count": 16,
   "id": "surrounded-preparation",
   "metadata": {},
   "outputs": [
    {
     "data": {
      "text/plain": [
       "[20, 19, 18, 17, 16, 15, 14, 13, 12, 11, 10, 9, 8, 7, 6, 5, 4, 3, 2, 1, 0]"
      ]
     },
     "execution_count": 16,
     "metadata": {},
     "output_type": "execute_result"
    }
   ],
   "source": [
    "# Use the sort method with reverse=True\n",
    "list_1 = [*range(0,21,1)]\n",
    "list_1.sort(reverse=True)\n",
    "list_1"
   ]
  },
  {
   "cell_type": "code",
   "execution_count": 17,
   "id": "grand-opera",
   "metadata": {},
   "outputs": [
    {
     "data": {
      "text/plain": [
       "[0, 1, 2, 3, 4, 5, 6, 7, 8, 9, 10, 11, 12, 13, 14, 15, 16, 17, 18, 19, 20]"
      ]
     },
     "execution_count": 17,
     "metadata": {},
     "output_type": "execute_result"
    }
   ],
   "source": [
    "# Use the reverse method directly\n",
    "list_1.reverse()\n",
    "list_1"
   ]
  },
  {
   "cell_type": "code",
   "execution_count": 18,
   "id": "crucial-point",
   "metadata": {},
   "outputs": [],
   "source": [
    "# import library\n",
    "import random"
   ]
  },
  {
   "cell_type": "code",
   "execution_count": 21,
   "id": "neither-choice",
   "metadata": {},
   "outputs": [
    {
     "name": "stdout",
     "output_type": "stream",
     "text": [
      "[19, 19, 13, 10, 28, 22, 6, 8, 15, 21, 16, 21, 29, 21, 5, 25, 6, 0, 11, 4, 17, 12, 26, 2, 6, 27, 15, 2, 13, 23, 16, 2, 26, 12, 26, 25, 0, 21, 14, 3, 14, 9, 23, 21, 9, 23, 13, 3, 14, 24, 6, 0, 5, 0, 3, 30, 29, 20, 7, 0, 16, 20, 18, 8, 20, 17, 4, 5, 22, 26, 21, 25, 7, 12, 24, 25, 5, 18, 5, 16, 15, 0, 28, 30, 21, 24, 13, 24, 13, 0, 4, 1, 3, 19, 0, 8, 9, 10, 22, 26]\n"
     ]
    }
   ],
   "source": [
    "# Use the randint method to generate some random integers and add them to a list\n",
    "list_1 = [random.randint(0,30) for x in range (0,100)]\n",
    "print(list_1)"
   ]
  },
  {
   "cell_type": "code",
   "execution_count": 22,
   "id": "direct-moment",
   "metadata": {},
   "outputs": [
    {
     "name": "stdout",
     "output_type": "stream",
     "text": [
      "[1.301029995663981, 1.301029995663981, 1.1461280356782377, 1.041392685158225, 1.462397997898956, 1.3617278360175928, 0.8450980400142567, 0.9542425094393249, 1.2041199826559246, 1.3424226808222062, 1.2304489213782739, 1.3424226808222062, 1.4771212547196624, 1.3424226808222062, 0.7781512503836435, 1.414973347970818, 0.8450980400142567, 0.0, 1.0791812460476247, 0.6989700043360187, 1.2552725051033058, 1.1139433523068367, 1.4313637641589871, 0.47712125471966244, 0.8450980400142567, 1.447158031342219, 1.2041199826559246, 0.47712125471966244, 1.1461280356782377, 1.380211241711606, 1.2304489213782739, 0.47712125471966244, 1.4313637641589871, 1.1139433523068367, 1.4313637641589871, 1.414973347970818, 0.0, 1.3424226808222062, 1.1760912590556811, 0.6020599913279623, 1.1760912590556811, 1.0, 1.380211241711606, 1.3424226808222062, 1.0, 1.380211241711606, 1.1461280356782377, 0.6020599913279623, 1.1760912590556811, 1.3979400086720375, 0.8450980400142567, 0.0, 0.7781512503836435, 0.0, 0.6020599913279623, 1.4913616938342726, 1.4771212547196624, 1.322219294733919, 0.9030899869919434, 0.0, 1.2304489213782739, 1.322219294733919, 1.2787536009528289, 0.9542425094393249, 1.322219294733919, 1.2552725051033058, 0.6989700043360187, 0.7781512503836435, 1.3617278360175928, 1.4313637641589871, 1.3424226808222062, 1.414973347970818, 0.9030899869919434, 1.1139433523068367, 1.3979400086720375, 1.414973347970818, 0.7781512503836435, 1.2787536009528289, 0.7781512503836435, 1.2304489213782739, 1.2041199826559246, 0.0, 1.462397997898956, 1.4913616938342726, 1.3424226808222062, 1.3979400086720375, 1.1461280356782377, 1.3979400086720375, 1.1461280356782377, 0.0, 0.6989700043360187, 0.30102999566398114, 0.6020599913279623, 1.301029995663981, 0.0, 0.9542425094393249, 1.0, 1.041392685158225, 1.3617278360175928, 1.4313637641589871]\n"
     ]
    }
   ],
   "source": [
    "# let's find the log of the elements of list_1\n",
    "import math\n",
    "list_2 = [math.log(x+1,10) for x in list_1]\n",
    "print(list_2)"
   ]
  },
  {
   "cell_type": "code",
   "execution_count": 30,
   "id": "sixth-fraction",
   "metadata": {},
   "outputs": [],
   "source": [
    "# Consider the dictionary\n",
    "stocks = {\"Solar Capital Ltd.\":\"$920.44M\",    \n",
    "        \"Zoe's Kitchen, Inc.\":\"$262.32M\",\n",
    "        \"Toyota Motor Corp Ltd Ord\":\"$156.02B\",    \n",
    "        \"Nuveen Virginia Quality Municipal Income Fund\":\"$238.33M\",\n",
    "        \"Kinross Gold Corporation\":\"$5.1B\",\n",
    "        \"Vulcan Materials Company\":\"$17.1B\",\n",
    "        \"Hi-Crush Partners LP\":\"$955.69M\",\n",
    "        \"Lennox International, Inc.\":\"$8.05B\",\n",
    "        \"WMIH Corp.\":\"$247.66M\",\n",
    "        \"Comerica Incorporated\":\"n/a\"\n",
    "}"
   ]
  },
  {
   "cell_type": "code",
   "execution_count": 31,
   "id": "outstanding-barrier",
   "metadata": {},
   "outputs": [
    {
     "data": {
      "text/plain": [
       "{'Solar Capital Ltd.': '920.44M',\n",
       " \"Zoe's Kitchen, Inc.\": '262.32M',\n",
       " 'Toyota Motor Corp Ltd Ord': '156.02B',\n",
       " 'Nuveen Virginia Quality Municipal Income Fund': '238.33M',\n",
       " 'Kinross Gold Corporation': '5.1B',\n",
       " 'Vulcan Materials Company': '17.1B',\n",
       " 'Hi-Crush Partners LP': '955.69M',\n",
       " 'Lennox International, Inc.': '8.05B',\n",
       " 'WMIH Corp.': '247.66M',\n",
       " 'Comerica Incorporated': 'n/a'}"
      ]
     },
     "execution_count": 31,
     "metadata": {},
     "output_type": "execute_result"
    }
   ],
   "source": [
    "# Remove the $ character from the stocks dictionary\n",
    "for key, value in stocks.items():\n",
    "    stocks[key] = value.replace(\"$\", \"\")\n",
    "\n",
    "stocks"
   ]
  },
  {
   "cell_type": "code",
   "execution_count": 34,
   "id": "neither-things",
   "metadata": {},
   "outputs": [
    {
     "data": {
      "text/plain": [
       "{'Solar Capital Ltd.': ['920.44', 'M'],\n",
       " \"Zoe's Kitchen, Inc.\": ['262.32', 'M'],\n",
       " 'Toyota Motor Corp Ltd Ord': ['156.02', 'B'],\n",
       " 'Nuveen Virginia Quality Municipal Income Fund': ['238.33', 'M'],\n",
       " 'Kinross Gold Corporation': ['5.1', 'B'],\n",
       " 'Vulcan Materials Company': ['17.1', 'B'],\n",
       " 'Hi-Crush Partners LP': ['955.69', 'M'],\n",
       " 'Lennox International, Inc.': ['8.05', 'B'],\n",
       " 'WMIH Corp.': ['247.66', 'M'],\n",
       " 'Comerica Incorporated': ['n/', 'a']}"
      ]
     },
     "execution_count": 34,
     "metadata": {},
     "output_type": "execute_result"
    }
   ],
   "source": [
    "# Iterate over the stocks dictionary again and split the value into a list with price (val) and \n",
    "# multiplier (mult) as separate elements where a single value is assigned to each key\n",
    "for key, value in stocks.items():\n",
    "    mult = value[-1]\n",
    "    stocks[key] = [value[:-1], mult]\n",
    "\n",
    "stocks"
   ]
  },
  {
   "cell_type": "code",
   "execution_count": 35,
   "id": "commercial-footage",
   "metadata": {},
   "outputs": [],
   "source": [
    "# generate a random list with duplicate values\n",
    "import random\n",
    "\n",
    "list_1 = [random.randint(0,30) for x in range(100)]"
   ]
  },
  {
   "cell_type": "code",
   "execution_count": 36,
   "id": "convinced-surprise",
   "metadata": {},
   "outputs": [
    {
     "data": {
      "text/plain": [
       "[21,\n",
       " 3,\n",
       " 16,\n",
       " 4,\n",
       " 24,\n",
       " 14,\n",
       " 25,\n",
       " 18,\n",
       " 2,\n",
       " 20,\n",
       " 12,\n",
       " 8,\n",
       " 29,\n",
       " 10,\n",
       " 6,\n",
       " 0,\n",
       " 5,\n",
       " 1,\n",
       " 19,\n",
       " 27,\n",
       " 9,\n",
       " 23,\n",
       " 7,\n",
       " 30,\n",
       " 28,\n",
       " 26,\n",
       " 13,\n",
       " 22,\n",
       " 11,\n",
       " 15]"
      ]
     },
     "execution_count": 36,
     "metadata": {},
     "output_type": "execute_result"
    }
   ],
   "source": [
    "# Create a unique valued list from list_1\n",
    "list(dict.fromkeys(list_1).keys())"
   ]
  },
  {
   "cell_type": "code",
   "execution_count": 37,
   "id": "purple-delta",
   "metadata": {},
   "outputs": [],
   "source": [
    "# Create list_1 with five elements\n",
    "dict_1 = {\"key1\": 1, \"key2\": [\"list_element1\", 34], \"key3\": \"value3\",\n",
    "          \"key4\": {\"subkey1\": \"v1\"}, \"key5\": 4.5}"
   ]
  },
  {
   "cell_type": "code",
   "execution_count": 38,
   "id": "british-advance",
   "metadata": {},
   "outputs": [
    {
     "data": {
      "text/plain": [
       "{'key1': 1, 'key3': 'value3', 'key4': {'subkey1': 'v1'}, 'key5': 4.5}"
      ]
     },
     "execution_count": 38,
     "metadata": {},
     "output_type": "execute_result"
    }
   ],
   "source": [
    "# use the del function and specify the element we want to delete\n",
    "del dict_1[\"key2\"]\n",
    "dict_1"
   ]
  },
  {
   "cell_type": "code",
   "execution_count": 41,
   "id": "signal-graph",
   "metadata": {},
   "outputs": [
    {
     "data": {
      "text/plain": [
       "{0: 0, 1: 1, 2: 4, 3: 9, 4: 16, 5: 25, 6: 36, 7: 49, 8: 64, 9: 81}"
      ]
     },
     "execution_count": 41,
     "metadata": {},
     "output_type": "execute_result"
    }
   ],
   "source": [
    "# Generate a dict that has 0 to 9 as the keys and the square of the key as the values\n",
    "list_1 = [x for x in range(10)]\n",
    "dict_1 = {x:x**2 for x in list_1}\n",
    "dict_1"
   ]
  },
  {
   "cell_type": "code",
   "execution_count": 42,
   "id": "sporting-petersburg",
   "metadata": {},
   "outputs": [
    {
     "data": {
      "text/plain": [
       "{'Tom': 100, 'Dick': 200, 'Harry': 300}"
      ]
     },
     "execution_count": 42,
     "metadata": {},
     "output_type": "execute_result"
    }
   ],
   "source": [
    "# Generate a dictionary using the dict function\n",
    "dict_2 = dict([('Tom', 100), ('Dick', 200), ('Harry', 300)])\n",
    "dict_2"
   ]
  },
  {
   "cell_type": "code",
   "execution_count": 43,
   "id": "integral-circus",
   "metadata": {},
   "outputs": [
    {
     "data": {
      "text/plain": [
       "{'Tom': 100, 'Dick': 200, 'Harry': 300}"
      ]
     },
     "execution_count": 43,
     "metadata": {},
     "output_type": "execute_result"
    }
   ],
   "source": [
    "# generate a dictionary using the dict function\n",
    "dict_3 = dict(Tom=100, Dick=200, Harry=300)\n",
    "dict_3"
   ]
  },
  {
   "cell_type": "code",
   "execution_count": 45,
   "id": "excess-apartment",
   "metadata": {},
   "outputs": [
    {
     "data": {
      "text/plain": [
       "'Hello World'"
      ]
     },
     "execution_count": 45,
     "metadata": {},
     "output_type": "execute_result"
    }
   ],
   "source": [
    "# Create a string called str_1\n",
    "str_1 = 'Hello World'\n",
    "str_1"
   ]
  },
  {
   "cell_type": "code",
   "execution_count": 49,
   "id": "homeless-probability",
   "metadata": {},
   "outputs": [
    {
     "data": {
      "text/plain": [
       "['Name', ' Age', ' Sex', ' Address']"
      ]
     },
     "execution_count": 49,
     "metadata": {},
     "output_type": "execute_result"
    }
   ],
   "source": [
    "# Create a string and convert it into a list using the split method\n",
    "str_1 = \"Name, Age, Sex, Address\"\n",
    "list_1 = str_1.split(',')\n",
    "list_1"
   ]
  },
  {
   "cell_type": "code",
   "execution_count": 50,
   "id": "female-buddy",
   "metadata": {},
   "outputs": [
    {
     "data": {
      "text/plain": [
       "'Name |  Age |  Sex |  Address'"
      ]
     },
     "execution_count": 50,
     "metadata": {},
     "output_type": "execute_result"
    }
   ],
   "source": [
    "# Combine this list into another string using the join method\n",
    "s = ' | '\n",
    "s.join(list_1)"
   ]
  },
  {
   "cell_type": "code",
   "execution_count": null,
   "id": "lightweight-citizen",
   "metadata": {},
   "outputs": [],
   "source": []
  }
 ],
 "metadata": {
  "kernelspec": {
   "display_name": "Python 3",
   "language": "python",
   "name": "python3"
  },
  "language_info": {
   "codemirror_mode": {
    "name": "ipython",
    "version": 3
   },
   "file_extension": ".py",
   "mimetype": "text/x-python",
   "name": "python",
   "nbconvert_exporter": "python",
   "pygments_lexer": "ipython3",
   "version": "3.7.7"
  }
 },
 "nbformat": 4,
 "nbformat_minor": 5
}
