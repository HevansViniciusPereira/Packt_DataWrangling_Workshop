{
 "cells": [
  {
   "cell_type": "markdown",
   "id": "indie-preference",
   "metadata": {},
   "source": [
    "# RDBMS and SQL"
   ]
  },
  {
   "cell_type": "markdown",
   "id": "animated-antique",
   "metadata": {},
   "source": [
    "### Connecting to a Database in SQLite"
   ]
  },
  {
   "cell_type": "code",
   "execution_count": 1,
   "id": "passive-trigger",
   "metadata": {},
   "outputs": [],
   "source": [
    "# Import the sqlite3 library\n",
    "import sqlite3"
   ]
  },
  {
   "cell_type": "code",
   "execution_count": 2,
   "id": "discrete-purse",
   "metadata": {},
   "outputs": [],
   "source": [
    "# connect to a database\n",
    "conn = sqlite3.connect(\"/lesson.db\")"
   ]
  },
  {
   "cell_type": "code",
   "execution_count": 3,
   "id": "arabic-montreal",
   "metadata": {},
   "outputs": [],
   "source": [
    "# close the connection\n",
    "conn.close()"
   ]
  },
  {
   "cell_type": "code",
   "execution_count": 4,
   "id": "opponent-newspaper",
   "metadata": {},
   "outputs": [],
   "source": [
    "# connect to the database using open function\n",
    "with open(\"/lesson.db\") as conn:\n",
    "    pass"
   ]
  },
  {
   "cell_type": "markdown",
   "id": "heated-television",
   "metadata": {},
   "source": [
    "### Using DDL and DML Commands in SQLite"
   ]
  },
  {
   "cell_type": "code",
   "execution_count": 5,
   "id": "published-riverside",
   "metadata": {},
   "outputs": [],
   "source": [
    "with sqlite3.connect(\"/lesson.db\") as conn:\n",
    "    cursor = conn.cursor()"
   ]
  },
  {
   "cell_type": "code",
   "execution_count": 6,
   "id": "skilled-missile",
   "metadata": {},
   "outputs": [
    {
     "data": {
      "text/plain": [
       "<sqlite3.Cursor at 0x237ec0de0a0>"
      ]
     },
     "execution_count": 6,
     "metadata": {},
     "output_type": "execute_result"
    }
   ],
   "source": [
    "# Create a table in Python\n",
    "cursor.execute(\"CREATE TABLE IF NOT EXISTS user \\\n",
    "                (email text, first_name text, last_name text, address text, age integer, PRIMARY KEY (email))\")"
   ]
  },
  {
   "cell_type": "code",
   "execution_count": 7,
   "id": "rubber-opportunity",
   "metadata": {},
   "outputs": [
    {
     "data": {
      "text/plain": [
       "<sqlite3.Cursor at 0x237ec0de0a0>"
      ]
     },
     "execution_count": 7,
     "metadata": {},
     "output_type": "execute_result"
    }
   ],
   "source": [
    "# Insert rows into the database\n",
    "cursor.execute(\"INSERT INTO user VALUES ('bob@example.com', 'Bob', 'Codd', '123 Fantasy lane, Fantasy City', 31)\") \n",
    "cursor.execute(\"INSERT INTO user VALUES ('tom@web.com', 'Tom', 'Fake', '456 Fantasy lane, Fantasy City', 39)\")"
   ]
  },
  {
   "cell_type": "code",
   "execution_count": 8,
   "id": "cellular-worker",
   "metadata": {},
   "outputs": [],
   "source": [
    "# Commit to the database\n",
    "conn.commit()"
   ]
  },
  {
   "cell_type": "markdown",
   "id": "environmental-carnival",
   "metadata": {},
   "source": [
    "### Sorting Values That Are Present in the Database"
   ]
  },
  {
   "cell_type": "code",
   "execution_count": 9,
   "id": "different-niagara",
   "metadata": {},
   "outputs": [
    {
     "name": "stdout",
     "output_type": "stream",
     "text": [
      "('tom@web.com', 'Tom', 'Fake', '456 Fantasy lane, Fantasy City', 39)\n",
      "('bob@example.com', 'Bob', 'Codd', '123 Fantasy lane, Fantasy City', 31)\n"
     ]
    }
   ],
   "source": [
    "# sort lesson.db by age in descending order\n",
    "with sqlite3.connect(\"/lesson.db\") as conn:\n",
    "    cursor = conn.cursor()\n",
    "    rows = conn.execute('SELECT * FROM user ORDER BY age DESC')\n",
    "    for row in rows:\n",
    "        print(row)"
   ]
  },
  {
   "cell_type": "code",
   "execution_count": 10,
   "id": "contemporary-reviewer",
   "metadata": {},
   "outputs": [
    {
     "name": "stdout",
     "output_type": "stream",
     "text": [
      "('bob@example.com', 'Bob', 'Codd', '123 Fantasy lane, Fantasy City', 31)\n",
      "('tom@web.com', 'Tom', 'Fake', '456 Fantasy lane, Fantasy City', 39)\n"
     ]
    }
   ],
   "source": [
    "# Sort the lesson.db database by age in ascending order\n",
    "with sqlite3.connect(\"/lesson.db\") as conn:\n",
    "    cursor = conn.cursor()\n",
    "    rows = conn.execute('SELECT * FROM user ORDER BY age ASC')\n",
    "    for row in rows:\n",
    "        print(row)"
   ]
  },
  {
   "cell_type": "markdown",
   "id": "eight-peeing",
   "metadata": {},
   "source": [
    "### Altering the Structure of a Table and Updating the New Fields"
   ]
  },
  {
   "cell_type": "code",
   "execution_count": 11,
   "id": "written-wisconsin",
   "metadata": {},
   "outputs": [],
   "source": [
    "# Add another column in the user table and fill it with null values\n",
    "with sqlite3.connect(\"/lesson.db\") as conn:\n",
    "    cursor = conn.cursor()\n",
    "    cursor.execute(\"ALTER TABLE user ADD COLUMN gender text\")\n",
    "    conn.commit()"
   ]
  },
  {
   "cell_type": "code",
   "execution_count": 12,
   "id": "referenced-destiny",
   "metadata": {},
   "outputs": [],
   "source": [
    "# Update all of the values of gender so that they are M \n",
    "cursor.execute('UPDATE user SET gender=\"M\"')\n",
    "conn.commit()"
   ]
  },
  {
   "cell_type": "code",
   "execution_count": 13,
   "id": "formed-celebrity",
   "metadata": {},
   "outputs": [
    {
     "name": "stdout",
     "output_type": "stream",
     "text": [
      "('bob@example.com', 'Bob', 'Codd', '123 Fantasy lane, Fantasy City', 31, 'M')\n",
      "('tom@web.com', 'Tom', 'Fake', '456 Fantasy lane, Fantasy City', 39, 'M')\n"
     ]
    }
   ],
   "source": [
    "# check the altered table\n",
    "with sqlite3.connect(\"/lesson.db\") as conn:\n",
    "    cursor = conn.cursor()\n",
    "    rows = cursor.execute('SELECT * FROM user ORDER BY age')\n",
    "    for row in rows:\n",
    "        print(row)"
   ]
  },
  {
   "cell_type": "markdown",
   "id": "valid-refrigerator",
   "metadata": {},
   "source": [
    "### Grouping Values in Tables"
   ]
  },
  {
   "cell_type": "code",
   "execution_count": 14,
   "id": "complimentary-contact",
   "metadata": {},
   "outputs": [
    {
     "name": "stdout",
     "output_type": "stream",
     "text": [
      "('tom@web.com', 'Tom', 'Fake', '456 Fantasy lane, Fantasy City', 39, 'M')\n",
      "('shelly@www.com', 'Shelly', 'Milar', '123, Ocean View Lane', 39, 'F')\n",
      "('bob@example.com', 'Bob', 'Codd', '123 Fantasy lane, Fantasy City', 31, 'M')\n"
     ]
    }
   ],
   "source": [
    "# Add a female user to the table\n",
    "cursor.execute(\"INSERT INTO user VALUES ('shelly@www.com', 'Shelly', 'Milar', '123, Ocean View Lane', 39, 'F')\")\n",
    "conn.commit()\n",
    "\n",
    "rows = conn.execute('SELECT * FROM user ORDER BY age DESC')\n",
    "for row in rows:\n",
    "    print(row)"
   ]
  },
  {
   "cell_type": "code",
   "execution_count": 15,
   "id": "fewer-victoria",
   "metadata": {},
   "outputs": [
    {
     "name": "stdout",
     "output_type": "stream",
     "text": [
      "(1, 'F')\n",
      "(2, 'M')\n"
     ]
    }
   ],
   "source": [
    "# count by each gender\n",
    "rows = conn.execute(\"SELECT count(*), gender FROM user GROUP BY gender\")\n",
    "for row in rows:\n",
    "    print(row)"
   ]
  },
  {
   "cell_type": "markdown",
   "id": "recovered-endorsement",
   "metadata": {},
   "source": [
    "### Deleting Rows from Tables"
   ]
  },
  {
   "cell_type": "code",
   "execution_count": 16,
   "id": "vietnamese-pilot",
   "metadata": {},
   "outputs": [],
   "source": [
    "# delete rows from table\n",
    "with sqlite3.connect(\"/lesson.db\") as conn:\n",
    "    cursor = conn.cursor()\n",
    "    cursor.execute(\"PRAGMA foreign_keys = 1\")\n",
    "    cursor.execute(\"DELETE FROM user WHERE email='bob@example.com'\")\n",
    "    conn.commit()"
   ]
  },
  {
   "cell_type": "code",
   "execution_count": 17,
   "id": "intense-emerald",
   "metadata": {},
   "outputs": [
    {
     "name": "stdout",
     "output_type": "stream",
     "text": [
      "('tom@web.com', 'Tom', 'Fake', '456 Fantasy lane, Fantasy City', 39, 'M')\n",
      "('shelly@www.com', 'Shelly', 'Milar', '123, Ocean View Lane', 39, 'F')\n"
     ]
    }
   ],
   "source": [
    "# view the table\n",
    "rows = conn.execute(\"SELECT * FROM user\")\n",
    "for row in rows:\n",
    "    print(row)"
   ]
  },
  {
   "cell_type": "markdown",
   "id": "cleared-brisbane",
   "metadata": {},
   "source": [
    "### RDBMS and DataFrames"
   ]
  },
  {
   "cell_type": "code",
   "execution_count": 18,
   "id": "broad-disorder",
   "metadata": {},
   "outputs": [],
   "source": [
    "import pandas as pd"
   ]
  },
  {
   "cell_type": "code",
   "execution_count": 19,
   "id": "sensitive-marking",
   "metadata": {},
   "outputs": [],
   "source": [
    "# Create a columns list with email, first name, last name, age, gender, and comments as column names\n",
    "columns = [\"Email\", \"First Name\", \"Last Name\", \"Age\", \"Gender\"]\n",
    "data = []"
   ]
  },
  {
   "cell_type": "code",
   "execution_count": 20,
   "id": "national-addiction",
   "metadata": {},
   "outputs": [],
   "source": [
    "# Create a sql variable that will contain the SELECT command and use the join command to join the databases\n",
    "sql = \"\"\"\n",
    "    SELECT email, first_name, last_name, age, gender FROM user\n",
    "    WHERE user.email = 'tom@web.com'\n",
    "    \"\"\""
   ]
  },
  {
   "cell_type": "code",
   "execution_count": 21,
   "id": "forced-uncle",
   "metadata": {},
   "outputs": [],
   "source": [
    "# execute sql command\n",
    "rows = conn.execute(sql)"
   ]
  },
  {
   "cell_type": "code",
   "execution_count": 22,
   "id": "primary-moore",
   "metadata": {},
   "outputs": [],
   "source": [
    "# Append the rows to the data list\n",
    "for row in rows:\n",
    "    data.append(row)"
   ]
  },
  {
   "cell_type": "code",
   "execution_count": 23,
   "id": "rental-henry",
   "metadata": {},
   "outputs": [
    {
     "data": {
      "text/html": [
       "<div>\n",
       "<style scoped>\n",
       "    .dataframe tbody tr th:only-of-type {\n",
       "        vertical-align: middle;\n",
       "    }\n",
       "\n",
       "    .dataframe tbody tr th {\n",
       "        vertical-align: top;\n",
       "    }\n",
       "\n",
       "    .dataframe thead th {\n",
       "        text-align: right;\n",
       "    }\n",
       "</style>\n",
       "<table border=\"1\" class=\"dataframe\">\n",
       "  <thead>\n",
       "    <tr style=\"text-align: right;\">\n",
       "      <th></th>\n",
       "      <th>Email</th>\n",
       "      <th>First Name</th>\n",
       "      <th>Last Name</th>\n",
       "      <th>Age</th>\n",
       "      <th>Gender</th>\n",
       "    </tr>\n",
       "  </thead>\n",
       "  <tbody>\n",
       "    <tr>\n",
       "      <th>0</th>\n",
       "      <td>tom@web.com</td>\n",
       "      <td>Tom</td>\n",
       "      <td>Fake</td>\n",
       "      <td>39</td>\n",
       "      <td>M</td>\n",
       "    </tr>\n",
       "  </tbody>\n",
       "</table>\n",
       "</div>"
      ],
      "text/plain": [
       "         Email First Name Last Name  Age Gender\n",
       "0  tom@web.com        Tom      Fake   39      M"
      ]
     },
     "execution_count": 23,
     "metadata": {},
     "output_type": "execute_result"
    }
   ],
   "source": [
    "# Create a DataFrame using the data list\n",
    "df = pd.DataFrame(data, columns=columns)\n",
    "df"
   ]
  }
 ],
 "metadata": {
  "kernelspec": {
   "display_name": "Python 3",
   "language": "python",
   "name": "python3"
  },
  "language_info": {
   "codemirror_mode": {
    "name": "ipython",
    "version": 3
   },
   "file_extension": ".py",
   "mimetype": "text/x-python",
   "name": "python",
   "nbconvert_exporter": "python",
   "pygments_lexer": "ipython3",
   "version": "3.7.7"
  }
 },
 "nbformat": 4,
 "nbformat_minor": 5
}
