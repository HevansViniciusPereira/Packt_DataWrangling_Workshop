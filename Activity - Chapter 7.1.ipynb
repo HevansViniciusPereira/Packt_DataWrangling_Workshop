{
 "cells": [
  {
   "cell_type": "markdown",
   "id": "dimensional-spice",
   "metadata": {},
   "source": [
    "# Extracting the Top 100 e-books from Gutenberg"
   ]
  },
  {
   "cell_type": "markdown",
   "id": "voluntary-assistant",
   "metadata": {},
   "source": [
    "Import the necessary libraries, including regex and BeautifulSoup"
   ]
  },
  {
   "cell_type": "code",
   "execution_count": 1,
   "id": "smoking-louisiana",
   "metadata": {},
   "outputs": [],
   "source": [
    "import urllib.request, urllib.parse, urllib.error\n",
    "import requests\n",
    "from bs4 import BeautifulSoup\n",
    "import ssl\n",
    "import re"
   ]
  },
  {
   "cell_type": "markdown",
   "id": "ceramic-company",
   "metadata": {},
   "source": [
    "Read the HTML from the URL"
   ]
  },
  {
   "cell_type": "code",
   "execution_count": 2,
   "id": "liable-clarity",
   "metadata": {},
   "outputs": [],
   "source": [
    "top100url = 'https://www.gutenberg.org/browse/scores/top'\n",
    "response = requests.get(top100url)"
   ]
  },
  {
   "cell_type": "markdown",
   "id": "veterinary-desperate",
   "metadata": {},
   "source": [
    "Write a small function to check the status of the web request"
   ]
  },
  {
   "cell_type": "code",
   "execution_count": 3,
   "id": "retired-cabin",
   "metadata": {},
   "outputs": [],
   "source": [
    "def status_check(r):\n",
    "    if r.status_code == 200:\n",
    "        print(\"Success!\")\n",
    "        return 1\n",
    "    else:\n",
    "        print(\"Failed!\")\n",
    "        return -1"
   ]
  },
  {
   "cell_type": "code",
   "execution_count": 4,
   "id": "ceramic-participation",
   "metadata": {},
   "outputs": [
    {
     "name": "stdout",
     "output_type": "stream",
     "text": [
      "Success!\n"
     ]
    },
    {
     "data": {
      "text/plain": [
       "1"
      ]
     },
     "execution_count": 4,
     "metadata": {},
     "output_type": "execute_result"
    }
   ],
   "source": [
    "status_check(response)"
   ]
  },
  {
   "cell_type": "markdown",
   "id": "minor-mediterranean",
   "metadata": {},
   "source": [
    "Decode the response and pass this on to BeautifulSoup for HTML parsing"
   ]
  },
  {
   "cell_type": "code",
   "execution_count": 5,
   "id": "frequent-adelaide",
   "metadata": {},
   "outputs": [],
   "source": [
    "contents = response.content.decode(response.encoding)\n",
    "soup = BeautifulSoup(contents, 'html.parser')"
   ]
  },
  {
   "cell_type": "markdown",
   "id": "wireless-mother",
   "metadata": {},
   "source": [
    "Find all the href tags and store them in the list of links. Check what the list looks like – print the first 30 elements"
   ]
  },
  {
   "cell_type": "code",
   "execution_count": 6,
   "id": "going-merchandise",
   "metadata": {},
   "outputs": [],
   "source": [
    "# Empty list to hold all the http links in the HTML page\n",
    "lst_links=[]\n",
    "# Find all the href tags and store them in the list of links\n",
    "for link in soup.find_all('a'):\n",
    "    #print(link.get('href'))\n",
    "    lst_links.append(link.get('href'))"
   ]
  },
  {
   "cell_type": "code",
   "execution_count": 7,
   "id": "excessive-spider",
   "metadata": {},
   "outputs": [
    {
     "data": {
      "text/plain": [
       "['/',\n",
       " '/about/',\n",
       " '/about/',\n",
       " '/policy/collection_development.html',\n",
       " '/about/contact_information.html',\n",
       " '/about/background/',\n",
       " '/policy/permission.html',\n",
       " '/policy/privacy_policy.html',\n",
       " '/policy/terms_of_use.html',\n",
       " '/ebooks/',\n",
       " '/ebooks/',\n",
       " '/ebooks/bookshelf/',\n",
       " '/browse/scores/top',\n",
       " '/ebooks/offline_catalogs.html',\n",
       " '/help/',\n",
       " '/help/',\n",
       " '/help/copyright.html',\n",
       " '/help/errata.html',\n",
       " '/help/file_formats.html',\n",
       " '/help/faq.html',\n",
       " '/policy/',\n",
       " '/help/public_domain_ebook_submission.html',\n",
       " '/help/submitting_your_own_work.html',\n",
       " '/help/mobile.html',\n",
       " '/attic/',\n",
       " '/donate/',\n",
       " '/donate/',\n",
       " '#books-last1',\n",
       " '#authors-last1',\n",
       " '#books-last7']"
      ]
     },
     "execution_count": 7,
     "metadata": {},
     "output_type": "execute_result"
    }
   ],
   "source": [
    "lst_links[:30]"
   ]
  },
  {
   "cell_type": "markdown",
   "id": "selective-doubt",
   "metadata": {},
   "source": [
    "Use a regular expression to find the numeric digits in these links. These are the file numbers for the top 100 eBooks"
   ]
  },
  {
   "cell_type": "code",
   "execution_count": 8,
   "id": "together-custom",
   "metadata": {},
   "outputs": [],
   "source": [
    "booknum = []\n",
    "for i in range(19,119):\n",
    "    link=lst_links[i]\n",
    "    link=link.strip()\n",
    "    # Regular expression to find the numeric digits in the link (href) string\n",
    "    n=re.findall('[0-9]+',link)\n",
    "    if len(n)==1:\n",
    "        # Append the filenumber casted as integer\n",
    "        booknum.append(int(n[0]))"
   ]
  },
  {
   "cell_type": "code",
   "execution_count": 9,
   "id": "boxed-range",
   "metadata": {},
   "outputs": [
    {
     "name": "stdout",
     "output_type": "stream",
     "text": [
      "\n",
      "The file numbers for the top 100 ebooks on Gutenberg are shown below\n",
      "----------------------------------------------------------------------\n",
      "[1, 1, 7, 7, 30, 30, 1342, 11, 84, 1661, 2701, 98, 64317, 174, 65790, 2600, 1952, 996, 345, 1232, 5200, 2591, 4300, 1260, 43, 46, 63256, 6133, 45, 16, 2542, 2554, 1400, 65789, 205, 58585, 19924, 1080, 844, 65786, 120, 55, 5740, 74, 6130, 1184, 30254, 514, 219, 5739, 27827, 65791, 2852, 1497, 829, 26184, 135, 203, 244, 20228, 76, 160, 65787, 768, 158, 1998, 902, 833, 113, 16328, 863, 1727, 521, 1399, 28054, 236, 408, 2500, 35, 42108, 3600, 766, 132, 2680, 730, 36, 25344, 33283, 20203, 38658, 2814, 105]\n"
     ]
    }
   ],
   "source": [
    "print (\"\\nThe file numbers for the top 100 ebooks on Gutenberg are shown below\\n\"+\"-\"*70)\n",
    "print(booknum)"
   ]
  },
  {
   "cell_type": "markdown",
   "id": "small-wireless",
   "metadata": {},
   "source": [
    "What does the soup object's text look like? Use the .text method and print only the first 2,000 characters (do not print the whole thing, as it is too long)"
   ]
  },
  {
   "cell_type": "code",
   "execution_count": 10,
   "id": "authorized-lawyer",
   "metadata": {},
   "outputs": [
    {
     "name": "stdout",
     "output_type": "stream",
     "text": [
      "\n",
      "\n",
      "\n",
      "\n",
      "Top 100 | Project Gutenberg\n",
      "\n",
      "\n",
      "\n",
      "\n",
      "\n",
      "\n",
      "\n",
      "\n",
      "\n",
      "\n",
      "\n",
      "\n",
      "\n",
      "\n",
      "\n",
      "\n",
      "\n",
      "\n",
      "\n",
      "\n",
      "\n",
      "\n",
      "\n",
      "\n",
      "\n",
      "\n",
      "\n",
      "Menu▾\n",
      "\n",
      "\n",
      "\n",
      "About\n",
      "          ▾\n",
      "\n",
      "▾\n",
      "\n",
      "\n",
      "About Project Gutenberg\n",
      "Collection Development\n",
      "Contact Us\n",
      "History & Philosophy\n",
      "Permissions & License\n",
      "Privacy Policy\n",
      "Terms of Use\n",
      "\n",
      "\n",
      "\n",
      "Search and Browse\n",
      "      \t  ▾\n",
      "\n",
      "▾\n",
      "\n",
      "\n",
      "Book Search\n",
      "Bookshelves\n",
      "Frequently Downloaded\n",
      "Offline Catalogs\n",
      "\n",
      "\n",
      "\n",
      "Help\n",
      "          ▾\n",
      "\n",
      "▾\n",
      "\n",
      "\n",
      "All help topics →\n",
      "Copyright Procedures\n",
      "Errata, Fixes and Bug Reports\n",
      "File Formats\n",
      "Frequently Asked Questions\n",
      "Policies →\n",
      "Public Domain eBook Submission\n",
      "Submitting Your Own Work\n",
      "Tablets, Phones and eReaders\n",
      "The Attic →\n",
      "\n",
      "\n",
      "Donate\n",
      "\n",
      "\n",
      "\n",
      "\n",
      "\n",
      "\n",
      "\n",
      "\n",
      "\n",
      "\n",
      "Donation\n",
      "\n",
      "\n",
      "\n",
      "\n",
      "\n",
      "\n",
      "\n",
      "Frequently Viewed or Downloaded\n",
      "These listings are based on the number of times each eBook gets downloaded.\n",
      "      Multiple downloads from the same Internet address on the same day count as one download, and addresses that download more than 100 eBooks in a day are considered robots and are not counted.\n",
      "\n",
      "Downloaded Books\n",
      "2021-07-08133427\n",
      "last 7 days942771\n",
      "last 30 days4078055\n",
      "\n",
      "\n",
      "\n",
      "Top 100 EBooks yesterday\n",
      "Top 100 Authors yesterday\n",
      "Top 100 EBooks last 7 days\n",
      "Top 100 Authors last 7 days\n",
      "Top 100 EBooks last 30 days\n",
      "Top 100 Authors last 30 days\n",
      "\n",
      "\n",
      "Top 100 EBooks yesterday\n",
      "\n",
      "Pride and Prejudice by Jane Austen (1708)\n",
      "Alice's Adventures in Wonderland by Lewis Carroll (848)\n",
      "Frankenstein; Or, The Modern Prometheus by Mary Wollstonecraft Shelley (811)\n",
      "The Adventures of Sherlock Holmes by Arthur Conan Doyle (666)\n",
      "Moby Dick; Or, The Whale by Herman Melville (636)\n",
      "A Tale of Two Cities by Charles Dickens (540)\n",
      "The Great Gatsby by F. Scott  Fitzgerald (490)\n",
      "The Picture of Dorian Gray by Oscar Wilde (487)\n",
      "Under The Tiger's Claws by Nicholas  Carter (440)\n",
      "War and Peace by graf Leo Tolstoy (436)\n",
      "The Yellow Wallpaper by Charlotte Perkins Gilman (431)\n",
      "Don Quixote by Miguel de Cervantes Saavedra (416)\n",
      "Dracula by Bram Stoker (409)\n",
      "The Prince by Niccolò Machiavelli (399)\n",
      "Metamorphosis by Franz Kafka (394)\n",
      "Grimms' Fairy Tales by Jacob Grimm and Wilhelm Grimm (387)\n",
      "Ulysses by James Joyce (385)\n",
      "Jane Eyre: An Aut\n"
     ]
    }
   ],
   "source": [
    "print(soup.text[:2000])"
   ]
  },
  {
   "cell_type": "markdown",
   "id": "dried-estate",
   "metadata": {},
   "source": [
    "Search in the extracted text (using a regular expression) from the soup object to find the names of the top 100 eBooks (yesterday's ranking)"
   ]
  },
  {
   "cell_type": "code",
   "execution_count": 11,
   "id": "dutch-mineral",
   "metadata": {},
   "outputs": [],
   "source": [
    "lst_titles_temp = []"
   ]
  },
  {
   "cell_type": "markdown",
   "id": "phantom-movement",
   "metadata": {},
   "source": [
    "Create a starting index. It should point at the text Top 100 Ebooks yesterday. Use the splitlines method of soup.text. It splits the lines of text of the soup object"
   ]
  },
  {
   "cell_type": "code",
   "execution_count": 14,
   "id": "different-subdivision",
   "metadata": {},
   "outputs": [],
   "source": [
    "start_idx = soup.text.splitlines().index('Top 100 | Project Gutenberg')"
   ]
  },
  {
   "cell_type": "markdown",
   "id": "quarterly-conversation",
   "metadata": {},
   "source": [
    "Run the for loop 1-100 to add the strings of the next 100 lines to this temporary list"
   ]
  },
  {
   "cell_type": "code",
   "execution_count": 15,
   "id": "empty-congo",
   "metadata": {},
   "outputs": [],
   "source": [
    "for i in range(100):\n",
    "    lst_titles_temp.append(soup.text.splitlines()[start_idx+2+i])"
   ]
  },
  {
   "cell_type": "markdown",
   "id": "judicial-level",
   "metadata": {},
   "source": [
    "Use a regular expression to extract only text from the name strings and append it to an empty list. Use match and span to find the indices and use them"
   ]
  },
  {
   "cell_type": "code",
   "execution_count": 16,
   "id": "appreciated-straight",
   "metadata": {},
   "outputs": [],
   "source": [
    "lst_titles=[]\n",
    "for i in range(100):\n",
    "    id1,id2=re.match('^[a-zA-Z ]*',lst_titles_temp[i]).span()\n",
    "    lst_titles.append(lst_titles_temp[i][id1:id2])"
   ]
  },
  {
   "cell_type": "markdown",
   "id": "increased-collection",
   "metadata": {},
   "source": [
    "Print the list of titles"
   ]
  },
  {
   "cell_type": "code",
   "execution_count": 17,
   "id": "experimental-advocate",
   "metadata": {},
   "outputs": [
    {
     "name": "stdout",
     "output_type": "stream",
     "text": [
      "\n",
      "\n",
      "\n",
      "\n",
      "\n",
      "\n",
      "\n",
      "\n",
      "\n",
      "\n",
      "\n",
      "\n",
      "\n",
      "\n",
      "\n",
      "\n",
      "\n",
      "\n",
      "\n",
      "\n",
      "\n",
      "\n",
      "\n",
      "\n",
      "\n",
      "\n",
      "Menu\n",
      "\n",
      "\n",
      "\n",
      "About\n",
      "          \n",
      "\n",
      "\n",
      "\n",
      "\n",
      "About Project Gutenberg\n",
      "Collection Development\n",
      "Contact Us\n",
      "History \n",
      "Permissions \n",
      "Privacy Policy\n",
      "Terms of Use\n",
      "\n",
      "\n",
      "\n",
      "Search and Browse\n",
      "      \n",
      "\n",
      "\n",
      "\n",
      "\n",
      "Book Search\n",
      "Bookshelves\n",
      "Frequently Downloaded\n",
      "Offline Catalogs\n",
      "\n",
      "\n",
      "\n",
      "Help\n",
      "          \n",
      "\n",
      "\n",
      "\n",
      "\n",
      "All help topics \n",
      "Copyright Procedures\n",
      "Errata\n",
      "File Formats\n",
      "Frequently Asked Questions\n",
      "Policies \n",
      "Public Domain eBook Submission\n",
      "Submitting Your Own Work\n",
      "Tablets\n",
      "The Attic \n",
      "\n",
      "\n",
      "Donate\n",
      "\n",
      "\n",
      "\n",
      "\n",
      "\n",
      "\n",
      "\n",
      "\n",
      "\n",
      "\n",
      "Donation\n",
      "\n",
      "\n",
      "\n",
      "\n",
      "\n",
      "\n",
      "\n",
      "Frequently Viewed or Downloaded\n",
      "These listings are based on the number of times each eBook gets downloaded\n",
      "      Multiple downloads from the same Internet address on the same day count as one download\n",
      "\n"
     ]
    }
   ],
   "source": [
    "for l in lst_titles:\n",
    "    print(l)"
   ]
  }
 ],
 "metadata": {
  "kernelspec": {
   "display_name": "Python 3",
   "language": "python",
   "name": "python3"
  },
  "language_info": {
   "codemirror_mode": {
    "name": "ipython",
    "version": 3
   },
   "file_extension": ".py",
   "mimetype": "text/x-python",
   "name": "python",
   "nbconvert_exporter": "python",
   "pygments_lexer": "ipython3",
   "version": "3.7.7"
  }
 },
 "nbformat": 4,
 "nbformat_minor": 5
}
