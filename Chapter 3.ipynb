{
 "cells": [
  {
   "cell_type": "markdown",
   "id": "portuguese-atlas",
   "metadata": {},
   "source": [
    "# Introduction to NumPy, Pandas and Matplotlib"
   ]
  },
  {
   "cell_type": "markdown",
   "id": "surgical-seeker",
   "metadata": {},
   "source": [
    "### Creating a NumPy Array (from a List)"
   ]
  },
  {
   "cell_type": "code",
   "execution_count": 1,
   "id": "subjective-split",
   "metadata": {},
   "outputs": [],
   "source": [
    "# import numpy\n",
    "import numpy as np"
   ]
  },
  {
   "cell_type": "code",
   "execution_count": 2,
   "id": "brave-saturday",
   "metadata": {},
   "outputs": [
    {
     "data": {
      "text/plain": [
       "[1, 2, 3]"
      ]
     },
     "execution_count": 2,
     "metadata": {},
     "output_type": "execute_result"
    }
   ],
   "source": [
    "# Create a list with three elements\n",
    "list_1 = [1,2,3]\n",
    "list_1"
   ]
  },
  {
   "cell_type": "code",
   "execution_count": 3,
   "id": "leading-photographer",
   "metadata": {},
   "outputs": [
    {
     "data": {
      "text/plain": [
       "array([1, 2, 3])"
      ]
     },
     "execution_count": 3,
     "metadata": {},
     "output_type": "execute_result"
    }
   ],
   "source": [
    "# Use the array function to convert it into an array\n",
    "array_1 = np.array(list_1)\n",
    "array_1"
   ]
  },
  {
   "cell_type": "code",
   "execution_count": 4,
   "id": "twenty-discrimination",
   "metadata": {},
   "outputs": [
    {
     "data": {
      "text/plain": [
       "array([1.2, 3.4, 5.6])"
      ]
     },
     "execution_count": 4,
     "metadata": {},
     "output_type": "execute_result"
    }
   ],
   "source": [
    "# Create an array of floating type elements\n",
    "a = np.array([1.2, 3.4, 5.6])\n",
    "a"
   ]
  },
  {
   "cell_type": "code",
   "execution_count": 5,
   "id": "marked-season",
   "metadata": {},
   "outputs": [
    {
     "data": {
      "text/plain": [
       "numpy.ndarray"
      ]
     },
     "execution_count": 5,
     "metadata": {},
     "output_type": "execute_result"
    }
   ],
   "source": [
    "# check the type of the newly created object\n",
    "type(a)"
   ]
  },
  {
   "cell_type": "code",
   "execution_count": 6,
   "id": "purple-louisiana",
   "metadata": {},
   "outputs": [
    {
     "data": {
      "text/plain": [
       "array([('MMM', 100), ('AOS', 101), ('ABT', 102), ('ABBV', 103),\n",
       "       ('ACN', 104), ('ATVI', 105), ('AYI', 106), ('ADBE', 107),\n",
       "       ('AAP', 108), ('AMD', 109), ('AES', 110), ('AET', 111),\n",
       "       ('AMG', 112), ('AFL', 113), ('A', 114), ('APD', 115),\n",
       "       ('AKAM', 116), ('ALK', 117), ('ALB', 118), ('ARE', 119),\n",
       "       ('ALXN', 120), ('ALGN', 121), ('ALLE', 122), ('AGN', 123),\n",
       "       ('ADS', 124), ('LNT', 125), ('ALL', 126), ('GOOGL', 127),\n",
       "       ('GOOG', 128), ('MO', 129), ('AMZN', 130), ('AEE', 131),\n",
       "       ('AAL', 132), ('AEP', 133), ('AXP', 134), ('AIG', 135),\n",
       "       ('AMT', 136), ('AWK', 137), ('AMP', 138), ('ABC', 139),\n",
       "       ('AME', 140), ('AMGN', 141), ('APH', 142), ('APC', 143),\n",
       "       ('ADI', 144), ('ANDV', 145), ('ANSS', 146), ('ANTM', 147),\n",
       "       ('AON', 148)], dtype=[('Symbol', '<U5'), ('Price', '<i4')])"
      ]
     },
     "execution_count": 6,
     "metadata": {},
     "output_type": "execute_result"
    }
   ],
   "source": [
    "# read a .csv file as a NumPy array using the genfromtxt function\n",
    "data = np.genfromtxt('datasets/stock.csv',\n",
    "                     delimiter=',',\n",
    "                     names=True,\n",
    "                     dtype=None,\n",
    "                     encoding='ascii')\n",
    "data"
   ]
  },
  {
   "cell_type": "code",
   "execution_count": 7,
   "id": "earned-stroke",
   "metadata": {},
   "outputs": [
    {
     "data": {
      "text/plain": [
       "[1, 2, 3, 1, 2, 3]"
      ]
     },
     "execution_count": 7,
     "metadata": {},
     "output_type": "execute_result"
    }
   ],
   "source": [
    "# Use the + notation to concatenate two list_1 objects\n",
    "list_2 = list_1 + list_1\n",
    "list_2"
   ]
  },
  {
   "cell_type": "code",
   "execution_count": 8,
   "id": "ceramic-employment",
   "metadata": {},
   "outputs": [
    {
     "data": {
      "text/plain": [
       "array([2, 4, 6])"
      ]
     },
     "execution_count": 8,
     "metadata": {},
     "output_type": "execute_result"
    }
   ],
   "source": [
    "# Use the same + notation to concatenate two array_1 objects\n",
    "array_2 = array_1 + array_1\n",
    "array_2"
   ]
  },
  {
   "cell_type": "code",
   "execution_count": 9,
   "id": "oriental-graphic",
   "metadata": {},
   "outputs": [
    {
     "data": {
      "text/plain": [
       "array([202., 204., 206., 208., 210., 212., 214., 216., 218., 220., 222.,\n",
       "       224., 226., 228., 230., 232., 234., 236., 238., 240., 242., 244.,\n",
       "       246., 248., 250., 252., 254., 256., 258., 260., 262., 264., 266.,\n",
       "       268., 270., 272., 274., 276., 278., 280., 282., 284., 286., 288.,\n",
       "       290., 292., 294., 296.])"
      ]
     },
     "execution_count": 9,
     "metadata": {},
     "output_type": "execute_result"
    }
   ],
   "source": [
    "# Load a .csv file and concatenate it with itself\n",
    "data = np.genfromtxt('datasets/numbers.csv', delimiter=',', names=True)\n",
    "data = data.astype('float64')\n",
    "data + data"
   ]
  },
  {
   "cell_type": "code",
   "execution_count": 10,
   "id": "timely-lender",
   "metadata": {},
   "outputs": [
    {
     "data": {
      "text/plain": [
       "array([4545., 4590., 4635., 4680., 4725., 4770., 4815., 4860., 4905.,\n",
       "       4950., 4995., 5040., 5085., 5130., 5175., 5220., 5265., 5310.,\n",
       "       5355., 5400., 5445., 5490., 5535., 5580., 5625., 5670., 5715.,\n",
       "       5760., 5805., 5850., 5895., 5940., 5985., 6030., 6075., 6120.,\n",
       "       6165., 6210., 6255., 6300., 6345., 6390., 6435., 6480., 6525.,\n",
       "       6570., 6615., 6660.])"
      ]
     },
     "execution_count": 10,
     "metadata": {},
     "output_type": "execute_result"
    }
   ],
   "source": [
    "# Multiply 45 by every element in the array\n",
    "data * 45"
   ]
  },
  {
   "cell_type": "code",
   "execution_count": 11,
   "id": "neutral-worth",
   "metadata": {},
   "outputs": [
    {
     "data": {
      "text/plain": [
       "array([1.49187592, 1.50664697, 1.52141802, 1.53618907, 1.55096012,\n",
       "       1.56573117, 1.58050222, 1.59527326, 1.61004431, 1.62481536,\n",
       "       1.63958641, 1.65435746, 1.66912851, 1.68389956, 1.69867061,\n",
       "       1.71344165, 1.7282127 , 1.74298375, 1.7577548 , 1.77252585,\n",
       "       1.7872969 , 1.80206795, 1.816839  , 1.83161004, 1.84638109,\n",
       "       1.86115214, 1.87592319, 1.89069424, 1.90546529, 1.92023634,\n",
       "       1.93500739, 1.94977843, 1.96454948, 1.97932053, 1.99409158,\n",
       "       2.00886263, 2.02363368, 2.03840473, 2.05317578, 2.06794682,\n",
       "       2.08271787, 2.09748892, 2.11225997, 2.12703102, 2.14180207,\n",
       "       2.15657312, 2.17134417, 2.18611521])"
      ]
     },
     "execution_count": 11,
     "metadata": {},
     "output_type": "execute_result"
    }
   ],
   "source": [
    "# Divide the array by 67.7\n",
    "data / 67.7"
   ]
  },
  {
   "cell_type": "code",
   "execution_count": 12,
   "id": "viral-comparative",
   "metadata": {},
   "outputs": [
    {
     "name": "stdout",
     "output_type": "stream",
     "text": [
      "array_1 raised to the power of array_1: [ 1  4 27]\n"
     ]
    }
   ],
   "source": [
    "# Raise one array to the second array's power\n",
    "print(\"array_1 raised to the power of array_1:\", array_1 ** array_1)"
   ]
  },
  {
   "cell_type": "code",
   "execution_count": 13,
   "id": "nominated-digest",
   "metadata": {},
   "outputs": [],
   "source": [
    "# import pandas\n",
    "import pandas as pd"
   ]
  },
  {
   "cell_type": "code",
   "execution_count": 14,
   "id": "insured-synthesis",
   "metadata": {},
   "outputs": [
    {
     "data": {
      "text/plain": [
       "[[101],\n",
       " [102],\n",
       " [103],\n",
       " [104],\n",
       " [105],\n",
       " [106],\n",
       " [107],\n",
       " [108],\n",
       " [109],\n",
       " [110],\n",
       " [111],\n",
       " [112],\n",
       " [113],\n",
       " [114],\n",
       " [115],\n",
       " [116],\n",
       " [117],\n",
       " [118],\n",
       " [119],\n",
       " [120],\n",
       " [121],\n",
       " [122],\n",
       " [123],\n",
       " [124],\n",
       " [125],\n",
       " [126],\n",
       " [127],\n",
       " [128],\n",
       " [129],\n",
       " [130],\n",
       " [131],\n",
       " [132],\n",
       " [133],\n",
       " [134],\n",
       " [135],\n",
       " [136],\n",
       " [137],\n",
       " [138],\n",
       " [139],\n",
       " [140],\n",
       " [141],\n",
       " [142],\n",
       " [143],\n",
       " [144],\n",
       " [145],\n",
       " [146],\n",
       " [147],\n",
       " [148]]"
      ]
     },
     "execution_count": 14,
     "metadata": {},
     "output_type": "execute_result"
    }
   ],
   "source": [
    "# creating a list\n",
    "df = pd.read_csv(\"datasets/numbers.csv\")\n",
    "list_5 = df.values.tolist()\n",
    "list_5"
   ]
  },
  {
   "cell_type": "code",
   "execution_count": 15,
   "id": "falling-right",
   "metadata": {},
   "outputs": [
    {
     "data": {
      "text/plain": [
       "array([[101],\n",
       "       [102],\n",
       "       [103],\n",
       "       [104],\n",
       "       [105],\n",
       "       [106],\n",
       "       [107],\n",
       "       [108],\n",
       "       [109],\n",
       "       [110],\n",
       "       [111],\n",
       "       [112],\n",
       "       [113],\n",
       "       [114],\n",
       "       [115],\n",
       "       [116],\n",
       "       [117],\n",
       "       [118],\n",
       "       [119],\n",
       "       [120],\n",
       "       [121],\n",
       "       [122],\n",
       "       [123],\n",
       "       [124],\n",
       "       [125],\n",
       "       [126],\n",
       "       [127],\n",
       "       [128],\n",
       "       [129],\n",
       "       [130],\n",
       "       [131],\n",
       "       [132],\n",
       "       [133],\n",
       "       [134],\n",
       "       [135],\n",
       "       [136],\n",
       "       [137],\n",
       "       [138],\n",
       "       [139],\n",
       "       [140],\n",
       "       [141],\n",
       "       [142],\n",
       "       [143],\n",
       "       [144],\n",
       "       [145],\n",
       "       [146],\n",
       "       [147],\n",
       "       [148]])"
      ]
     },
     "execution_count": 15,
     "metadata": {},
     "output_type": "execute_result"
    }
   ],
   "source": [
    "# creating a numpy array\n",
    "array_5 = np.array(list_5)\n",
    "array_5"
   ]
  },
  {
   "cell_type": "code",
   "execution_count": 16,
   "id": "pharmaceutical-oasis",
   "metadata": {},
   "outputs": [
    {
     "data": {
      "text/plain": [
       "array([[ 0.45202579],\n",
       "       [ 0.99482679],\n",
       "       [ 0.62298863],\n",
       "       [-0.3216224 ],\n",
       "       [-0.97053528],\n",
       "       [-0.7271425 ],\n",
       "       [ 0.18478174],\n",
       "       [ 0.92681851],\n",
       "       [ 0.81674261],\n",
       "       [-0.04424268],\n",
       "       [-0.86455145],\n",
       "       [-0.8899956 ],\n",
       "       [-0.09718191],\n",
       "       [ 0.78498039],\n",
       "       [ 0.94543533],\n",
       "       [ 0.23666139],\n",
       "       [-0.68969794],\n",
       "       [-0.98195217],\n",
       "       [-0.3714041 ],\n",
       "       [ 0.58061118],\n",
       "       [ 0.99881522],\n",
       "       [ 0.49871315],\n",
       "       [-0.45990349],\n",
       "       [-0.99568699],\n",
       "       [-0.61604046],\n",
       "       [ 0.32999083],\n",
       "       [ 0.97263007],\n",
       "       [ 0.72103771],\n",
       "       [-0.19347339],\n",
       "       [-0.93010595],\n",
       "       [-0.81160339],\n",
       "       [ 0.05308359],\n",
       "       [ 0.86896576],\n",
       "       [ 0.88592482],\n",
       "       [ 0.08836869],\n",
       "       [-0.79043321],\n",
       "       [-0.94251445],\n",
       "       [-0.22805226],\n",
       "       [ 0.69608013],\n",
       "       [ 0.98023966],\n",
       "       [ 0.36317137],\n",
       "       [-0.58779501],\n",
       "       [-0.99834536],\n",
       "       [-0.49102159],\n",
       "       [ 0.46774516],\n",
       "       [ 0.99646917],\n",
       "       [ 0.60904402],\n",
       "       [-0.33833339]])"
      ]
     },
     "execution_count": 16,
     "metadata": {},
     "output_type": "execute_result"
    }
   ],
   "source": [
    "# Find the sine value of the array\n",
    "np.sin(array_5)"
   ]
  },
  {
   "cell_type": "code",
   "execution_count": 17,
   "id": "little-county",
   "metadata": {},
   "outputs": [
    {
     "data": {
      "text/plain": [
       "array([[4.61512052],\n",
       "       [4.62497281],\n",
       "       [4.63472899],\n",
       "       [4.6443909 ],\n",
       "       [4.65396035],\n",
       "       [4.66343909],\n",
       "       [4.67282883],\n",
       "       [4.68213123],\n",
       "       [4.69134788],\n",
       "       [4.70048037],\n",
       "       [4.7095302 ],\n",
       "       [4.71849887],\n",
       "       [4.72738782],\n",
       "       [4.73619845],\n",
       "       [4.74493213],\n",
       "       [4.75359019],\n",
       "       [4.76217393],\n",
       "       [4.77068462],\n",
       "       [4.77912349],\n",
       "       [4.78749174],\n",
       "       [4.79579055],\n",
       "       [4.80402104],\n",
       "       [4.81218436],\n",
       "       [4.82028157],\n",
       "       [4.82831374],\n",
       "       [4.83628191],\n",
       "       [4.84418709],\n",
       "       [4.85203026],\n",
       "       [4.8598124 ],\n",
       "       [4.86753445],\n",
       "       [4.87519732],\n",
       "       [4.88280192],\n",
       "       [4.89034913],\n",
       "       [4.8978398 ],\n",
       "       [4.90527478],\n",
       "       [4.91265489],\n",
       "       [4.91998093],\n",
       "       [4.92725369],\n",
       "       [4.93447393],\n",
       "       [4.94164242],\n",
       "       [4.94875989],\n",
       "       [4.95582706],\n",
       "       [4.96284463],\n",
       "       [4.9698133 ],\n",
       "       [4.97673374],\n",
       "       [4.98360662],\n",
       "       [4.99043259],\n",
       "       [4.99721227]])"
      ]
     },
     "execution_count": 17,
     "metadata": {},
     "output_type": "execute_result"
    }
   ],
   "source": [
    "# Find the logarithmic value of the array\n",
    "np.log(array_5)"
   ]
  },
  {
   "cell_type": "code",
   "execution_count": 18,
   "id": "designed-calculation",
   "metadata": {},
   "outputs": [
    {
     "data": {
      "text/plain": [
       "array([[7.30705998e+43],\n",
       "       [1.98626484e+44],\n",
       "       [5.39922761e+44],\n",
       "       [1.46766223e+45],\n",
       "       [3.98951957e+45],\n",
       "       [1.08446386e+46],\n",
       "       [2.94787839e+46],\n",
       "       [8.01316426e+46],\n",
       "       [2.17820388e+47],\n",
       "       [5.92097203e+47],\n",
       "       [1.60948707e+48],\n",
       "       [4.37503945e+48],\n",
       "       [1.18925902e+49],\n",
       "       [3.23274119e+49],\n",
       "       [8.78750164e+49],\n",
       "       [2.38869060e+50],\n",
       "       [6.49313426e+50],\n",
       "       [1.76501689e+51],\n",
       "       [4.79781333e+51],\n",
       "       [1.30418088e+52],\n",
       "       [3.54513118e+52],\n",
       "       [9.63666567e+52],\n",
       "       [2.61951732e+53],\n",
       "       [7.12058633e+53],\n",
       "       [1.93557604e+54],\n",
       "       [5.26144118e+54],\n",
       "       [1.43020800e+55],\n",
       "       [3.88770841e+55],\n",
       "       [1.05678871e+56],\n",
       "       [2.87264955e+56],\n",
       "       [7.80867107e+56],\n",
       "       [2.12261687e+57],\n",
       "       [5.76987086e+57],\n",
       "       [1.56841351e+58],\n",
       "       [4.26338995e+58],\n",
       "       [1.15890954e+59],\n",
       "       [3.15024275e+59],\n",
       "       [8.56324762e+59],\n",
       "       [2.32773204e+60],\n",
       "       [6.32743171e+60],\n",
       "       [1.71997426e+61],\n",
       "       [4.67537478e+61],\n",
       "       [1.27089863e+62],\n",
       "       [3.45466066e+62],\n",
       "       [9.39074129e+62],\n",
       "       [2.55266814e+63],\n",
       "       [6.93887142e+63],\n",
       "       [1.88618081e+64]])"
      ]
     },
     "execution_count": 18,
     "metadata": {},
     "output_type": "execute_result"
    }
   ],
   "source": [
    "# Find the exponential value of the array\n",
    "np.exp(array_5)"
   ]
  },
  {
   "cell_type": "code",
   "execution_count": 19,
   "id": "parliamentary-buying",
   "metadata": {},
   "outputs": [
    {
     "data": {
      "text/plain": [
       "array([ 5,  6,  7,  8,  9, 10, 11, 12, 13, 14, 15])"
      ]
     },
     "execution_count": 19,
     "metadata": {},
     "output_type": "execute_result"
    }
   ],
   "source": [
    "# create a series of numbers using the arange method\n",
    "np.arange(5, 16)"
   ]
  },
  {
   "cell_type": "code",
   "execution_count": 20,
   "id": "challenging-component",
   "metadata": {},
   "outputs": [
    {
     "name": "stdout",
     "output_type": "stream",
     "text": [
      "Numbers spaced apart by 2:  [ 0  2  4  6  8 10]\n",
      "Numbers spaced apart by a floating point number:  [ 0.   2.5  5.   7.5 10. ]\n",
      "Every 5th number from 30 in reverse order\n",
      " [30 25 20 15 10  5  0]\n"
     ]
    }
   ],
   "source": [
    "# Print numbers using the arange function\n",
    "print(\"Numbers spaced apart by 2: \", np.arange(0,11,2))\n",
    "print(\"Numbers spaced apart by a floating point number: \", np.arange(0,11,2.5))\n",
    "print(\"Every 5th number from 30 in reverse order\\n\", np.arange(30,-1,-5))"
   ]
  },
  {
   "cell_type": "code",
   "execution_count": 21,
   "id": "angry-warner",
   "metadata": {},
   "outputs": [
    {
     "name": "stdout",
     "output_type": "stream",
     "text": [
      "11 linearly spaced numbers between 1 and 5:  [1.  1.4 1.8 2.2 2.6 3.  3.4 3.8 4.2 4.6 5. ]\n"
     ]
    }
   ],
   "source": [
    "# print  linearly spaced numbers\n",
    "print(\"11 linearly spaced numbers between 1 and 5: \",np.linspace(1,5,11))"
   ]
  },
  {
   "cell_type": "code",
   "execution_count": 22,
   "id": "determined-pleasure",
   "metadata": {},
   "outputs": [
    {
     "name": "stdout",
     "output_type": "stream",
     "text": [
      "Type/Class of this object: <class 'numpy.ndarray'>\n",
      "Here is the matrix\n",
      "----------\n",
      " [[1 2 3]\n",
      " [4 5 6]\n",
      " [7 8 9]] \n",
      "----------\n"
     ]
    }
   ],
   "source": [
    "# load the numbers2.csv file, and convert it into a two-dimensional NumPy array\n",
    "df = pd.read_csv(\"datasets/numbers2.csv\", header=None)\n",
    "list_2D = df.values\n",
    "mat1 = np.array(list_2D)\n",
    "print(\"Type/Class of this object:\", type(mat1))\n",
    "print(\"Here is the matrix\\n----------\\n\", mat1, \"\\n----------\")"
   ]
  },
  {
   "cell_type": "code",
   "execution_count": 23,
   "id": "reasonable-pixel",
   "metadata": {},
   "outputs": [
    {
     "data": {
      "text/plain": [
       "array([[1.5, 2. , 3. ],\n",
       "       [4. , 5. , 6. ]])"
      ]
     },
     "execution_count": 23,
     "metadata": {},
     "output_type": "execute_result"
    }
   ],
   "source": [
    "# Tuples can be converted into multi-dimensional arrays\n",
    "tuple_2D = np.array([(1.5,2,3), (4,5,6)])\n",
    "mat_tuple = np.array(tuple_2D)\n",
    "mat_tuple"
   ]
  },
  {
   "cell_type": "code",
   "execution_count": 24,
   "id": "floral-issue",
   "metadata": {},
   "outputs": [
    {
     "name": "stdout",
     "output_type": "stream",
     "text": [
      "Dimension of the matrix: 2\n"
     ]
    }
   ],
   "source": [
    "# Print the dimension of the matrix\n",
    "print(\"Dimension of the matrix: \", mat1.ndim, sep='')"
   ]
  },
  {
   "cell_type": "code",
   "execution_count": 25,
   "id": "solar-video",
   "metadata": {},
   "outputs": [
    {
     "name": "stdout",
     "output_type": "stream",
     "text": [
      "Size of the matrix: 9\n"
     ]
    }
   ],
   "source": [
    "# Print the size of the matrix\n",
    "print(\"Size of the matrix: \", mat1.size, sep='')"
   ]
  },
  {
   "cell_type": "code",
   "execution_count": 26,
   "id": "spanish-going",
   "metadata": {},
   "outputs": [
    {
     "name": "stdout",
     "output_type": "stream",
     "text": [
      "Shape of the matrix: (3, 3)\n"
     ]
    }
   ],
   "source": [
    "# Print the shape of the matrix\n",
    "print(\"Shape of the matrix: \", mat1.shape, sep='')"
   ]
  },
  {
   "cell_type": "code",
   "execution_count": 27,
   "id": "accurate-offset",
   "metadata": {},
   "outputs": [
    {
     "name": "stdout",
     "output_type": "stream",
     "text": [
      "Data type of the matrix: int64\n"
     ]
    }
   ],
   "source": [
    "# Print the dimension type \n",
    "print(\"Data type of the matrix: \", mat1.dtype, sep='')"
   ]
  },
  {
   "cell_type": "code",
   "execution_count": 28,
   "id": "manual-canal",
   "metadata": {},
   "outputs": [
    {
     "name": "stdout",
     "output_type": "stream",
     "text": [
      "Vector of zeros:  [0. 0. 0. 0. 0.]\n"
     ]
    }
   ],
   "source": [
    "# Print a vector of zeros \n",
    "print(\"Vector of zeros: \", np.zeros(5))"
   ]
  },
  {
   "cell_type": "code",
   "execution_count": 29,
   "id": "demonstrated-attraction",
   "metadata": {},
   "outputs": [
    {
     "name": "stdout",
     "output_type": "stream",
     "text": [
      "Matrix of zeros:  [[0. 0. 0. 0.]\n",
      " [0. 0. 0. 0.]\n",
      " [0. 0. 0. 0.]]\n"
     ]
    }
   ],
   "source": [
    "# Print the matrix of zeros\n",
    "print(\"Matrix of zeros: \", np.zeros((3,4)))"
   ]
  },
  {
   "cell_type": "code",
   "execution_count": 30,
   "id": "photographic-workshop",
   "metadata": {},
   "outputs": [
    {
     "name": "stdout",
     "output_type": "stream",
     "text": [
      "Matrix of 5's:  [[5. 5. 5.]\n",
      " [5. 5. 5.]\n",
      " [5. 5. 5.]]\n"
     ]
    }
   ],
   "source": [
    "# Print the matrix of fives\n",
    "print(\"Matrix of 5's: \", 5*np.ones((3,3)))"
   ]
  },
  {
   "cell_type": "code",
   "execution_count": 31,
   "id": "exciting-recipient",
   "metadata": {},
   "outputs": [
    {
     "name": "stdout",
     "output_type": "stream",
     "text": [
      "Identity matrix of dimension 2:  [[1. 0.]\n",
      " [0. 1.]]\n"
     ]
    }
   ],
   "source": [
    "# Print an identity matrix\n",
    "print(\"Identity matrix of dimension 2: \", np.eye(2))"
   ]
  },
  {
   "cell_type": "code",
   "execution_count": 32,
   "id": "right-comfort",
   "metadata": {},
   "outputs": [
    {
     "name": "stdout",
     "output_type": "stream",
     "text": [
      "Random matrix of shape (4,3):\n",
      " [[3 3 4]\n",
      " [5 7 3]\n",
      " [2 7 4]\n",
      " [4 4 5]]\n"
     ]
    }
   ],
   "source": [
    "# Print a matrix of random numbers\n",
    "print(\"Random matrix of shape (4,3):\\n\", np.random.randint(low=1, high=10, size=(4,3)))"
   ]
  },
  {
   "cell_type": "code",
   "execution_count": 33,
   "id": "curious-efficiency",
   "metadata": {},
   "outputs": [],
   "source": [
    "# Create an array of 30 random integers and reshape it\n",
    "a = np.random.randint(1,100,30)\n",
    "b = a.reshape(2,3,5)\n",
    "c = a.reshape(6,5)"
   ]
  },
  {
   "cell_type": "code",
   "execution_count": 34,
   "id": "widespread-narrative",
   "metadata": {},
   "outputs": [
    {
     "name": "stdout",
     "output_type": "stream",
     "text": [
      "Shape of a:  (30,)\n",
      "Shape of b:  (2, 3, 5)\n",
      "Shape of c:  (6, 5)\n"
     ]
    }
   ],
   "source": [
    "# Print the shape\n",
    "print(\"Shape of a: \", a.shape)\n",
    "print(\"Shape of b: \", b.shape)\n",
    "print(\"Shape of c: \", c.shape)"
   ]
  },
  {
   "cell_type": "code",
   "execution_count": 35,
   "id": "cardiovascular-output",
   "metadata": {},
   "outputs": [
    {
     "name": "stdout",
     "output_type": "stream",
     "text": [
      "a looks like\n",
      " [12 53 58 57 41 41 69 21 34 68 80 30 87 77 48 78 17 26 80 73 19 99  9 29\n",
      " 72 83 28 72 81 27]\n",
      "b looks like\n",
      " [[[12 53 58 57 41]\n",
      "  [41 69 21 34 68]\n",
      "  [80 30 87 77 48]]\n",
      "\n",
      " [[78 17 26 80 73]\n",
      "  [19 99  9 29 72]\n",
      "  [83 28 72 81 27]]]\n",
      "c looks like\n",
      " [[12 53 58 57 41]\n",
      " [41 69 21 34 68]\n",
      " [80 30 87 77 48]\n",
      " [78 17 26 80 73]\n",
      " [19 99  9 29 72]\n",
      " [83 28 72 81 27]]\n"
     ]
    }
   ],
   "source": [
    "# Print the arrays\n",
    "print(\"a looks like\\n\", a)\n",
    "print(\"b looks like\\n\", b)\n",
    "print(\"c looks like\\n\", c)"
   ]
  },
  {
   "cell_type": "code",
   "execution_count": 36,
   "id": "organic-serum",
   "metadata": {},
   "outputs": [
    {
     "name": "stdout",
     "output_type": "stream",
     "text": [
      "[12 53 58 57 41 41 69 21 34 68 80 30 87 77 48 78 17 26 80 73 19 99  9 29\n",
      " 72 83 28 72 81 27]\n"
     ]
    }
   ],
   "source": [
    "# Ravel file b\n",
    "b_flat = b.ravel()\n",
    "print(b_flat)"
   ]
  },
  {
   "cell_type": "code",
   "execution_count": 37,
   "id": "criminal-arrangement",
   "metadata": {},
   "outputs": [
    {
     "data": {
      "text/plain": [
       "array([[75, 77, 34, 57, 50],\n",
       "       [74, 72, 35, 74, 56],\n",
       "       [80, 40, 53, 50, 32]])"
      ]
     },
     "execution_count": 37,
     "metadata": {},
     "output_type": "execute_result"
    }
   ],
   "source": [
    "# Create a multi-dimensional array\n",
    "matrix_1 = np.random.randint(10,100,15).reshape(3,5)\n",
    "matrix_1"
   ]
  },
  {
   "cell_type": "code",
   "execution_count": 38,
   "id": "extra-southeast",
   "metadata": {},
   "outputs": [
    {
     "data": {
      "text/plain": [
       "35"
      ]
     },
     "execution_count": 38,
     "metadata": {},
     "output_type": "execute_result"
    }
   ],
   "source": [
    "# Access the values using double brackets\n",
    "matrix_1[1][2]"
   ]
  },
  {
   "cell_type": "code",
   "execution_count": 39,
   "id": "amended-recommendation",
   "metadata": {},
   "outputs": [
    {
     "data": {
      "text/plain": [
       "35"
      ]
     },
     "execution_count": 39,
     "metadata": {},
     "output_type": "execute_result"
    }
   ],
   "source": [
    "# Access the values using single brackets\n",
    "matrix_1[1,2]"
   ]
  },
  {
   "cell_type": "markdown",
   "id": "convinced-employer",
   "metadata": {},
   "source": [
    "### Stacking arrays"
   ]
  },
  {
   "cell_type": "code",
   "execution_count": 40,
   "id": "fiscal-blink",
   "metadata": {},
   "outputs": [
    {
     "name": "stdout",
     "output_type": "stream",
     "text": [
      "Matrix a:\n",
      " [[1 2]\n",
      " [3 4]]\n",
      "Matrix b:\n",
      " [[5 6]\n",
      " [7 8]]\n"
     ]
    }
   ],
   "source": [
    "a = np.array([[1,2], [3,4]])\n",
    "b = np.array([[5,6], [7,8]])\n",
    "print(\"Matrix a:\\n\", a)\n",
    "print(\"Matrix b:\\n\", b)"
   ]
  },
  {
   "cell_type": "code",
   "execution_count": 41,
   "id": "loved-pontiac",
   "metadata": {},
   "outputs": [
    {
     "name": "stdout",
     "output_type": "stream",
     "text": [
      "Vertical stacking\n",
      " [[1 2]\n",
      " [3 4]\n",
      " [5 6]\n",
      " [7 8]]\n"
     ]
    }
   ],
   "source": [
    "# vertical stacking\n",
    "print(\"Vertical stacking\\n\", np.vstack((a,b)))"
   ]
  },
  {
   "cell_type": "code",
   "execution_count": 42,
   "id": "surprising-birth",
   "metadata": {},
   "outputs": [
    {
     "name": "stdout",
     "output_type": "stream",
     "text": [
      "Horizontal stacking\n",
      " [[1 2 5 6]\n",
      " [3 4 7 8]]\n"
     ]
    }
   ],
   "source": [
    "# horizontal stack\n",
    "print(\"Horizontal stacking\\n\", np.hstack((a,b)))"
   ]
  },
  {
   "cell_type": "code",
   "execution_count": 43,
   "id": "urban-summit",
   "metadata": {},
   "outputs": [
    {
     "name": "stdout",
     "output_type": "stream",
     "text": [
      "\n",
      "1st Matrix of random single-digit numbers\n",
      " [[8 4 3]\n",
      " [8 6 4]\n",
      " [6 4 2]]\n",
      "\n",
      "2nd Matrix of random single-digit numbers\n",
      " [[3 2 7]\n",
      " [5 8 6]\n",
      " [1 2 1]]\n"
     ]
    }
   ],
   "source": [
    "# create two matrices\n",
    "matrix_1 = np.random.randint(1,10,9).reshape(3,3)\n",
    "matrix_2 = np.random.randint(1,10,9).reshape(3,3)\n",
    "print(\"\\n1st Matrix of random single-digit numbers\\n\",matrix_1)\n",
    "print(\"\\n2nd Matrix of random single-digit numbers\\n\",matrix_2)"
   ]
  },
  {
   "cell_type": "code",
   "execution_count": 44,
   "id": "ultimate-intermediate",
   "metadata": {},
   "outputs": [
    {
     "name": "stdout",
     "output_type": "stream",
     "text": [
      "\n",
      "Addiction\n",
      " [[11  6 10]\n",
      " [13 14 10]\n",
      " [ 7  6  3]]\n",
      "\n",
      "Subtraction\n",
      " [[ 5  2 -4]\n",
      " [ 3 -2 -2]\n",
      " [ 5  2  1]]\n",
      "\n",
      "Multiplication\n",
      " [[24  8 21]\n",
      " [40 48 24]\n",
      " [ 6  8  2]]\n",
      "\n",
      "Division\n",
      " [[2.66666667 2.         0.42857143]\n",
      " [1.6        0.75       0.66666667]\n",
      " [6.         2.         2.        ]]\n",
      "\n",
      "Linear Combination: 3*A - 2*B\n",
      " [[18  8 -5]\n",
      " [14  2  0]\n",
      " [16  8  4]]\n"
     ]
    }
   ],
   "source": [
    "# Perform addition, subtraction, division, and linear combination on the matrices\n",
    "print(\"\\nAddiction\\n\", matrix_1 + matrix_2)\n",
    "print(\"\\nSubtraction\\n\", matrix_1 - matrix_2)\n",
    "print(\"\\nMultiplication\\n\", matrix_1 * matrix_2)\n",
    "print(\"\\nDivision\\n\", matrix_1 / matrix_2)\n",
    "print(\"\\nLinear Combination: 3*A - 2*B\\n\", 3*matrix_1 - 2*matrix_2)"
   ]
  },
  {
   "cell_type": "code",
   "execution_count": 45,
   "id": "pursuant-nitrogen",
   "metadata": {},
   "outputs": [
    {
     "name": "stdout",
     "output_type": "stream",
     "text": [
      "\n",
      "Addiction of a scalar (100)\n",
      " [[108 104 103]\n",
      " [108 106 104]\n",
      " [106 104 102]]\n",
      "\n",
      "Exponentiation, matrix cubed here\n",
      " [[512  64  27]\n",
      " [512 216  64]\n",
      " [216  64   8]]\n",
      "\n",
      "Exponentiation, square root using 'pow function'\n",
      " [[2.82842712 2.         1.73205081]\n",
      " [2.82842712 2.44948974 2.        ]\n",
      " [2.44948974 2.         1.41421356]]\n"
     ]
    }
   ],
   "source": [
    "# Perform the addition of a scalar, exponential matrix cube, and exponential square root\n",
    "print(\"\\nAddiction of a scalar (100)\\n\", 100 + matrix_1)\n",
    "print(\"\\nExponentiation, matrix cubed here\\n\", matrix_1 ** 3)\n",
    "print(\"\\nExponentiation, square root using 'pow function'\\n\", pow(matrix_1, 0.5))"
   ]
  },
  {
   "cell_type": "markdown",
   "id": "unavailable-fusion",
   "metadata": {},
   "source": [
    "### Creating a Pandas Series"
   ]
  },
  {
   "cell_type": "code",
   "execution_count": 46,
   "id": "forced-illness",
   "metadata": {},
   "outputs": [],
   "source": [
    "# Import the NumPy library and initialize the labels, lists, and a dictionary\n",
    "labels = ['a', 'b', 'c']\n",
    "my_data = [10,20,30]\n",
    "array_1 = np.array(my_data)\n",
    "d = {'a':10, 'b':20, 'c':30}"
   ]
  },
  {
   "cell_type": "code",
   "execution_count": 47,
   "id": "solid-clearing",
   "metadata": {},
   "outputs": [
    {
     "name": "stdout",
     "output_type": "stream",
     "text": [
      "\n",
      "Holding numerical data\n",
      "-------------------------\n",
      "0    10\n",
      "1    20\n",
      "2    30\n",
      "dtype: int32\n"
     ]
    }
   ],
   "source": [
    "# Create a series from the my_data list\n",
    "print(\"\\nHolding numerical data\\n\", '-'*25, sep='')\n",
    "print(pd.Series(array_1))"
   ]
  },
  {
   "cell_type": "code",
   "execution_count": 48,
   "id": "coupled-murder",
   "metadata": {},
   "outputs": [
    {
     "name": "stdout",
     "output_type": "stream",
     "text": [
      "\n",
      "Holding text labels\n",
      "--------------------\n",
      "0    a\n",
      "1    b\n",
      "2    c\n",
      "dtype: object\n"
     ]
    }
   ],
   "source": [
    "# Create a series from the my_data list along with the labels \n",
    "print(\"\\nHolding text labels\\n\", '-'*20, sep='')\n",
    "print(pd.Series(labels))"
   ]
  },
  {
   "cell_type": "code",
   "execution_count": 49,
   "id": "sealed-bonus",
   "metadata": {},
   "outputs": [
    {
     "name": "stdout",
     "output_type": "stream",
     "text": [
      "\n",
      "Holding functions\n",
      "--------------------\n",
      "a    10\n",
      "b    20\n",
      "c    30\n",
      "dtype: int64\n"
     ]
    }
   ],
   "source": [
    "# create a series from the dictionary\n",
    "print(\"\\nHolding functions\\n\", '-'*20, sep='')\n",
    "print(pd.Series(d))"
   ]
  },
  {
   "cell_type": "markdown",
   "id": "sitting-command",
   "metadata": {},
   "source": [
    "### Creating Pandas DataFrames"
   ]
  },
  {
   "cell_type": "code",
   "execution_count": 50,
   "id": "graphic-isaac",
   "metadata": {},
   "outputs": [
    {
     "data": {
      "text/plain": [
       "array([[5, 9, 6, 4],\n",
       "       [6, 9, 5, 7],\n",
       "       [5, 2, 2, 2],\n",
       "       [9, 1, 9, 3],\n",
       "       [1, 7, 7, 3]])"
      ]
     },
     "execution_count": 50,
     "metadata": {},
     "output_type": "execute_result"
    }
   ],
   "source": [
    "# Create a simple DataFrame from a two-dimensional matrix of numbers\n",
    "matrix_data = np.random.randint(1,10,size=20).reshape(5,4)\n",
    "matrix_data"
   ]
  },
  {
   "cell_type": "code",
   "execution_count": 51,
   "id": "preceding-happening",
   "metadata": {},
   "outputs": [],
   "source": [
    "# Define the rows labels and column labels\n",
    "row_labels = ['A', 'B', 'C', 'D', 'E']\n",
    "column_headings = ['W', 'X', 'Y', 'Z']"
   ]
  },
  {
   "cell_type": "code",
   "execution_count": 52,
   "id": "patient-shanghai",
   "metadata": {},
   "outputs": [
    {
     "data": {
      "text/html": [
       "<div>\n",
       "<style scoped>\n",
       "    .dataframe tbody tr th:only-of-type {\n",
       "        vertical-align: middle;\n",
       "    }\n",
       "\n",
       "    .dataframe tbody tr th {\n",
       "        vertical-align: top;\n",
       "    }\n",
       "\n",
       "    .dataframe thead th {\n",
       "        text-align: right;\n",
       "    }\n",
       "</style>\n",
       "<table border=\"1\" class=\"dataframe\">\n",
       "  <thead>\n",
       "    <tr style=\"text-align: right;\">\n",
       "      <th></th>\n",
       "      <th>W</th>\n",
       "      <th>X</th>\n",
       "      <th>Y</th>\n",
       "      <th>Z</th>\n",
       "    </tr>\n",
       "  </thead>\n",
       "  <tbody>\n",
       "    <tr>\n",
       "      <th>A</th>\n",
       "      <td>5</td>\n",
       "      <td>9</td>\n",
       "      <td>6</td>\n",
       "      <td>4</td>\n",
       "    </tr>\n",
       "    <tr>\n",
       "      <th>B</th>\n",
       "      <td>6</td>\n",
       "      <td>9</td>\n",
       "      <td>5</td>\n",
       "      <td>7</td>\n",
       "    </tr>\n",
       "    <tr>\n",
       "      <th>C</th>\n",
       "      <td>5</td>\n",
       "      <td>2</td>\n",
       "      <td>2</td>\n",
       "      <td>2</td>\n",
       "    </tr>\n",
       "    <tr>\n",
       "      <th>D</th>\n",
       "      <td>9</td>\n",
       "      <td>1</td>\n",
       "      <td>9</td>\n",
       "      <td>3</td>\n",
       "    </tr>\n",
       "    <tr>\n",
       "      <th>E</th>\n",
       "      <td>1</td>\n",
       "      <td>7</td>\n",
       "      <td>7</td>\n",
       "      <td>3</td>\n",
       "    </tr>\n",
       "  </tbody>\n",
       "</table>\n",
       "</div>"
      ],
      "text/plain": [
       "   W  X  Y  Z\n",
       "A  5  9  6  4\n",
       "B  6  9  5  7\n",
       "C  5  2  2  2\n",
       "D  9  1  9  3\n",
       "E  1  7  7  3"
      ]
     },
     "execution_count": 52,
     "metadata": {},
     "output_type": "execute_result"
    }
   ],
   "source": [
    "# Create a DataFrame\n",
    "df = pd.DataFrame(data=matrix_data,\n",
    "                  index=row_labels,\n",
    "                  columns=column_headings)\n",
    "df"
   ]
  },
  {
   "cell_type": "code",
   "execution_count": 53,
   "id": "coastal-stroke",
   "metadata": {},
   "outputs": [
    {
     "data": {
      "text/html": [
       "<div>\n",
       "<style scoped>\n",
       "    .dataframe tbody tr th:only-of-type {\n",
       "        vertical-align: middle;\n",
       "    }\n",
       "\n",
       "    .dataframe tbody tr th {\n",
       "        vertical-align: top;\n",
       "    }\n",
       "\n",
       "    .dataframe thead th {\n",
       "        text-align: right;\n",
       "    }\n",
       "</style>\n",
       "<table border=\"1\" class=\"dataframe\">\n",
       "  <thead>\n",
       "    <tr style=\"text-align: right;\">\n",
       "      <th></th>\n",
       "      <th>a</th>\n",
       "      <th>b</th>\n",
       "      <th>c</th>\n",
       "    </tr>\n",
       "  </thead>\n",
       "  <tbody>\n",
       "    <tr>\n",
       "      <th>X</th>\n",
       "      <td>10</td>\n",
       "      <td>30</td>\n",
       "      <td>50</td>\n",
       "    </tr>\n",
       "    <tr>\n",
       "      <th>Y</th>\n",
       "      <td>20</td>\n",
       "      <td>40</td>\n",
       "      <td>60</td>\n",
       "    </tr>\n",
       "  </tbody>\n",
       "</table>\n",
       "</div>"
      ],
      "text/plain": [
       "    a   b   c\n",
       "X  10  30  50\n",
       "Y  20  40  60"
      ]
     },
     "execution_count": 53,
     "metadata": {},
     "output_type": "execute_result"
    }
   ],
   "source": [
    "# Create a DataFrame from a Python dictionary \n",
    "d = {'a':[10,20], 'b':[30,40], 'c':[50,60]}\n",
    "df2 = pd.DataFrame(data=d, index=['X', 'Y'])\n",
    "df2"
   ]
  },
  {
   "cell_type": "markdown",
   "id": "certified-johnston",
   "metadata": {},
   "source": [
    "### Introduction to Matplotlib through a Scatter Plot"
   ]
  },
  {
   "cell_type": "code",
   "execution_count": 54,
   "id": "aerial-packet",
   "metadata": {},
   "outputs": [],
   "source": [
    "# define simple lists\n",
    "people = ['Ann','Brandon','Chen','David','Emily','Farook',\n",
    "          'Gagan','Hamish','Imran','Joseph','Katherine','Lily']\n",
    "age = [21,12,32,45,37,18,28,52,5,40,48,15]\n",
    "weight = [55,35,77,68,70,60,72,69,18,65,82,48]\n",
    "height = [160,135,170,165,173,168,175,159,105,171,155,158]"
   ]
  },
  {
   "cell_type": "code",
   "execution_count": 55,
   "id": "arabic-toner",
   "metadata": {},
   "outputs": [],
   "source": [
    "# import matplotlib\n",
    "import matplotlib.pyplot as plt"
   ]
  },
  {
   "cell_type": "code",
   "execution_count": 56,
   "id": "inappropriate-saudi",
   "metadata": {},
   "outputs": [
    {
     "data": {
      "image/png": "[encoded data removed]",
      "text/plain": [
       "<Figure size 432x288 with 1 Axes>"
      ]
     },
     "metadata": {
      "needs_background": "light"
     },
     "output_type": "display_data"
    }
   ],
   "source": [
    "# Create simple scatter plots of age versus weight\n",
    "plt.scatter(age, weight)\n",
    "plt.show()"
   ]
  },
  {
   "cell_type": "code",
   "execution_count": 57,
   "id": "pleased-tutorial",
   "metadata": {},
   "outputs": [
    {
     "data": {
      "image/png": "[encoded data removed]",
      "text/plain": [
       "<Figure size 576x432 with 1 Axes>"
      ]
     },
     "metadata": {
      "needs_background": "light"
     },
     "output_type": "display_data"
    }
   ],
   "source": [
    "# improve the scatter plot\n",
    "plt.figure(figsize=(8,6))\n",
    "plt.title(\"Plot of Age vs. Weight (in kgs)\",fontsize=20)\n",
    "plt.xlabel(\"Age (years)\",fontsize=16)\n",
    "plt.ylabel(\"Weight (kgs)\",fontsize=16)\n",
    "plt.grid (True)\n",
    "plt.ylim(0,100)\n",
    "plt.xticks([i*5 for i in range(12)],fontsize=15)\n",
    "plt.yticks(fontsize=15)\n",
    "plt.scatter(x=age,y=weight,c='orange',s=150,edgecolors='k')\n",
    "plt.text(x=20,y=85,s=\"Weights after 18-20 years of age\",fontsize=15)\n",
    "plt.vlines(x=20,ymin=0,ymax=80,linestyles='dashed',color='blue',lw=3)\n",
    "plt.legend(['Weight in kgs'],loc=2,fontsize=12)\n",
    "plt.show()"
   ]
  },
  {
   "cell_type": "markdown",
   "id": "competent-nelson",
   "metadata": {},
   "source": [
    "### Generating Random Numbers from a Uniform Distribution"
   ]
  },
  {
   "cell_type": "code",
   "execution_count": 58,
   "id": "lesser-window",
   "metadata": {},
   "outputs": [],
   "source": [
    "import numpy as np"
   ]
  },
  {
   "cell_type": "code",
   "execution_count": 59,
   "id": "printable-soviet",
   "metadata": {},
   "outputs": [
    {
     "name": "stdout",
     "output_type": "stream",
     "text": [
      "9\n"
     ]
    }
   ],
   "source": [
    "# Generate a random integer between 1 and 10\n",
    "x = np.random.randint(1,10)\n",
    "print(x)"
   ]
  },
  {
   "cell_type": "code",
   "execution_count": 60,
   "id": "moral-sculpture",
   "metadata": {},
   "outputs": [
    {
     "name": "stdout",
     "output_type": "stream",
     "text": [
      "[5]\n"
     ]
    }
   ],
   "source": [
    "# Generate a random integer between 1 and 10 but with size=1 as an argument\n",
    "x = np.random.randint(1,10, size=1)\n",
    "print(x)"
   ]
  },
  {
   "cell_type": "code",
   "execution_count": 61,
   "id": "exterior-basket",
   "metadata": {},
   "outputs": [
    {
     "name": "stdout",
     "output_type": "stream",
     "text": [
      "[85.01 56.1  67.08 70.38 87.33 72.19 56.03 58.35 61.4  55.77 87.81 51.83\n",
      " 74.52 95.73 86.69]\n"
     ]
    }
   ],
   "source": [
    "# Generate decimal data\n",
    "x = 50 + 50*np.random.random(size=15)\n",
    "x = x.round(decimals=2)\n",
    "print(x)"
   ]
  },
  {
   "cell_type": "code",
   "execution_count": 62,
   "id": "noted-jewelry",
   "metadata": {},
   "outputs": [
    {
     "name": "stdout",
     "output_type": "stream",
     "text": [
      "[[0.03714467 0.48983788 0.28280364]\n",
      " [0.43475486 0.42472262 0.0146024 ]\n",
      " [0.44968377 0.56447621 0.55755573]]\n"
     ]
    }
   ],
   "source": [
    "# Generate and show a 3x3 matrix with random numbers\n",
    "x = np.random.rand(3,3)\n",
    "print(x)"
   ]
  },
  {
   "cell_type": "code",
   "execution_count": 63,
   "id": "awful-chester",
   "metadata": {},
   "outputs": [
    {
     "name": "stdout",
     "output_type": "stream",
     "text": [
      "[7 6 7 6 7 8 6 3]\n"
     ]
    }
   ],
   "source": [
    "# generate random numbers from a binomial distribution\n",
    "x = np.random.binomial(10, 0.6, size=8)\n",
    "print(x)"
   ]
  },
  {
   "cell_type": "code",
   "execution_count": 64,
   "id": "mathematical-antibody",
   "metadata": {},
   "outputs": [
    {
     "data": {
      "image/png": "[encoded data removed]",
      "text/plain": [
       "<Figure size 504x288 with 1 Axes>"
      ]
     },
     "metadata": {
      "needs_background": "light"
     },
     "output_type": "display_data"
    }
   ],
   "source": [
    "# Plot the result using a bar chart\n",
    "import matplotlib.pyplot as plt\n",
    "\n",
    "plt.figure(figsize=(7,4))\n",
    "plt.title(\"Number of successes in coin toss\", fontsize=16)\n",
    "plt.bar(np.arange(1,9), height=x)\n",
    "plt.xlabel('Experiment number', fontsize=15)\n",
    "plt.ylabel('Number of Successes', fontsize=15)\n",
    "plt.show()"
   ]
  },
  {
   "cell_type": "code",
   "execution_count": 65,
   "id": "lucky-mozambique",
   "metadata": {},
   "outputs": [
    {
     "name": "stdout",
     "output_type": "stream",
     "text": [
      "0.4329658783337987\n"
     ]
    }
   ],
   "source": [
    "# Draw a single sample from a normal distribution\n",
    "x = np.random.normal()\n",
    "print(x)"
   ]
  },
  {
   "cell_type": "code",
   "execution_count": 66,
   "id": "aggressive-multimedia",
   "metadata": {},
   "outputs": [
    {
     "data": {
      "image/png": "[encoded data removed]",
      "text/plain": [
       "<Figure size 504x360 with 1 Axes>"
      ]
     },
     "metadata": {
      "needs_background": "light"
     },
     "output_type": "display_data"
    }
   ],
   "source": [
    "# Generate a histogram of 100 students\n",
    "heights = np.random.normal(loc=155, scale=10, size=100)\n",
    "\n",
    "plt.figure(figsize=(7,5))\n",
    "plt.title('Histogram of teenaged students height', fontsize=18)\n",
    "plt.hist(heights, color='orange', edgecolor='k')\n",
    "plt.xlabel('Height in cm', fontsize=15)\n",
    "plt.xticks(fontsize=15)\n",
    "plt.yticks(fontsize=15)\n",
    "plt.show()"
   ]
  },
  {
   "cell_type": "code",
   "execution_count": 67,
   "id": "freelance-minute",
   "metadata": {},
   "outputs": [
    {
     "data": {
      "text/html": [
       "<div>\n",
       "<style scoped>\n",
       "    .dataframe tbody tr th:only-of-type {\n",
       "        vertical-align: middle;\n",
       "    }\n",
       "\n",
       "    .dataframe tbody tr th {\n",
       "        vertical-align: top;\n",
       "    }\n",
       "\n",
       "    .dataframe thead th {\n",
       "        text-align: right;\n",
       "    }\n",
       "</style>\n",
       "<table border=\"1\" class=\"dataframe\">\n",
       "  <thead>\n",
       "    <tr style=\"text-align: right;\">\n",
       "      <th></th>\n",
       "      <th>People</th>\n",
       "      <th>Age</th>\n",
       "      <th>Weight</th>\n",
       "      <th>Height</th>\n",
       "    </tr>\n",
       "  </thead>\n",
       "  <tbody>\n",
       "    <tr>\n",
       "      <th>0</th>\n",
       "      <td>Ann</td>\n",
       "      <td>21</td>\n",
       "      <td>55</td>\n",
       "      <td>160</td>\n",
       "    </tr>\n",
       "    <tr>\n",
       "      <th>1</th>\n",
       "      <td>Brandon</td>\n",
       "      <td>12</td>\n",
       "      <td>35</td>\n",
       "      <td>135</td>\n",
       "    </tr>\n",
       "    <tr>\n",
       "      <th>2</th>\n",
       "      <td>Chen</td>\n",
       "      <td>32</td>\n",
       "      <td>77</td>\n",
       "      <td>170</td>\n",
       "    </tr>\n",
       "    <tr>\n",
       "      <th>3</th>\n",
       "      <td>David</td>\n",
       "      <td>45</td>\n",
       "      <td>68</td>\n",
       "      <td>165</td>\n",
       "    </tr>\n",
       "    <tr>\n",
       "      <th>4</th>\n",
       "      <td>Emily</td>\n",
       "      <td>37</td>\n",
       "      <td>70</td>\n",
       "      <td>173</td>\n",
       "    </tr>\n",
       "    <tr>\n",
       "      <th>5</th>\n",
       "      <td>Farook</td>\n",
       "      <td>18</td>\n",
       "      <td>60</td>\n",
       "      <td>168</td>\n",
       "    </tr>\n",
       "    <tr>\n",
       "      <th>6</th>\n",
       "      <td>Gagan</td>\n",
       "      <td>28</td>\n",
       "      <td>72</td>\n",
       "      <td>175</td>\n",
       "    </tr>\n",
       "    <tr>\n",
       "      <th>7</th>\n",
       "      <td>Hamish</td>\n",
       "      <td>52</td>\n",
       "      <td>69</td>\n",
       "      <td>159</td>\n",
       "    </tr>\n",
       "    <tr>\n",
       "      <th>8</th>\n",
       "      <td>Imran</td>\n",
       "      <td>5</td>\n",
       "      <td>18</td>\n",
       "      <td>105</td>\n",
       "    </tr>\n",
       "    <tr>\n",
       "      <th>9</th>\n",
       "      <td>Joseph</td>\n",
       "      <td>40</td>\n",
       "      <td>65</td>\n",
       "      <td>171</td>\n",
       "    </tr>\n",
       "    <tr>\n",
       "      <th>10</th>\n",
       "      <td>Katherine</td>\n",
       "      <td>48</td>\n",
       "      <td>82</td>\n",
       "      <td>155</td>\n",
       "    </tr>\n",
       "    <tr>\n",
       "      <th>11</th>\n",
       "      <td>Lily</td>\n",
       "      <td>15</td>\n",
       "      <td>48</td>\n",
       "      <td>158</td>\n",
       "    </tr>\n",
       "  </tbody>\n",
       "</table>\n",
       "</div>"
      ],
      "text/plain": [
       "       People  Age  Weight  Height\n",
       "0         Ann   21      55     160\n",
       "1     Brandon   12      35     135\n",
       "2        Chen   32      77     170\n",
       "3       David   45      68     165\n",
       "4       Emily   37      70     173\n",
       "5      Farook   18      60     168\n",
       "6       Gagan   28      72     175\n",
       "7      Hamish   52      69     159\n",
       "8       Imran    5      18     105\n",
       "9      Joseph   40      65     171\n",
       "10  Katherine   48      82     155\n",
       "11       Lily   15      48     158"
      ]
     },
     "execution_count": 67,
     "metadata": {},
     "output_type": "execute_result"
    }
   ],
   "source": [
    "# Construct a dictionary \n",
    "people = ['Ann','Brandon','Chen','David','Emily','Farook',\n",
    "          'Gagan','Hamish','Imran','Joseph','Katherine','Lily']\n",
    "\n",
    "age = [21,12,32,45,37,18,28,52,5,40,48,15]\n",
    "\n",
    "weight = [55,35,77,68,70,60,72,69,18,65,82,48]\n",
    "\n",
    "height = [160,135,170,165,173,168,175,159,105,171,155,158]\n",
    "\n",
    "people_dict = {'People':people,'Age':age,'Weight':weight,'Height':height}\n",
    "\n",
    "people_df = pd.DataFrame(data=people_dict)\n",
    "people_df"
   ]
  },
  {
   "cell_type": "code",
   "execution_count": 68,
   "id": "visible-college",
   "metadata": {},
   "outputs": [
    {
     "name": "stdout",
     "output_type": "stream",
     "text": [
      "(12, 4)\n"
     ]
    }
   ],
   "source": [
    "# Find the number of rows and columns of the DataFrame\n",
    "print(people_df.shape)"
   ]
  },
  {
   "cell_type": "code",
   "execution_count": 69,
   "id": "relative-lawsuit",
   "metadata": {},
   "outputs": [
    {
     "name": "stdout",
     "output_type": "stream",
     "text": [
      "353\n"
     ]
    }
   ],
   "source": [
    "# Calculate the sum total of age\n",
    "print(people_df['Age'].sum())"
   ]
  },
  {
   "cell_type": "code",
   "execution_count": 70,
   "id": "forward-smith",
   "metadata": {},
   "outputs": [
    {
     "name": "stdout",
     "output_type": "stream",
     "text": [
      "29.416666666666668\n"
     ]
    }
   ],
   "source": [
    "# calculate the mean age\n",
    "print(people_df['Age'].mean())"
   ]
  },
  {
   "cell_type": "code",
   "execution_count": 71,
   "id": "sound-survival",
   "metadata": {},
   "outputs": [
    {
     "name": "stdout",
     "output_type": "stream",
     "text": [
      "66.5\n"
     ]
    }
   ],
   "source": [
    "# Calculate the median weight\n",
    "print(people_df['Weight'].median())"
   ]
  },
  {
   "cell_type": "code",
   "execution_count": 72,
   "id": "elder-wound",
   "metadata": {},
   "outputs": [
    {
     "name": "stdout",
     "output_type": "stream",
     "text": [
      "175\n"
     ]
    }
   ],
   "source": [
    "# Calculate the maximum height\n",
    "print(people_df['Height'].max())"
   ]
  },
  {
   "cell_type": "code",
   "execution_count": 73,
   "id": "active-doctrine",
   "metadata": {},
   "outputs": [
    {
     "name": "stdout",
     "output_type": "stream",
     "text": [
      "18.45120510148239\n"
     ]
    }
   ],
   "source": [
    "# Calculate the standard deviation of the weights\n",
    "print(people_df['Weight'].std())"
   ]
  },
  {
   "cell_type": "code",
   "execution_count": 74,
   "id": "activated-danger",
   "metadata": {},
   "outputs": [
    {
     "name": "stdout",
     "output_type": "stream",
     "text": [
      "41.25\n",
      "17.25\n"
     ]
    }
   ],
   "source": [
    "# calculate percentile\n",
    "pcnt_75 = np.percentile(people_df['Age'], 75)\n",
    "pcnt_25 = np.percentile(people_df['Age'], 25)\n",
    "print(pcnt_75)\n",
    "print(pcnt_25)"
   ]
  },
  {
   "cell_type": "code",
   "execution_count": 75,
   "id": "intensive-queensland",
   "metadata": {},
   "outputs": [
    {
     "data": {
      "text/html": [
       "<div>\n",
       "<style scoped>\n",
       "    .dataframe tbody tr th:only-of-type {\n",
       "        vertical-align: middle;\n",
       "    }\n",
       "\n",
       "    .dataframe tbody tr th {\n",
       "        vertical-align: top;\n",
       "    }\n",
       "\n",
       "    .dataframe thead th {\n",
       "        text-align: right;\n",
       "    }\n",
       "</style>\n",
       "<table border=\"1\" class=\"dataframe\">\n",
       "  <thead>\n",
       "    <tr style=\"text-align: right;\">\n",
       "      <th></th>\n",
       "      <th>Age</th>\n",
       "      <th>Weight</th>\n",
       "      <th>Height</th>\n",
       "    </tr>\n",
       "  </thead>\n",
       "  <tbody>\n",
       "    <tr>\n",
       "      <th>count</th>\n",
       "      <td>12.000000</td>\n",
       "      <td>12.000000</td>\n",
       "      <td>12.000000</td>\n",
       "    </tr>\n",
       "    <tr>\n",
       "      <th>mean</th>\n",
       "      <td>29.416667</td>\n",
       "      <td>59.916667</td>\n",
       "      <td>157.833333</td>\n",
       "    </tr>\n",
       "    <tr>\n",
       "      <th>std</th>\n",
       "      <td>15.329463</td>\n",
       "      <td>18.451205</td>\n",
       "      <td>19.834925</td>\n",
       "    </tr>\n",
       "    <tr>\n",
       "      <th>min</th>\n",
       "      <td>5.000000</td>\n",
       "      <td>18.000000</td>\n",
       "      <td>105.000000</td>\n",
       "    </tr>\n",
       "    <tr>\n",
       "      <th>25%</th>\n",
       "      <td>17.250000</td>\n",
       "      <td>53.250000</td>\n",
       "      <td>157.250000</td>\n",
       "    </tr>\n",
       "    <tr>\n",
       "      <th>50%</th>\n",
       "      <td>30.000000</td>\n",
       "      <td>66.500000</td>\n",
       "      <td>162.500000</td>\n",
       "    </tr>\n",
       "    <tr>\n",
       "      <th>75%</th>\n",
       "      <td>41.250000</td>\n",
       "      <td>70.500000</td>\n",
       "      <td>170.250000</td>\n",
       "    </tr>\n",
       "    <tr>\n",
       "      <th>max</th>\n",
       "      <td>52.000000</td>\n",
       "      <td>82.000000</td>\n",
       "      <td>175.000000</td>\n",
       "    </tr>\n",
       "  </tbody>\n",
       "</table>\n",
       "</div>"
      ],
      "text/plain": [
       "             Age     Weight      Height\n",
       "count  12.000000  12.000000   12.000000\n",
       "mean   29.416667  59.916667  157.833333\n",
       "std    15.329463  18.451205   19.834925\n",
       "min     5.000000  18.000000  105.000000\n",
       "25%    17.250000  53.250000  157.250000\n",
       "50%    30.000000  66.500000  162.500000\n",
       "75%    41.250000  70.500000  170.250000\n",
       "max    52.000000  82.000000  175.000000"
      ]
     },
     "execution_count": 75,
     "metadata": {},
     "output_type": "execute_result"
    }
   ],
   "source": [
    "# Use the describe command to find a detailed description\n",
    "people_df.describe()"
   ]
  },
  {
   "cell_type": "code",
   "execution_count": 76,
   "id": "affecting-recommendation",
   "metadata": {},
   "outputs": [
    {
     "data": {
      "image/png": "[encoded data removed]",
      "text/plain": [
       "<Figure size 432x288 with 1 Axes>"
      ]
     },
     "metadata": {
      "needs_background": "light"
     },
     "output_type": "display_data"
    }
   ],
   "source": [
    "# Find the histogram of the weights\n",
    "people_df['Weight'].hist()\n",
    "plt.show()"
   ]
  },
  {
   "cell_type": "code",
   "execution_count": 77,
   "id": "corporate-quebec",
   "metadata": {},
   "outputs": [
    {
     "data": {
      "image/png": "[encoded data removed]",
      "text/plain": [
       "<Figure size 432x288 with 1 Axes>"
      ]
     },
     "metadata": {
      "needs_background": "light"
     },
     "output_type": "display_data"
    }
   ],
   "source": [
    "# Create a scatter plot to plot the relationship between weight and height\n",
    "people_df.plot.scatter('Weight', 'Height', s=150, c='orange', edgecolor='k')\n",
    "plt.grid(True)\n",
    "plt.title('Weight vs. Height scatter plot')\n",
    "plt.xlabel('Weight (in kg)')\n",
    "plt.ylabel('Height (in cm)')\n",
    "plt.show()"
   ]
  }
 ],
 "metadata": {
  "kernelspec": {
   "display_name": "Python 3",
   "language": "python",
   "name": "python3"
  },
  "language_info": {
   "codemirror_mode": {
    "name": "ipython",
    "version": 3
   },
   "file_extension": ".py",
   "mimetype": "text/x-python",
   "name": "python",
   "nbconvert_exporter": "python",
   "pygments_lexer": "ipython3",
   "version": "3.7.7"
  }
 },
 "nbformat": 4,
 "nbformat_minor": 5
}
